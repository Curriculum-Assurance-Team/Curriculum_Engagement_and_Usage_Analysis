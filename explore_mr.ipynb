{
 "cells": [
  {
   "cell_type": "code",
   "execution_count": 1,
   "id": "47fe2b69",
   "metadata": {},
   "outputs": [],
   "source": [
    "import pandas as pd"
   ]
  },
  {
   "cell_type": "code",
   "execution_count": null,
   "id": "9a521ab6",
   "metadata": {},
   "outputs": [],
   "source": [
    "import env\n",
    "import os\n",
    "\n",
    "def get_connection(db, user=env.user, host=env.host, password=env.pwd):\n",
    "    return f'mysql+pymysql://{user}:{password}@{host}/{db}'\n",
    "    \n",
    "def get_log_data():\n",
    "    '''\n",
    "    If the csv file exists, it is read and returned as a pandas DataFrame\n",
    "    If not, pandas reads in a SQL query that acquires log data from a MySQL database.\n",
    "    The query is stored into a DataFrame, saved, and returned.\n",
    "    '''\n",
    "    filename = 'logs.csv'\n",
    "    \n",
    "    if os.path.isfile(filename):\n",
    "        return pd.read_csv(filename)\n",
    "    \n",
    "    df = pd.read_sql(sql_query=\"\"\"SELECT l.date, l.time,\n",
    "                                            l.path as lesson, \n",
    "                                            l.user_id, c.name,\n",
    "                                            l.ip, c.start_date,\n",
    "                                            c.end_date, c.program_id\n",
    "                                    FROM logs l\n",
    "                                    JOIN cohorts c ON c.id=l.cohort_id;\"\"\",\n",
    "                     get_connection(db='curriculum_logs'))\n",
    "    \n",
    "    # Assuming 'data' is your DataFrame with the provided data\n",
    "    df['date'] = pd.to_datetime(df['date'] + ' ' + df['time'])\n",
    "\n",
    "    # Drop the 'date' and 'time' columns if they're no longer needed\n",
    "    df = df.drop(['time'], axis=1)\n",
    "    \n",
    "    df = df.set_index('date')\n",
    "    \n",
    "    df.to_csv(filename)\n",
    "    \n",
    "    return df\n",
    "\n",
    "df = get_sql_data()"
   ]
  },
  {
   "cell_type": "code",
   "execution_count": 36,
   "id": "b877d54b",
   "metadata": {},
   "outputs": [
    {
     "data": {
      "text/plain": [
       "array([1, 2, 4, 3])"
      ]
     },
     "execution_count": 36,
     "metadata": {},
     "output_type": "execute_result"
    }
   ],
   "source": [
    "df['program_id'].unique()"
   ]
  },
  {
   "cell_type": "code",
   "execution_count": 41,
   "id": "d7320763",
   "metadata": {},
   "outputs": [
    {
     "data": {
      "text/plain": [
       "array(['Hampton', 'Arches', 'Quincy', 'Kings', 'Lassen', 'Glacier',\n",
       "       'Denali', 'Joshua', 'Olympic', 'Badlands', 'Ike', 'Franklin',\n",
       "       'Everglades'], dtype=object)"
      ]
     },
     "execution_count": 41,
     "metadata": {},
     "output_type": "execute_result"
    }
   ],
   "source": [
    "df[df['program_id'] == 1]['name'].unique()"
   ]
  },
  {
   "cell_type": "code",
   "execution_count": 42,
   "id": "afe2e3a7",
   "metadata": {},
   "outputs": [
    {
     "data": {
      "text/plain": [
       "array(['Teddy', 'Sequoia', 'Niagara', 'Pinnacles', 'Mammoth', 'Ulysses',\n",
       "       'Voyageurs', 'Wrangell', 'Xanadu', 'Yosemite', 'Staff', 'Zion',\n",
       "       'Andromeda', 'Betelgeuse', 'Ceres', 'Deimos', 'Europa', 'Fortuna',\n",
       "       'Apex', 'Ganymede', 'Hyperion', 'Bash', 'Jupiter', 'Kalypso',\n",
       "       'Luna', 'Marco', 'Neptune', 'Oberon'], dtype=object)"
      ]
     },
     "execution_count": 42,
     "metadata": {},
     "output_type": "execute_result"
    }
   ],
   "source": [
    "df[df['program_id'] == 2]['name'].unique()"
   ]
  },
  {
   "cell_type": "code",
   "execution_count": 43,
   "id": "d6acbe35",
   "metadata": {},
   "outputs": [
    {
     "data": {
      "text/plain": [
       "array(['Bayes', 'Curie', 'Darden', 'Easley', 'Florence'], dtype=object)"
      ]
     },
     "execution_count": 43,
     "metadata": {},
     "output_type": "execute_result"
    }
   ],
   "source": [
    "df[df['program_id'] == 3]['name'].unique()"
   ]
  },
  {
   "cell_type": "code",
   "execution_count": 44,
   "id": "e56bc182",
   "metadata": {},
   "outputs": [
    {
     "data": {
      "text/plain": [
       "array(['Apollo'], dtype=object)"
      ]
     },
     "execution_count": 44,
     "metadata": {},
     "output_type": "execute_result"
    }
   ],
   "source": [
    "df[df['program_id'] == 4]['name'].unique()"
   ]
  },
  {
   "cell_type": "code",
   "execution_count": 45,
   "id": "bc053350",
   "metadata": {
    "scrolled": true
   },
   "outputs": [
    {
     "data": {
      "text/html": [
       "<div>\n",
       "<style scoped>\n",
       "    .dataframe tbody tr th:only-of-type {\n",
       "        vertical-align: middle;\n",
       "    }\n",
       "\n",
       "    .dataframe tbody tr th {\n",
       "        vertical-align: top;\n",
       "    }\n",
       "\n",
       "    .dataframe thead th {\n",
       "        text-align: right;\n",
       "    }\n",
       "</style>\n",
       "<table border=\"1\" class=\"dataframe\">\n",
       "  <thead>\n",
       "    <tr style=\"text-align: right;\">\n",
       "      <th></th>\n",
       "      <th>lesson</th>\n",
       "      <th>user_id</th>\n",
       "      <th>name</th>\n",
       "      <th>ip</th>\n",
       "      <th>start_date</th>\n",
       "      <th>end_date</th>\n",
       "      <th>program_id</th>\n",
       "    </tr>\n",
       "    <tr>\n",
       "      <th>date</th>\n",
       "      <th></th>\n",
       "      <th></th>\n",
       "      <th></th>\n",
       "      <th></th>\n",
       "      <th></th>\n",
       "      <th></th>\n",
       "      <th></th>\n",
       "    </tr>\n",
       "  </thead>\n",
       "  <tbody>\n",
       "    <tr>\n",
       "      <th>2020-04-08 09:25:18</th>\n",
       "      <td>None</td>\n",
       "      <td>586</td>\n",
       "      <td>Curie</td>\n",
       "      <td>72.177.240.51</td>\n",
       "      <td>2020-02-03</td>\n",
       "      <td>2020-07-07</td>\n",
       "      <td>3</td>\n",
       "    </tr>\n",
       "  </tbody>\n",
       "</table>\n",
       "</div>"
      ],
      "text/plain": [
       "                    lesson  user_id   name             ip  start_date  \\\n",
       "date                                                                    \n",
       "2020-04-08 09:25:18   None      586  Curie  72.177.240.51  2020-02-03   \n",
       "\n",
       "                       end_date  program_id  \n",
       "date                                         \n",
       "2020-04-08 09:25:18  2020-07-07           3  "
      ]
     },
     "execution_count": 45,
     "metadata": {},
     "output_type": "execute_result"
    }
   ],
   "source": [
    "df[df['lesson'].isna()]"
   ]
  },
  {
   "cell_type": "code",
   "execution_count": 57,
   "id": "0c6ee468",
   "metadata": {},
   "outputs": [],
   "source": []
  },
  {
   "cell_type": "code",
   "execution_count": 64,
   "id": "c25b242c",
   "metadata": {},
   "outputs": [],
   "source": [
    "df['start_date'] = pd.to_datetime(df['start_date'])\n",
    "df['end_date'] = pd.to_datetime(df['end_date'])\n",
    "df['access_day'] = df.index.day_name()\n",
    "df['access_month'] = df.index.month\n",
    "df['access_year'] = df.index.year"
   ]
  },
  {
   "cell_type": "code",
   "execution_count": 65,
   "id": "d687f52e",
   "metadata": {},
   "outputs": [
    {
     "data": {
      "text/html": [
       "<div>\n",
       "<style scoped>\n",
       "    .dataframe tbody tr th:only-of-type {\n",
       "        vertical-align: middle;\n",
       "    }\n",
       "\n",
       "    .dataframe tbody tr th {\n",
       "        vertical-align: top;\n",
       "    }\n",
       "\n",
       "    .dataframe thead th {\n",
       "        text-align: right;\n",
       "    }\n",
       "</style>\n",
       "<table border=\"1\" class=\"dataframe\">\n",
       "  <thead>\n",
       "    <tr style=\"text-align: right;\">\n",
       "      <th></th>\n",
       "      <th>lesson</th>\n",
       "      <th>user_id</th>\n",
       "      <th>name</th>\n",
       "      <th>ip</th>\n",
       "      <th>start_date</th>\n",
       "      <th>end_date</th>\n",
       "      <th>program_id</th>\n",
       "      <th>access_year</th>\n",
       "      <th>access_day</th>\n",
       "      <th>access_month</th>\n",
       "    </tr>\n",
       "    <tr>\n",
       "      <th>date</th>\n",
       "      <th></th>\n",
       "      <th></th>\n",
       "      <th></th>\n",
       "      <th></th>\n",
       "      <th></th>\n",
       "      <th></th>\n",
       "      <th></th>\n",
       "      <th></th>\n",
       "      <th></th>\n",
       "      <th></th>\n",
       "    </tr>\n",
       "  </thead>\n",
       "  <tbody>\n",
       "    <tr>\n",
       "      <th>2018-01-26 09:55:03</th>\n",
       "      <td>/</td>\n",
       "      <td>1</td>\n",
       "      <td>Hampton</td>\n",
       "      <td>97.105.19.61</td>\n",
       "      <td>2015-09-22</td>\n",
       "      <td>2016-02-06</td>\n",
       "      <td>1</td>\n",
       "      <td>2018</td>\n",
       "      <td>Friday</td>\n",
       "      <td>1</td>\n",
       "    </tr>\n",
       "    <tr>\n",
       "      <th>2018-01-26 09:56:02</th>\n",
       "      <td>java-ii</td>\n",
       "      <td>1</td>\n",
       "      <td>Hampton</td>\n",
       "      <td>97.105.19.61</td>\n",
       "      <td>2015-09-22</td>\n",
       "      <td>2016-02-06</td>\n",
       "      <td>1</td>\n",
       "      <td>2018</td>\n",
       "      <td>Friday</td>\n",
       "      <td>1</td>\n",
       "    </tr>\n",
       "    <tr>\n",
       "      <th>2018-01-26 09:56:05</th>\n",
       "      <td>java-ii/object-oriented-programming</td>\n",
       "      <td>1</td>\n",
       "      <td>Hampton</td>\n",
       "      <td>97.105.19.61</td>\n",
       "      <td>2015-09-22</td>\n",
       "      <td>2016-02-06</td>\n",
       "      <td>1</td>\n",
       "      <td>2018</td>\n",
       "      <td>Friday</td>\n",
       "      <td>1</td>\n",
       "    </tr>\n",
       "    <tr>\n",
       "      <th>2018-01-26 09:56:06</th>\n",
       "      <td>slides/object_oriented_programming</td>\n",
       "      <td>1</td>\n",
       "      <td>Hampton</td>\n",
       "      <td>97.105.19.61</td>\n",
       "      <td>2015-09-22</td>\n",
       "      <td>2016-02-06</td>\n",
       "      <td>1</td>\n",
       "      <td>2018</td>\n",
       "      <td>Friday</td>\n",
       "      <td>1</td>\n",
       "    </tr>\n",
       "    <tr>\n",
       "      <th>2018-01-26 09:56:24</th>\n",
       "      <td>javascript-i/conditionals</td>\n",
       "      <td>2</td>\n",
       "      <td>Teddy</td>\n",
       "      <td>97.105.19.61</td>\n",
       "      <td>2018-01-08</td>\n",
       "      <td>2018-05-17</td>\n",
       "      <td>2</td>\n",
       "      <td>2018</td>\n",
       "      <td>Friday</td>\n",
       "      <td>1</td>\n",
       "    </tr>\n",
       "    <tr>\n",
       "      <th>...</th>\n",
       "      <td>...</td>\n",
       "      <td>...</td>\n",
       "      <td>...</td>\n",
       "      <td>...</td>\n",
       "      <td>...</td>\n",
       "      <td>...</td>\n",
       "      <td>...</td>\n",
       "      <td>...</td>\n",
       "      <td>...</td>\n",
       "      <td>...</td>\n",
       "    </tr>\n",
       "    <tr>\n",
       "      <th>2021-04-21 16:41:51</th>\n",
       "      <td>jquery/personal-site</td>\n",
       "      <td>64</td>\n",
       "      <td>Staff</td>\n",
       "      <td>71.150.217.33</td>\n",
       "      <td>2014-02-04</td>\n",
       "      <td>2014-02-04</td>\n",
       "      <td>2</td>\n",
       "      <td>2021</td>\n",
       "      <td>Wednesday</td>\n",
       "      <td>4</td>\n",
       "    </tr>\n",
       "    <tr>\n",
       "      <th>2021-04-21 16:42:02</th>\n",
       "      <td>jquery/mapbox-api</td>\n",
       "      <td>64</td>\n",
       "      <td>Staff</td>\n",
       "      <td>71.150.217.33</td>\n",
       "      <td>2014-02-04</td>\n",
       "      <td>2014-02-04</td>\n",
       "      <td>2</td>\n",
       "      <td>2021</td>\n",
       "      <td>Wednesday</td>\n",
       "      <td>4</td>\n",
       "    </tr>\n",
       "    <tr>\n",
       "      <th>2021-04-21 16:42:09</th>\n",
       "      <td>jquery/ajax/weather-map</td>\n",
       "      <td>64</td>\n",
       "      <td>Staff</td>\n",
       "      <td>71.150.217.33</td>\n",
       "      <td>2014-02-04</td>\n",
       "      <td>2014-02-04</td>\n",
       "      <td>2</td>\n",
       "      <td>2021</td>\n",
       "      <td>Wednesday</td>\n",
       "      <td>4</td>\n",
       "    </tr>\n",
       "    <tr>\n",
       "      <th>2021-04-21 16:44:37</th>\n",
       "      <td>anomaly-detection/discrete-probabilistic-methods</td>\n",
       "      <td>744</td>\n",
       "      <td>Staff</td>\n",
       "      <td>24.160.137.86</td>\n",
       "      <td>2014-02-04</td>\n",
       "      <td>2014-02-04</td>\n",
       "      <td>2</td>\n",
       "      <td>2021</td>\n",
       "      <td>Wednesday</td>\n",
       "      <td>4</td>\n",
       "    </tr>\n",
       "    <tr>\n",
       "      <th>2021-04-21 16:44:39</th>\n",
       "      <td>jquery/mapbox-api</td>\n",
       "      <td>64</td>\n",
       "      <td>Staff</td>\n",
       "      <td>71.150.217.33</td>\n",
       "      <td>2014-02-04</td>\n",
       "      <td>2014-02-04</td>\n",
       "      <td>2</td>\n",
       "      <td>2021</td>\n",
       "      <td>Wednesday</td>\n",
       "      <td>4</td>\n",
       "    </tr>\n",
       "  </tbody>\n",
       "</table>\n",
       "<p>847330 rows × 10 columns</p>\n",
       "</div>"
      ],
      "text/plain": [
       "                                                               lesson  \\\n",
       "date                                                                    \n",
       "2018-01-26 09:55:03                                                 /   \n",
       "2018-01-26 09:56:02                                           java-ii   \n",
       "2018-01-26 09:56:05               java-ii/object-oriented-programming   \n",
       "2018-01-26 09:56:06                slides/object_oriented_programming   \n",
       "2018-01-26 09:56:24                         javascript-i/conditionals   \n",
       "...                                                               ...   \n",
       "2021-04-21 16:41:51                              jquery/personal-site   \n",
       "2021-04-21 16:42:02                                 jquery/mapbox-api   \n",
       "2021-04-21 16:42:09                           jquery/ajax/weather-map   \n",
       "2021-04-21 16:44:37  anomaly-detection/discrete-probabilistic-methods   \n",
       "2021-04-21 16:44:39                                 jquery/mapbox-api   \n",
       "\n",
       "                     user_id     name             ip start_date   end_date  \\\n",
       "date                                                                         \n",
       "2018-01-26 09:55:03        1  Hampton   97.105.19.61 2015-09-22 2016-02-06   \n",
       "2018-01-26 09:56:02        1  Hampton   97.105.19.61 2015-09-22 2016-02-06   \n",
       "2018-01-26 09:56:05        1  Hampton   97.105.19.61 2015-09-22 2016-02-06   \n",
       "2018-01-26 09:56:06        1  Hampton   97.105.19.61 2015-09-22 2016-02-06   \n",
       "2018-01-26 09:56:24        2    Teddy   97.105.19.61 2018-01-08 2018-05-17   \n",
       "...                      ...      ...            ...        ...        ...   \n",
       "2021-04-21 16:41:51       64    Staff  71.150.217.33 2014-02-04 2014-02-04   \n",
       "2021-04-21 16:42:02       64    Staff  71.150.217.33 2014-02-04 2014-02-04   \n",
       "2021-04-21 16:42:09       64    Staff  71.150.217.33 2014-02-04 2014-02-04   \n",
       "2021-04-21 16:44:37      744    Staff  24.160.137.86 2014-02-04 2014-02-04   \n",
       "2021-04-21 16:44:39       64    Staff  71.150.217.33 2014-02-04 2014-02-04   \n",
       "\n",
       "                     program_id  access_year access_day  access_month  \n",
       "date                                                                   \n",
       "2018-01-26 09:55:03           1         2018     Friday             1  \n",
       "2018-01-26 09:56:02           1         2018     Friday             1  \n",
       "2018-01-26 09:56:05           1         2018     Friday             1  \n",
       "2018-01-26 09:56:06           1         2018     Friday             1  \n",
       "2018-01-26 09:56:24           2         2018     Friday             1  \n",
       "...                         ...          ...        ...           ...  \n",
       "2021-04-21 16:41:51           2         2021  Wednesday             4  \n",
       "2021-04-21 16:42:02           2         2021  Wednesday             4  \n",
       "2021-04-21 16:42:09           2         2021  Wednesday             4  \n",
       "2021-04-21 16:44:37           2         2021  Wednesday             4  \n",
       "2021-04-21 16:44:39           2         2021  Wednesday             4  \n",
       "\n",
       "[847330 rows x 10 columns]"
      ]
     },
     "execution_count": 65,
     "metadata": {},
     "output_type": "execute_result"
    }
   ],
   "source": [
    "df"
   ]
  },
  {
   "cell_type": "code",
   "execution_count": 48,
   "id": "2d1dbc55",
   "metadata": {},
   "outputs": [
    {
     "data": {
      "text/plain": [
       "user_id\n",
       "652        1\n",
       "649        1\n",
       "952        1\n",
       "165        1\n",
       "879        1\n",
       "       ...  \n",
       "1       7404\n",
       "314     7783\n",
       "53     12329\n",
       "64     16322\n",
       "11     17913\n",
       "Name: ip, Length: 911, dtype: int64"
      ]
     },
     "execution_count": 48,
     "metadata": {},
     "output_type": "execute_result"
    }
   ],
   "source": [
    "df.groupby('user_id')['ip'].count().sort_values()"
   ]
  },
  {
   "cell_type": "code",
   "execution_count": 49,
   "id": "ddc2ae07",
   "metadata": {},
   "outputs": [
    {
     "data": {
      "text/plain": [
       "ip\n",
       "99.203.154.95           1\n",
       "107.77.221.14           1\n",
       "172.58.99.57            1\n",
       "187.237.231.85          1\n",
       "187.237.231.72          1\n",
       "                    ...  \n",
       "76.185.145.231       4754\n",
       "71.150.217.33        6791\n",
       "192.171.117.210      9124\n",
       "97.105.19.61        60530\n",
       "97.105.19.58       268648\n",
       "Name: name, Length: 5200, dtype: int64"
      ]
     },
     "execution_count": 49,
     "metadata": {},
     "output_type": "execute_result"
    }
   ],
   "source": [
    "df.groupby('ip')['name'].count().sort_values()"
   ]
  },
  {
   "cell_type": "code",
   "execution_count": 50,
   "id": "732ed98a",
   "metadata": {
    "scrolled": true
   },
   "outputs": [
    {
     "data": {
      "text/plain": [
       "name\n",
       "Everglades        1\n",
       "Denali            4\n",
       "Apollo            5\n",
       "Franklin         72\n",
       "Badlands         93\n",
       "Ike             253\n",
       "Joshua          302\n",
       "Glacier         598\n",
       "Mammoth         691\n",
       "Niagara         755\n",
       "Quincy         1237\n",
       "Oberon         1672\n",
       "Hampton        1712\n",
       "Pinnacles      2158\n",
       "Kings          2845\n",
       "Olympic        4954\n",
       "Neptune        7276\n",
       "Sequoia        7444\n",
       "Florence       8562\n",
       "Arches         8890\n",
       "Lassen         9587\n",
       "Easley        14715\n",
       "Marco         16397\n",
       "Luna          16623\n",
       "Bash          17713\n",
       "Yosemite      20743\n",
       "Curie         21582\n",
       "Kalypso       23691\n",
       "Andromeda     25359\n",
       "Wrangell      25586\n",
       "Bayes         26538\n",
       "Xanadu        27749\n",
       "Europa        28033\n",
       "Ulysses       28534\n",
       "Betelgeuse    29356\n",
       "Hyperion      29855\n",
       "Teddy         30926\n",
       "Darden        32015\n",
       "Deimos        32888\n",
       "Apex          33568\n",
       "Ganymede      33844\n",
       "Voyageurs     35636\n",
       "Fortuna       36902\n",
       "Jupiter       37109\n",
       "Zion          38096\n",
       "Ceres         40730\n",
       "Staff         84031\n",
       "Name: ip, dtype: int64"
      ]
     },
     "execution_count": 50,
     "metadata": {},
     "output_type": "execute_result"
    }
   ],
   "source": [
    "df.groupby('name')['ip'].count().sort_values()"
   ]
  },
  {
   "cell_type": "markdown",
   "id": "a6e2ab66",
   "metadata": {},
   "source": [
    "1. Which lesson appears to attract the most traffic consistently across cohorts (per program)?\n"
   ]
  },
  {
   "cell_type": "code",
   "execution_count": null,
   "id": "e16ad3e9",
   "metadata": {},
   "outputs": [],
   "source": []
  },
  {
   "cell_type": "markdown",
   "id": "fae5ca18",
   "metadata": {},
   "source": [
    "2. Is there a cohort that referred to a lesson significantly more than other cohorts seemed to gloss over?\n",
    "- Home page is most common"
   ]
  },
  {
   "cell_type": "code",
   "execution_count": 55,
   "id": "2951fa71",
   "metadata": {},
   "outputs": [
    {
     "data": {
      "text/plain": [
       "name       lesson                              \n",
       "Zion       web-design/ux/purpose                      1\n",
       "Niagara    java-ii/object-oriented-programming        1\n",
       "           java-ii/inheritance-and-polymorphism       1\n",
       "Ceres      register.                                  1\n",
       "           slides/collections                         1\n",
       "                                                   ... \n",
       "Bayes      /                                       1967\n",
       "Fortuna    /                                       2038\n",
       "Voyageurs  /                                       2101\n",
       "Darden     /                                       2980\n",
       "Staff      /                                       6340\n",
       "Name: ip, Length: 13565, dtype: int64"
      ]
     },
     "execution_count": 55,
     "metadata": {},
     "output_type": "execute_result"
    }
   ],
   "source": [
    "df.groupby(['name','lesson'])['ip'].count().sort_values()"
   ]
  },
  {
   "cell_type": "markdown",
   "id": "8cd1bcbb",
   "metadata": {},
   "source": [
    "3. Are there students who, when active, hardly access the curriculum? If so, what information do you have about these students?\n"
   ]
  },
  {
   "cell_type": "code",
   "execution_count": 70,
   "id": "205a3d03",
   "metadata": {},
   "outputs": [],
   "source": [
    "active_logs = df[(df.index < df['end_date']) &\n",
    "                 (df['name'] != 'Staff')]"
   ]
  },
  {
   "cell_type": "code",
   "execution_count": 71,
   "id": "e1228cb5",
   "metadata": {},
   "outputs": [
    {
     "data": {
      "text/html": [
       "<div>\n",
       "<style scoped>\n",
       "    .dataframe tbody tr th:only-of-type {\n",
       "        vertical-align: middle;\n",
       "    }\n",
       "\n",
       "    .dataframe tbody tr th {\n",
       "        vertical-align: top;\n",
       "    }\n",
       "\n",
       "    .dataframe thead th {\n",
       "        text-align: right;\n",
       "    }\n",
       "</style>\n",
       "<table border=\"1\" class=\"dataframe\">\n",
       "  <thead>\n",
       "    <tr style=\"text-align: right;\">\n",
       "      <th></th>\n",
       "      <th>lesson</th>\n",
       "      <th>user_id</th>\n",
       "      <th>name</th>\n",
       "      <th>ip</th>\n",
       "      <th>start_date</th>\n",
       "      <th>end_date</th>\n",
       "      <th>program_id</th>\n",
       "      <th>access_year</th>\n",
       "      <th>access_day</th>\n",
       "      <th>access_month</th>\n",
       "    </tr>\n",
       "    <tr>\n",
       "      <th>date</th>\n",
       "      <th></th>\n",
       "      <th></th>\n",
       "      <th></th>\n",
       "      <th></th>\n",
       "      <th></th>\n",
       "      <th></th>\n",
       "      <th></th>\n",
       "      <th></th>\n",
       "      <th></th>\n",
       "      <th></th>\n",
       "    </tr>\n",
       "  </thead>\n",
       "  <tbody>\n",
       "    <tr>\n",
       "      <th>2018-01-26 09:56:24</th>\n",
       "      <td>javascript-i/conditionals</td>\n",
       "      <td>2</td>\n",
       "      <td>Teddy</td>\n",
       "      <td>97.105.19.61</td>\n",
       "      <td>2018-01-08</td>\n",
       "      <td>2018-05-17</td>\n",
       "      <td>2</td>\n",
       "      <td>2018</td>\n",
       "      <td>Friday</td>\n",
       "      <td>1</td>\n",
       "    </tr>\n",
       "    <tr>\n",
       "      <th>2018-01-26 09:56:41</th>\n",
       "      <td>javascript-i/loops</td>\n",
       "      <td>2</td>\n",
       "      <td>Teddy</td>\n",
       "      <td>97.105.19.61</td>\n",
       "      <td>2018-01-08</td>\n",
       "      <td>2018-05-17</td>\n",
       "      <td>2</td>\n",
       "      <td>2018</td>\n",
       "      <td>Friday</td>\n",
       "      <td>1</td>\n",
       "    </tr>\n",
       "    <tr>\n",
       "      <th>2018-01-26 09:56:46</th>\n",
       "      <td>javascript-i/conditionals</td>\n",
       "      <td>3</td>\n",
       "      <td>Teddy</td>\n",
       "      <td>97.105.19.61</td>\n",
       "      <td>2018-01-08</td>\n",
       "      <td>2018-05-17</td>\n",
       "      <td>2</td>\n",
       "      <td>2018</td>\n",
       "      <td>Friday</td>\n",
       "      <td>1</td>\n",
       "    </tr>\n",
       "    <tr>\n",
       "      <th>2018-01-26 09:56:48</th>\n",
       "      <td>javascript-i/functions</td>\n",
       "      <td>3</td>\n",
       "      <td>Teddy</td>\n",
       "      <td>97.105.19.61</td>\n",
       "      <td>2018-01-08</td>\n",
       "      <td>2018-05-17</td>\n",
       "      <td>2</td>\n",
       "      <td>2018</td>\n",
       "      <td>Friday</td>\n",
       "      <td>1</td>\n",
       "    </tr>\n",
       "    <tr>\n",
       "      <th>2018-01-26 09:56:59</th>\n",
       "      <td>javascript-i/loops</td>\n",
       "      <td>2</td>\n",
       "      <td>Teddy</td>\n",
       "      <td>97.105.19.61</td>\n",
       "      <td>2018-01-08</td>\n",
       "      <td>2018-05-17</td>\n",
       "      <td>2</td>\n",
       "      <td>2018</td>\n",
       "      <td>Friday</td>\n",
       "      <td>1</td>\n",
       "    </tr>\n",
       "    <tr>\n",
       "      <th>...</th>\n",
       "      <td>...</td>\n",
       "      <td>...</td>\n",
       "      <td>...</td>\n",
       "      <td>...</td>\n",
       "      <td>...</td>\n",
       "      <td>...</td>\n",
       "      <td>...</td>\n",
       "      <td>...</td>\n",
       "      <td>...</td>\n",
       "      <td>...</td>\n",
       "    </tr>\n",
       "    <tr>\n",
       "      <th>2021-04-21 16:36:09</th>\n",
       "      <td>jquery/personal-site</td>\n",
       "      <td>869</td>\n",
       "      <td>Marco</td>\n",
       "      <td>136.50.98.51</td>\n",
       "      <td>2021-01-25</td>\n",
       "      <td>2021-07-19</td>\n",
       "      <td>2</td>\n",
       "      <td>2021</td>\n",
       "      <td>Wednesday</td>\n",
       "      <td>4</td>\n",
       "    </tr>\n",
       "    <tr>\n",
       "      <th>2021-04-21 16:36:34</th>\n",
       "      <td>html-css/css-ii/bootstrap-grid-system</td>\n",
       "      <td>948</td>\n",
       "      <td>Neptune</td>\n",
       "      <td>104.48.214.211</td>\n",
       "      <td>2021-03-15</td>\n",
       "      <td>2021-09-03</td>\n",
       "      <td>2</td>\n",
       "      <td>2021</td>\n",
       "      <td>Wednesday</td>\n",
       "      <td>4</td>\n",
       "    </tr>\n",
       "    <tr>\n",
       "      <th>2021-04-21 16:37:48</th>\n",
       "      <td>java-iii</td>\n",
       "      <td>834</td>\n",
       "      <td>Luna</td>\n",
       "      <td>67.11.50.23</td>\n",
       "      <td>2020-12-07</td>\n",
       "      <td>2021-06-08</td>\n",
       "      <td>2</td>\n",
       "      <td>2021</td>\n",
       "      <td>Wednesday</td>\n",
       "      <td>4</td>\n",
       "    </tr>\n",
       "    <tr>\n",
       "      <th>2021-04-21 16:38:14</th>\n",
       "      <td>java-iii/servlets</td>\n",
       "      <td>834</td>\n",
       "      <td>Luna</td>\n",
       "      <td>67.11.50.23</td>\n",
       "      <td>2020-12-07</td>\n",
       "      <td>2021-06-08</td>\n",
       "      <td>2</td>\n",
       "      <td>2021</td>\n",
       "      <td>Wednesday</td>\n",
       "      <td>4</td>\n",
       "    </tr>\n",
       "    <tr>\n",
       "      <th>2021-04-21 16:41:51</th>\n",
       "      <td>javascript-i/bom-and-dom/dom</td>\n",
       "      <td>875</td>\n",
       "      <td>Marco</td>\n",
       "      <td>24.242.150.231</td>\n",
       "      <td>2021-01-25</td>\n",
       "      <td>2021-07-19</td>\n",
       "      <td>2</td>\n",
       "      <td>2021</td>\n",
       "      <td>Wednesday</td>\n",
       "      <td>4</td>\n",
       "    </tr>\n",
       "  </tbody>\n",
       "</table>\n",
       "<p>647198 rows × 10 columns</p>\n",
       "</div>"
      ],
      "text/plain": [
       "                                                    lesson  user_id     name  \\\n",
       "date                                                                           \n",
       "2018-01-26 09:56:24              javascript-i/conditionals        2    Teddy   \n",
       "2018-01-26 09:56:41                     javascript-i/loops        2    Teddy   \n",
       "2018-01-26 09:56:46              javascript-i/conditionals        3    Teddy   \n",
       "2018-01-26 09:56:48                 javascript-i/functions        3    Teddy   \n",
       "2018-01-26 09:56:59                     javascript-i/loops        2    Teddy   \n",
       "...                                                    ...      ...      ...   \n",
       "2021-04-21 16:36:09                   jquery/personal-site      869    Marco   \n",
       "2021-04-21 16:36:34  html-css/css-ii/bootstrap-grid-system      948  Neptune   \n",
       "2021-04-21 16:37:48                               java-iii      834     Luna   \n",
       "2021-04-21 16:38:14                      java-iii/servlets      834     Luna   \n",
       "2021-04-21 16:41:51           javascript-i/bom-and-dom/dom      875    Marco   \n",
       "\n",
       "                                 ip start_date   end_date  program_id  \\\n",
       "date                                                                    \n",
       "2018-01-26 09:56:24    97.105.19.61 2018-01-08 2018-05-17           2   \n",
       "2018-01-26 09:56:41    97.105.19.61 2018-01-08 2018-05-17           2   \n",
       "2018-01-26 09:56:46    97.105.19.61 2018-01-08 2018-05-17           2   \n",
       "2018-01-26 09:56:48    97.105.19.61 2018-01-08 2018-05-17           2   \n",
       "2018-01-26 09:56:59    97.105.19.61 2018-01-08 2018-05-17           2   \n",
       "...                             ...        ...        ...         ...   \n",
       "2021-04-21 16:36:09    136.50.98.51 2021-01-25 2021-07-19           2   \n",
       "2021-04-21 16:36:34  104.48.214.211 2021-03-15 2021-09-03           2   \n",
       "2021-04-21 16:37:48     67.11.50.23 2020-12-07 2021-06-08           2   \n",
       "2021-04-21 16:38:14     67.11.50.23 2020-12-07 2021-06-08           2   \n",
       "2021-04-21 16:41:51  24.242.150.231 2021-01-25 2021-07-19           2   \n",
       "\n",
       "                     access_year access_day  access_month  \n",
       "date                                                       \n",
       "2018-01-26 09:56:24         2018     Friday             1  \n",
       "2018-01-26 09:56:41         2018     Friday             1  \n",
       "2018-01-26 09:56:46         2018     Friday             1  \n",
       "2018-01-26 09:56:48         2018     Friday             1  \n",
       "2018-01-26 09:56:59         2018     Friday             1  \n",
       "...                          ...        ...           ...  \n",
       "2021-04-21 16:36:09         2021  Wednesday             4  \n",
       "2021-04-21 16:36:34         2021  Wednesday             4  \n",
       "2021-04-21 16:37:48         2021  Wednesday             4  \n",
       "2021-04-21 16:38:14         2021  Wednesday             4  \n",
       "2021-04-21 16:41:51         2021  Wednesday             4  \n",
       "\n",
       "[647198 rows x 10 columns]"
      ]
     },
     "execution_count": 71,
     "metadata": {},
     "output_type": "execute_result"
    }
   ],
   "source": [
    "active_logs"
   ]
  },
  {
   "cell_type": "code",
   "execution_count": 73,
   "id": "c8417e69",
   "metadata": {},
   "outputs": [
    {
     "data": {
      "text/plain": [
       "user_id\n",
       "652        1\n",
       "649        1\n",
       "952        1\n",
       "165        1\n",
       "879        1\n",
       "       ...  \n",
       "1       7404\n",
       "314     7783\n",
       "53     12329\n",
       "64     16322\n",
       "11     17913\n",
       "Name: ip, Length: 911, dtype: int64"
      ]
     },
     "execution_count": 73,
     "metadata": {},
     "output_type": "execute_result"
    }
   ],
   "source": [
    "df.groupby('user_id')['ip'].count().sort_values()"
   ]
  },
  {
   "cell_type": "markdown",
   "id": "0c6abc2b",
   "metadata": {},
   "source": [
    "4. Is there any suspicious activity, such as users/machines/etc accessing the curriculum who shouldn’t be? Does it appear that any web-scraping is happening? Are there any suspicious IP addresses?\n"
   ]
  },
  {
   "cell_type": "code",
   "execution_count": 78,
   "id": "871c30c5",
   "metadata": {},
   "outputs": [
    {
     "data": {
      "text/html": [
       "<div>\n",
       "<style scoped>\n",
       "    .dataframe tbody tr th:only-of-type {\n",
       "        vertical-align: middle;\n",
       "    }\n",
       "\n",
       "    .dataframe tbody tr th {\n",
       "        vertical-align: top;\n",
       "    }\n",
       "\n",
       "    .dataframe thead th {\n",
       "        text-align: right;\n",
       "    }\n",
       "</style>\n",
       "<table border=\"1\" class=\"dataframe\">\n",
       "  <thead>\n",
       "    <tr style=\"text-align: right;\">\n",
       "      <th></th>\n",
       "      <th>lesson</th>\n",
       "      <th>user_id</th>\n",
       "      <th>name</th>\n",
       "      <th>ip</th>\n",
       "      <th>start_date</th>\n",
       "      <th>end_date</th>\n",
       "      <th>program_id</th>\n",
       "      <th>access_year</th>\n",
       "      <th>access_day</th>\n",
       "      <th>access_month</th>\n",
       "    </tr>\n",
       "    <tr>\n",
       "      <th>date</th>\n",
       "      <th></th>\n",
       "      <th></th>\n",
       "      <th></th>\n",
       "      <th></th>\n",
       "      <th></th>\n",
       "      <th></th>\n",
       "      <th></th>\n",
       "      <th></th>\n",
       "      <th></th>\n",
       "      <th></th>\n",
       "    </tr>\n",
       "  </thead>\n",
       "  <tbody>\n",
       "    <tr>\n",
       "      <th>2018-01-26 10:41:22</th>\n",
       "      <td>javascript-i/conditionals</td>\n",
       "      <td>19</td>\n",
       "      <td>Teddy</td>\n",
       "      <td>97.105.19.61</td>\n",
       "      <td>2018-01-08</td>\n",
       "      <td>2018-05-17</td>\n",
       "      <td>2</td>\n",
       "      <td>2018</td>\n",
       "      <td>Friday</td>\n",
       "      <td>1</td>\n",
       "    </tr>\n",
       "    <tr>\n",
       "      <th>2018-01-26 11:36:38</th>\n",
       "      <td>javascript-i/functions</td>\n",
       "      <td>26</td>\n",
       "      <td>Pinnacles</td>\n",
       "      <td>97.105.19.61</td>\n",
       "      <td>2017-03-27</td>\n",
       "      <td>2017-07-20</td>\n",
       "      <td>2</td>\n",
       "      <td>2018</td>\n",
       "      <td>Friday</td>\n",
       "      <td>1</td>\n",
       "    </tr>\n",
       "    <tr>\n",
       "      <th>2018-01-26 12:11:15</th>\n",
       "      <td>javascript-i/loops</td>\n",
       "      <td>30</td>\n",
       "      <td>Teddy</td>\n",
       "      <td>97.105.19.61</td>\n",
       "      <td>2018-01-08</td>\n",
       "      <td>2018-05-17</td>\n",
       "      <td>2</td>\n",
       "      <td>2018</td>\n",
       "      <td>Friday</td>\n",
       "      <td>1</td>\n",
       "    </tr>\n",
       "    <tr>\n",
       "      <th>2018-01-26 13:02:29</th>\n",
       "      <td>appendix</td>\n",
       "      <td>17</td>\n",
       "      <td>Sequoia</td>\n",
       "      <td>12.189.101.90</td>\n",
       "      <td>2017-09-27</td>\n",
       "      <td>2018-02-15</td>\n",
       "      <td>2</td>\n",
       "      <td>2018</td>\n",
       "      <td>Friday</td>\n",
       "      <td>1</td>\n",
       "    </tr>\n",
       "    <tr>\n",
       "      <th>2018-01-26 13:02:31</th>\n",
       "      <td>appendix/capstone-workbook</td>\n",
       "      <td>17</td>\n",
       "      <td>Sequoia</td>\n",
       "      <td>12.189.101.90</td>\n",
       "      <td>2017-09-27</td>\n",
       "      <td>2018-02-15</td>\n",
       "      <td>2</td>\n",
       "      <td>2018</td>\n",
       "      <td>Friday</td>\n",
       "      <td>1</td>\n",
       "    </tr>\n",
       "    <tr>\n",
       "      <th>...</th>\n",
       "      <td>...</td>\n",
       "      <td>...</td>\n",
       "      <td>...</td>\n",
       "      <td>...</td>\n",
       "      <td>...</td>\n",
       "      <td>...</td>\n",
       "      <td>...</td>\n",
       "      <td>...</td>\n",
       "      <td>...</td>\n",
       "      <td>...</td>\n",
       "    </tr>\n",
       "    <tr>\n",
       "      <th>2021-04-21 15:53:08</th>\n",
       "      <td>java-i</td>\n",
       "      <td>890</td>\n",
       "      <td>Marco</td>\n",
       "      <td>70.239.184.149</td>\n",
       "      <td>2021-01-25</td>\n",
       "      <td>2021-07-19</td>\n",
       "      <td>2</td>\n",
       "      <td>2021</td>\n",
       "      <td>Wednesday</td>\n",
       "      <td>4</td>\n",
       "    </tr>\n",
       "    <tr>\n",
       "      <th>2021-04-21 16:04:04</th>\n",
       "      <td>java-ii</td>\n",
       "      <td>64</td>\n",
       "      <td>Staff</td>\n",
       "      <td>71.150.217.33</td>\n",
       "      <td>2014-02-04</td>\n",
       "      <td>2014-02-04</td>\n",
       "      <td>2</td>\n",
       "      <td>2021</td>\n",
       "      <td>Wednesday</td>\n",
       "      <td>4</td>\n",
       "    </tr>\n",
       "    <tr>\n",
       "      <th>2021-04-21 16:04:04</th>\n",
       "      <td>mysql</td>\n",
       "      <td>821</td>\n",
       "      <td>Luna</td>\n",
       "      <td>136.50.16.223</td>\n",
       "      <td>2020-12-07</td>\n",
       "      <td>2021-06-08</td>\n",
       "      <td>2</td>\n",
       "      <td>2021</td>\n",
       "      <td>Wednesday</td>\n",
       "      <td>4</td>\n",
       "    </tr>\n",
       "    <tr>\n",
       "      <th>2021-04-21 16:05:32</th>\n",
       "      <td>java-i/console-io</td>\n",
       "      <td>64</td>\n",
       "      <td>Staff</td>\n",
       "      <td>71.150.217.33</td>\n",
       "      <td>2014-02-04</td>\n",
       "      <td>2014-02-04</td>\n",
       "      <td>2</td>\n",
       "      <td>2021</td>\n",
       "      <td>Wednesday</td>\n",
       "      <td>4</td>\n",
       "    </tr>\n",
       "    <tr>\n",
       "      <th>2021-04-21 16:41:51</th>\n",
       "      <td>jquery/personal-site</td>\n",
       "      <td>64</td>\n",
       "      <td>Staff</td>\n",
       "      <td>71.150.217.33</td>\n",
       "      <td>2014-02-04</td>\n",
       "      <td>2014-02-04</td>\n",
       "      <td>2</td>\n",
       "      <td>2021</td>\n",
       "      <td>Wednesday</td>\n",
       "      <td>4</td>\n",
       "    </tr>\n",
       "  </tbody>\n",
       "</table>\n",
       "<p>40953 rows × 10 columns</p>\n",
       "</div>"
      ],
      "text/plain": [
       "                                         lesson  user_id       name  \\\n",
       "date                                                                  \n",
       "2018-01-26 10:41:22   javascript-i/conditionals       19      Teddy   \n",
       "2018-01-26 11:36:38      javascript-i/functions       26  Pinnacles   \n",
       "2018-01-26 12:11:15          javascript-i/loops       30      Teddy   \n",
       "2018-01-26 13:02:29                    appendix       17    Sequoia   \n",
       "2018-01-26 13:02:31  appendix/capstone-workbook       17    Sequoia   \n",
       "...                                         ...      ...        ...   \n",
       "2021-04-21 15:53:08                      java-i      890      Marco   \n",
       "2021-04-21 16:04:04                     java-ii       64      Staff   \n",
       "2021-04-21 16:04:04                       mysql      821       Luna   \n",
       "2021-04-21 16:05:32           java-i/console-io       64      Staff   \n",
       "2021-04-21 16:41:51        jquery/personal-site       64      Staff   \n",
       "\n",
       "                                 ip start_date   end_date  program_id  \\\n",
       "date                                                                    \n",
       "2018-01-26 10:41:22    97.105.19.61 2018-01-08 2018-05-17           2   \n",
       "2018-01-26 11:36:38    97.105.19.61 2017-03-27 2017-07-20           2   \n",
       "2018-01-26 12:11:15    97.105.19.61 2018-01-08 2018-05-17           2   \n",
       "2018-01-26 13:02:29   12.189.101.90 2017-09-27 2018-02-15           2   \n",
       "2018-01-26 13:02:31   12.189.101.90 2017-09-27 2018-02-15           2   \n",
       "...                             ...        ...        ...         ...   \n",
       "2021-04-21 15:53:08  70.239.184.149 2021-01-25 2021-07-19           2   \n",
       "2021-04-21 16:04:04   71.150.217.33 2014-02-04 2014-02-04           2   \n",
       "2021-04-21 16:04:04   136.50.16.223 2020-12-07 2021-06-08           2   \n",
       "2021-04-21 16:05:32   71.150.217.33 2014-02-04 2014-02-04           2   \n",
       "2021-04-21 16:41:51   71.150.217.33 2014-02-04 2014-02-04           2   \n",
       "\n",
       "                     access_year access_day  access_month  \n",
       "date                                                       \n",
       "2018-01-26 10:41:22         2018     Friday             1  \n",
       "2018-01-26 11:36:38         2018     Friday             1  \n",
       "2018-01-26 12:11:15         2018     Friday             1  \n",
       "2018-01-26 13:02:29         2018     Friday             1  \n",
       "2018-01-26 13:02:31         2018     Friday             1  \n",
       "...                          ...        ...           ...  \n",
       "2021-04-21 15:53:08         2021  Wednesday             4  \n",
       "2021-04-21 16:04:04         2021  Wednesday             4  \n",
       "2021-04-21 16:04:04         2021  Wednesday             4  \n",
       "2021-04-21 16:05:32         2021  Wednesday             4  \n",
       "2021-04-21 16:41:51         2021  Wednesday             4  \n",
       "\n",
       "[40953 rows x 10 columns]"
      ]
     },
     "execution_count": 78,
     "metadata": {},
     "output_type": "execute_result"
    }
   ],
   "source": [
    "df[df.index.duplicated()]"
   ]
  },
  {
   "cell_type": "markdown",
   "id": "8fb61d3e",
   "metadata": {},
   "source": [
    "5. At some point in 2019, the ability for students and alumni to access both curriculums (web dev to ds, ds to web dev) should have been shut off. Do you see any evidence of that happening? Did it happen before?\n"
   ]
  },
  {
   "cell_type": "code",
   "execution_count": null,
   "id": "69c2e6e6",
   "metadata": {},
   "outputs": [],
   "source": []
  },
  {
   "cell_type": "markdown",
   "id": "faa4b327",
   "metadata": {},
   "source": [
    "6. What topics are grads continuing to reference after graduation and into their jobs (for each program)?\n"
   ]
  },
  {
   "cell_type": "code",
   "execution_count": 66,
   "id": "e4764e37",
   "metadata": {},
   "outputs": [],
   "source": [
    "alumni_logs = df[(df.index > df['end_date']) &\n",
    "                 (df['name'] != 'Staff')]"
   ]
  },
  {
   "cell_type": "code",
   "execution_count": 79,
   "id": "0a7ae046",
   "metadata": {},
   "outputs": [
    {
     "data": {
      "text/plain": [
       "/                              9228\n",
       "javascript-i                   3152\n",
       "spring                         2870\n",
       "search/search_index.json       2834\n",
       "html-css                       2403\n",
       "                               ... \n",
       "10.04.04_TextClassification       1\n",
       "10.04.05_TopicModeling            1\n",
       "10.10_Exercises                   1\n",
       "11.00_Intro.md                    1\n",
       "7.04.01_Partitioning              1\n",
       "Name: lesson, Length: 1377, dtype: int64"
      ]
     },
     "execution_count": 79,
     "metadata": {},
     "output_type": "execute_result"
    }
   ],
   "source": [
    "alumni_logs['lesson'].value_counts()"
   ]
  },
  {
   "cell_type": "code",
   "execution_count": 80,
   "id": "958c4af5",
   "metadata": {
    "scrolled": true
   },
   "outputs": [
    {
     "data": {
      "text/plain": [
       "javascript-i                                                                 3152\n",
       "javascript-ii                                                                1988\n",
       "javascript-i/functions                                                        785\n",
       "javascript-i/javascript-with-html                                             775\n",
       "javascript-i/loops                                                            644\n",
       "javascript-ii/promises                                                        625\n",
       "javascript-i/conditionals                                                     613\n",
       "javascript-ii/es6                                                             611\n",
       "javascript-i/introduction/working-with-data-types-operators-and-variables     577\n",
       "javascript-i/bom-and-dom/dom                                                  575\n",
       "javascript-ii/ajax-api                                                        575\n",
       "javascript-ii/npm                                                             568\n",
       "javascript-ii/map-filter-reduce                                               558\n",
       "javascript-i/introduction/primitive-types                                     504\n",
       "javascript-i/bom-and-dom/bom                                                  493\n",
       "javascript-i/arrays/manipulating                                              481\n",
       "javascript-i/introduction/operators                                           475\n",
       "javascript-i/objects                                                          473\n",
       "javascript-i/arrays                                                           403\n",
       "javascript-i/introduction                                                     398\n",
       "javascript-ii/modules                                                         386\n",
       "javascript-i/coffee-project                                                   384\n",
       "javascript-i/bom-and-dom/dom-events                                           378\n",
       "javascript-i/mapbox-api                                                       362\n",
       "javascript-i/introduction/variables                                           347\n",
       "javascript-i/objects/math                                                     246\n",
       "javascript-i/testing-user-functions                                           246\n",
       "javascript-i/google-maps-api                                                  226\n",
       "javascript-i/bom-and-dom                                                      193\n",
       "javascript-ii/RESTful-api                                                     183\n",
       "javascript-i/bom-and-dom/calculator                                           119\n",
       "javascript-ii/promisesdfghjkjhgfs                                               1\n",
       "Name: lesson, dtype: int64"
      ]
     },
     "execution_count": 80,
     "metadata": {},
     "output_type": "execute_result"
    }
   ],
   "source": [
    "alumni_logs[alumni_logs['lesson'].str.startswith('javascript-i')]['lesson'].value_counts()\n"
   ]
  },
  {
   "cell_type": "code",
   "execution_count": 81,
   "id": "8cac2cd9",
   "metadata": {},
   "outputs": [
    {
     "data": {
      "text/plain": [
       "spring                                         2870\n",
       "spring/fundamentals/controllers                1299\n",
       "spring/setup                                   1236\n",
       "spring/fundamentals/views                      1166\n",
       "spring/fundamentals/repositories               1073\n",
       "spring/fundamentals/form-model-binding          737\n",
       "spring/fundamentals/relationships               709\n",
       "spring/fundamentals/security/authentication     698\n",
       "spring/fundamentals/services                    631\n",
       "spring/fundamentals/security                    391\n",
       "spring/extra-features/json-response             285\n",
       "spring/extra-features/form-validation           238\n",
       "spring/extra-features/file-upload               221\n",
       "spring/extra-features/error-pages               157\n",
       "spring/extra-features                           129\n",
       "spring/fundamentals/integration-tests           119\n",
       "spring/fundamentals                               3\n",
       "spring/security                                   1\n",
       "Name: lesson, dtype: int64"
      ]
     },
     "execution_count": 81,
     "metadata": {},
     "output_type": "execute_result"
    }
   ],
   "source": [
    "alumni_logs[alumni_logs['lesson'].str.startswith('spring')]['lesson'].value_counts()\n"
   ]
  },
  {
   "cell_type": "code",
   "execution_count": 82,
   "id": "0cca480c",
   "metadata": {},
   "outputs": [
    {
     "data": {
      "text/plain": [
       "html-css                                       2403\n",
       "html-css/elements                               937\n",
       "html-css/introduction                           800\n",
       "html-css/forms                                  671\n",
       "html-css/css-i/selectors-and-properties         466\n",
       "html-css/css-ii/bootstrap-grid-system           443\n",
       "html-css/css-ii/bootstrap-introduction          440\n",
       "html-css/css-i/box-model                        430\n",
       "html-css/css-i/positioning                      399\n",
       "html-css/css-ii/media-queries                   398\n",
       "html-css/css-i/introduction                     368\n",
       "html-css/css-i/flexbox/flexbox-fundamentals     274\n",
       "html-css/css-i                                  234\n",
       "html-css/css-i/flexbox/flexbox-in-practice      188\n",
       "html-css/css-ii/grids                           175\n",
       "html-css/css-ii                                 164\n",
       "html-css/css-i/grid/css-grid-fundamentals       146\n",
       "html-css/css-i/grid/css-grid-intro              106\n",
       "html-css/css-i/grid/css-grid-in-practice         87\n",
       "html-css/css-i/flexbox                           26\n",
       "html-css/css-i/css-resets                        14\n",
       "html-css/media-queries                            4\n",
       "html-css/bootstrap-grid-system                    1\n",
       "Name: lesson, dtype: int64"
      ]
     },
     "execution_count": 82,
     "metadata": {},
     "output_type": "execute_result"
    }
   ],
   "source": [
    "alumni_logs[alumni_logs['lesson'].str.startswith('html-css')]['lesson'].value_counts()\n"
   ]
  },
  {
   "cell_type": "code",
   "execution_count": null,
   "id": "b5c48349",
   "metadata": {},
   "outputs": [],
   "source": [
    "alumni_logs[alumni_logs['lesson'].str.startswith('html-css')]['lesson'].value_counts()\n"
   ]
  },
  {
   "cell_type": "markdown",
   "id": "d4998e39",
   "metadata": {},
   "source": [
    "7. Which lessons are least accessed?\n"
   ]
  },
  {
   "cell_type": "code",
   "execution_count": null,
   "id": "b82f00e5",
   "metadata": {},
   "outputs": [],
   "source": []
  },
  {
   "cell_type": "markdown",
   "id": "f39f2cb1",
   "metadata": {},
   "source": [
    "8. Anything else I should be aware of?\n"
   ]
  },
  {
   "cell_type": "code",
   "execution_count": null,
   "id": "5f2d8ccf",
   "metadata": {},
   "outputs": [],
   "source": []
  }
 ],
 "metadata": {
  "kernelspec": {
   "display_name": "Python 3 (ipykernel)",
   "language": "python",
   "name": "python3"
  },
  "language_info": {
   "codemirror_mode": {
    "name": "ipython",
    "version": 3
   },
   "file_extension": ".py",
   "mimetype": "text/x-python",
   "name": "python",
   "nbconvert_exporter": "python",
   "pygments_lexer": "ipython3",
   "version": "3.10.9"
  },
  "varInspector": {
   "cols": {
    "lenName": 16,
    "lenType": 16,
    "lenVar": 40
   },
   "kernels_config": {
    "python": {
     "delete_cmd_postfix": "",
     "delete_cmd_prefix": "del ",
     "library": "var_list.py",
     "varRefreshCmd": "print(var_dic_list())"
    },
    "r": {
     "delete_cmd_postfix": ") ",
     "delete_cmd_prefix": "rm(",
     "library": "var_list.r",
     "varRefreshCmd": "cat(var_dic_list()) "
    }
   },
   "types_to_exclude": [
    "module",
    "function",
    "builtin_function_or_method",
    "instance",
    "_Feature"
   ],
   "window_display": false
  }
 },
 "nbformat": 4,
 "nbformat_minor": 5
}
