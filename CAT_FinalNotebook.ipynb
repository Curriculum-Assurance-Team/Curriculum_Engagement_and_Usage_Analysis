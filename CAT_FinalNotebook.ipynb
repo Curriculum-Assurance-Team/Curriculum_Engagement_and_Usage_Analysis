{
 "cells": [
  {
   "cell_type": "markdown",
   "id": "90af4eb4",
   "metadata": {},
   "source": [
    "# <span style= 'color: #7A3803'> Curriculum Engagement and Usage Analysis\n",
    "- <span style= 'color: #EC9706'> Team: Miatta Sinayoko, Martin Reye and Annie Carter\n",
    "- <span style= 'color: #EC9706'> Sourced by CodeUp, LLC"
   ]
  },
  {
   "cell_type": "markdown",
   "id": "81e8f5a6",
   "metadata": {},
   "source": [
    "# <span style ='color:#7A3803'><center> <b>EXECUTIVE SUMMARY</b></center>\n",
    "    \n",
    "## <span style ='color:#D16002'> Project Background and Description\n",
    "In preparation for the upcoming Thursday afternoon board meeting, we are currently analyzing the usage patterns of our educational curriculum using anomaly detection techniques. Our aim is to identify any inconsistencies or issues and provide insights into cohort engagement, detect irregular activities, and uncover trends in post-graduation knowledge retention. This initiative is designed to provide you with comprehensive data to facilitate informed discussions and decision-making during the board meeting.\n",
    "\n",
    "## <span style ='color:#D16002'>Project Goal\n",
    "\n",
    "The primary objectives are:\n",
    "* Analyze lesson popularity across programs, cohort engagement differences, and low engagement student profiles to enhance curriculum effectiveness.\n",
    "* Investigate anomalies, security breaches, and cross-curriculum access, while assessing post-graduation knowledge impact.\n",
    "* Uncover insights from underutilized lessons and unexpected trends, providing comprehensive data for informed decision-making.\n",
    "\n",
    "## <span style ='color:#D16002'>Initial Questions\n",
    "1. Identify the lesson that consistently garners the highest traffic across cohorts within each program?\n",
    "2. Is there a particular cohort that has demonstrated significantly higher engagement with a specific lesson than other cohorts, warranting further investigation?\n",
    "3. Identify instances of active students who exhibit minimal interaction with the curriculum? If so,provide insights into these students' behavior and engagement patterns?\n",
    "4. Detect any potentially unauthorized access or suspicious activities, including unusual access patterns or indications of web scraping? Are there any indications of suspicious IP addresses?\n",
    "5. Has the access for students and alumni to both curriculums (web development to data science, data science to web development) been disabled as intended at some point in 2019? Confirm if this change was implemented and if so, when?\n",
    "6. Outline the topics that graduates continue to reference beyond their graduation and into their professional roles for both programs?\n",
    "7. Which lessons have recorded the lowest levels of access?\n",
    "8. Is there any additional information or insights that you believe would be pertinent for me to be aware of?\n",
    "\n",
    "## <span style ='color:#D16002'>Data Dictionary\n",
    "The data was acquired from CodeUP, LLC's 'curricular_logs' dataset, initially containing 847,330 rows and 7 columns. The team distributed tasks to effectively utilize and manipulate the original dataframe in order to address the specified questions.\n",
    "\n",
    "|    Original Column Name     |   Target    |       Data Type          |       Definition              |\n",
    "|-----------------------------|-------------|--------------------------|------------------------------ |\n",
    "|        Various              |  Various    |      Various             | Target dependent on Question  |\n",
    "                                               \n",
    "\n",
    "\n",
    "|    Original Columns Name    |   Feature    |       Data Type         |     Definition                |\n",
    "|-----------------------------|--------------|------------------------ |------------------------------ |\n",
    "|date                         |date          | 847329 non-null Datetime| Date of access                |\n",
    "|time                         |time          | 847330 non-null  object | Time                          |\n",
    "|l.path                       |lesson        | 847330 non-null  object | Lesson path                   | \n",
    "|user_ID                      |user_ID       | 847330 non-null  int64  | user identification           |    \n",
    "|c.name                       |cohort        | 847330 non-null  object |Cohort name (e.g. Darden)/Staff|\n",
    "|program_ID                   |program_ID    | 847330 non-null  int64  |Program name(e.g. Data Science)|\n",
    "|ip                           |ip            | 847330 non-null  object | Used for feature engineering  |\n",
    "|start_date                   |start_date    | 847330 non-null  object | Program Start Date            |\n",
    "|end_date                     |end_date      | 847330 non-null  object | Graduation Date               |"
   ]
  },
  {
   "cell_type": "markdown",
   "id": "9c015965",
   "metadata": {},
   "source": [
    "Color palette = #D16002 Marmalade, #EC9706 Honey, #7A3803 Spice"
   ]
  },
  {
   "cell_type": "markdown",
   "id": "93980876",
   "metadata": {},
   "source": []
  },
  {
   "cell_type": "markdown",
   "id": "5244992e",
   "metadata": {},
   "source": []
  },
  {
   "cell_type": "markdown",
   "id": "2dc4b912",
   "metadata": {},
   "source": []
  },
  {
   "cell_type": "code",
   "execution_count": null,
   "id": "1dd90945",
   "metadata": {},
   "outputs": [],
   "source": []
  }
 ],
 "metadata": {
  "kernelspec": {
   "display_name": "Python 3 (ipykernel)",
   "language": "python",
   "name": "python3"
  },
  "language_info": {
   "codemirror_mode": {
    "name": "ipython",
    "version": 3
   },
   "file_extension": ".py",
   "mimetype": "text/x-python",
   "name": "python",
   "nbconvert_exporter": "python",
   "pygments_lexer": "ipython3",
   "version": "3.10.9"
  }
 },
 "nbformat": 4,
 "nbformat_minor": 5
}
