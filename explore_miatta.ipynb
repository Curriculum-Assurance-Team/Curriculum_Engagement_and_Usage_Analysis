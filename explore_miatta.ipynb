{
 "cells": [
  {
   "cell_type": "markdown",
   "id": "ebe4526d-2def-40b7-b7f2-d4e851a1df50",
   "metadata": {},
   "source": [
    "# Exploratory notebook"
   ]
  },
  {
   "cell_type": "code",
   "execution_count": 1,
   "id": "341e41c0-2d5f-470e-b589-5fdd31adf1d4",
   "metadata": {},
   "outputs": [],
   "source": [
    "# Import Libraries\n",
    "import pandas as pd\n",
    "import numpy as np\n",
    "import os\n",
    "import urllib.parse\n",
    "import gzip\n",
    "import seaborn as sns\n",
    "import matplotlib.pyplot as plt\n",
    "import scipy.stats as stats\n",
    "from scipy.stats import chi2_contingency\n",
    "import explore_ms as e\n",
    "import env\n",
    "from sklearn.ensemble import IsolationForest\n",
    "\n",
    "from io import BytesIO\n",
    "from io import StringIO\n",
    "from sqlalchemy import create_engine\n",
    "\n",
    "from sklearn.model_selection import train_test_split\n",
    "from sklearn.linear_model import LogisticRegression\n",
    "from sklearn.metrics import accuracy_score, precision_score, recall_score\n",
    "from sklearn.tree import DecisionTreeClassifier, plot_tree\n",
    "from sklearn.metrics import confusion_matrix, accuracy_score, classification_report\n",
    "from IPython.display import display, display_html\n",
    "from sklearn.dummy import DummyClassifier\n",
    "from sklearn.preprocessing import StandardScaler\n",
    "from sklearn.preprocessing import LabelEncoder\n",
    "from sklearn.ensemble import RandomForestClassifier"
   ]
  },
  {
   "cell_type": "markdown",
   "id": "dff8669b-72fa-4ae5-8bcb-2d5ba63d64b4",
   "metadata": {},
   "source": [
    "# ACQUIRE\n",
    "- Data acquired from Codeup data base \n",
    "- SQL query joined neccesary data only for data set \n",
    "- DATA TYPE SUMMARY\n",
    "- 2 integer data types \n",
    "- 6 object data type \n",
    "- 0 null values\n"
   ]
  },
  {
   "cell_type": "code",
   "execution_count": 2,
   "id": "0e67b6a7-f859-4031-a00c-6ff865db33ad",
   "metadata": {},
   "outputs": [],
   "source": [
    "logs_df = e.get_sql_data()"
   ]
  },
  {
   "cell_type": "code",
   "execution_count": 3,
   "id": "be042348-965c-4852-8103-f3d40af1d2ab",
   "metadata": {},
   "outputs": [
    {
     "data": {
      "text/html": [
       "<div>\n",
       "<style scoped>\n",
       "    .dataframe tbody tr th:only-of-type {\n",
       "        vertical-align: middle;\n",
       "    }\n",
       "\n",
       "    .dataframe tbody tr th {\n",
       "        vertical-align: top;\n",
       "    }\n",
       "\n",
       "    .dataframe thead th {\n",
       "        text-align: right;\n",
       "    }\n",
       "</style>\n",
       "<table border=\"1\" class=\"dataframe\">\n",
       "  <thead>\n",
       "    <tr style=\"text-align: right;\">\n",
       "      <th></th>\n",
       "      <th>0</th>\n",
       "      <th>1</th>\n",
       "      <th>2</th>\n",
       "      <th>3</th>\n",
       "      <th>4</th>\n",
       "    </tr>\n",
       "  </thead>\n",
       "  <tbody>\n",
       "    <tr>\n",
       "      <th>lesson</th>\n",
       "      <td>/</td>\n",
       "      <td>java-ii</td>\n",
       "      <td>java-ii/object-oriented-programming</td>\n",
       "      <td>slides/object_oriented_programming</td>\n",
       "      <td>javascript-i/conditionals</td>\n",
       "    </tr>\n",
       "    <tr>\n",
       "      <th>user_id</th>\n",
       "      <td>1</td>\n",
       "      <td>1</td>\n",
       "      <td>1</td>\n",
       "      <td>1</td>\n",
       "      <td>2</td>\n",
       "    </tr>\n",
       "    <tr>\n",
       "      <th>cohort</th>\n",
       "      <td>Hampton</td>\n",
       "      <td>Hampton</td>\n",
       "      <td>Hampton</td>\n",
       "      <td>Hampton</td>\n",
       "      <td>Teddy</td>\n",
       "    </tr>\n",
       "    <tr>\n",
       "      <th>program_id</th>\n",
       "      <td>1</td>\n",
       "      <td>1</td>\n",
       "      <td>1</td>\n",
       "      <td>1</td>\n",
       "      <td>2</td>\n",
       "    </tr>\n",
       "    <tr>\n",
       "      <th>ip</th>\n",
       "      <td>97.105.19.61</td>\n",
       "      <td>97.105.19.61</td>\n",
       "      <td>97.105.19.61</td>\n",
       "      <td>97.105.19.61</td>\n",
       "      <td>97.105.19.61</td>\n",
       "    </tr>\n",
       "    <tr>\n",
       "      <th>start_date</th>\n",
       "      <td>2015-09-22</td>\n",
       "      <td>2015-09-22</td>\n",
       "      <td>2015-09-22</td>\n",
       "      <td>2015-09-22</td>\n",
       "      <td>2018-01-08</td>\n",
       "    </tr>\n",
       "    <tr>\n",
       "      <th>end_date</th>\n",
       "      <td>2016-02-06</td>\n",
       "      <td>2016-02-06</td>\n",
       "      <td>2016-02-06</td>\n",
       "      <td>2016-02-06</td>\n",
       "      <td>2018-05-17</td>\n",
       "    </tr>\n",
       "    <tr>\n",
       "      <th>program</th>\n",
       "      <td>web dev</td>\n",
       "      <td>web dev</td>\n",
       "      <td>web dev</td>\n",
       "      <td>web dev</td>\n",
       "      <td>web dev</td>\n",
       "    </tr>\n",
       "  </tbody>\n",
       "</table>\n",
       "</div>"
      ],
      "text/plain": [
       "                       0             1                                    2  \\\n",
       "lesson                 /       java-ii  java-ii/object-oriented-programming   \n",
       "user_id                1             1                                    1   \n",
       "cohort           Hampton       Hampton                              Hampton   \n",
       "program_id             1             1                                    1   \n",
       "ip          97.105.19.61  97.105.19.61                         97.105.19.61   \n",
       "start_date    2015-09-22    2015-09-22                           2015-09-22   \n",
       "end_date      2016-02-06    2016-02-06                           2016-02-06   \n",
       "program          web dev       web dev                              web dev   \n",
       "\n",
       "                                             3                          4  \n",
       "lesson      slides/object_oriented_programming  javascript-i/conditionals  \n",
       "user_id                                      1                          2  \n",
       "cohort                                 Hampton                      Teddy  \n",
       "program_id                                   1                          2  \n",
       "ip                                97.105.19.61               97.105.19.61  \n",
       "start_date                          2015-09-22                 2018-01-08  \n",
       "end_date                            2016-02-06                 2018-05-17  \n",
       "program                                web dev                    web dev  "
      ]
     },
     "execution_count": 3,
     "metadata": {},
     "output_type": "execute_result"
    }
   ],
   "source": [
    "logs_df.head().T"
   ]
  },
  {
   "cell_type": "code",
   "execution_count": 4,
   "id": "0873e1ec-1202-4889-8a14-ade388c7206a",
   "metadata": {},
   "outputs": [
    {
     "data": {
      "text/html": [
       "<div>\n",
       "<style scoped>\n",
       "    .dataframe tbody tr th:only-of-type {\n",
       "        vertical-align: middle;\n",
       "    }\n",
       "\n",
       "    .dataframe tbody tr th {\n",
       "        vertical-align: top;\n",
       "    }\n",
       "\n",
       "    .dataframe thead th {\n",
       "        text-align: right;\n",
       "    }\n",
       "</style>\n",
       "<table border=\"1\" class=\"dataframe\">\n",
       "  <thead>\n",
       "    <tr style=\"text-align: right;\">\n",
       "      <th></th>\n",
       "      <th>847325</th>\n",
       "      <th>847326</th>\n",
       "      <th>847327</th>\n",
       "      <th>847328</th>\n",
       "      <th>847329</th>\n",
       "    </tr>\n",
       "  </thead>\n",
       "  <tbody>\n",
       "    <tr>\n",
       "      <th>lesson</th>\n",
       "      <td>jquery/personal-site</td>\n",
       "      <td>jquery/mapbox-api</td>\n",
       "      <td>jquery/ajax/weather-map</td>\n",
       "      <td>anomaly-detection/discrete-probabilistic-methods</td>\n",
       "      <td>jquery/mapbox-api</td>\n",
       "    </tr>\n",
       "    <tr>\n",
       "      <th>user_id</th>\n",
       "      <td>64</td>\n",
       "      <td>64</td>\n",
       "      <td>64</td>\n",
       "      <td>744</td>\n",
       "      <td>64</td>\n",
       "    </tr>\n",
       "    <tr>\n",
       "      <th>cohort</th>\n",
       "      <td>Staff</td>\n",
       "      <td>Staff</td>\n",
       "      <td>Staff</td>\n",
       "      <td>Staff</td>\n",
       "      <td>Staff</td>\n",
       "    </tr>\n",
       "    <tr>\n",
       "      <th>program_id</th>\n",
       "      <td>2</td>\n",
       "      <td>2</td>\n",
       "      <td>2</td>\n",
       "      <td>2</td>\n",
       "      <td>2</td>\n",
       "    </tr>\n",
       "    <tr>\n",
       "      <th>ip</th>\n",
       "      <td>71.150.217.33</td>\n",
       "      <td>71.150.217.33</td>\n",
       "      <td>71.150.217.33</td>\n",
       "      <td>24.160.137.86</td>\n",
       "      <td>71.150.217.33</td>\n",
       "    </tr>\n",
       "    <tr>\n",
       "      <th>start_date</th>\n",
       "      <td>2014-02-04</td>\n",
       "      <td>2014-02-04</td>\n",
       "      <td>2014-02-04</td>\n",
       "      <td>2014-02-04</td>\n",
       "      <td>2014-02-04</td>\n",
       "    </tr>\n",
       "    <tr>\n",
       "      <th>end_date</th>\n",
       "      <td>2014-02-04</td>\n",
       "      <td>2014-02-04</td>\n",
       "      <td>2014-02-04</td>\n",
       "      <td>2014-02-04</td>\n",
       "      <td>2014-02-04</td>\n",
       "    </tr>\n",
       "    <tr>\n",
       "      <th>program</th>\n",
       "      <td>web dev</td>\n",
       "      <td>web dev</td>\n",
       "      <td>web dev</td>\n",
       "      <td>web dev</td>\n",
       "      <td>web dev</td>\n",
       "    </tr>\n",
       "  </tbody>\n",
       "</table>\n",
       "</div>"
      ],
      "text/plain": [
       "                          847325             847326                   847327  \\\n",
       "lesson      jquery/personal-site  jquery/mapbox-api  jquery/ajax/weather-map   \n",
       "user_id                       64                 64                       64   \n",
       "cohort                     Staff              Staff                    Staff   \n",
       "program_id                     2                  2                        2   \n",
       "ip                 71.150.217.33      71.150.217.33            71.150.217.33   \n",
       "start_date            2014-02-04         2014-02-04               2014-02-04   \n",
       "end_date              2014-02-04         2014-02-04               2014-02-04   \n",
       "program                  web dev            web dev                  web dev   \n",
       "\n",
       "                                                      847328  \\\n",
       "lesson      anomaly-detection/discrete-probabilistic-methods   \n",
       "user_id                                                  744   \n",
       "cohort                                                 Staff   \n",
       "program_id                                                 2   \n",
       "ip                                             24.160.137.86   \n",
       "start_date                                        2014-02-04   \n",
       "end_date                                          2014-02-04   \n",
       "program                                              web dev   \n",
       "\n",
       "                       847329  \n",
       "lesson      jquery/mapbox-api  \n",
       "user_id                    64  \n",
       "cohort                  Staff  \n",
       "program_id                  2  \n",
       "ip              71.150.217.33  \n",
       "start_date         2014-02-04  \n",
       "end_date           2014-02-04  \n",
       "program               web dev  "
      ]
     },
     "execution_count": 4,
     "metadata": {},
     "output_type": "execute_result"
    }
   ],
   "source": [
    "logs_df.tail().T"
   ]
  },
  {
   "cell_type": "code",
   "execution_count": 5,
   "id": "6dd9ce40-0a71-4367-93cb-e1d9097118e7",
   "metadata": {},
   "outputs": [
    {
     "name": "stdout",
     "output_type": "stream",
     "text": [
      "<class 'pandas.core.frame.DataFrame'>\n",
      "RangeIndex: 847330 entries, 0 to 847329\n",
      "Data columns (total 8 columns):\n",
      " #   Column      Non-Null Count   Dtype \n",
      "---  ------      --------------   ----- \n",
      " 0   lesson      847329 non-null  object\n",
      " 1   user_id     847330 non-null  int64 \n",
      " 2   cohort      847330 non-null  object\n",
      " 3   program_id  847330 non-null  int64 \n",
      " 4   ip          847330 non-null  object\n",
      " 5   start_date  847330 non-null  object\n",
      " 6   end_date    847330 non-null  object\n",
      " 7   program     847330 non-null  object\n",
      "dtypes: int64(2), object(6)\n",
      "memory usage: 51.7+ MB\n"
     ]
    }
   ],
   "source": [
    "logs_df.info()\n"
   ]
  },
  {
   "cell_type": "code",
   "execution_count": 6,
   "id": "5b764582-e85c-4e6f-8348-448cc4b13074",
   "metadata": {},
   "outputs": [
    {
     "data": {
      "text/plain": [
       "['lesson',\n",
       " 'user_id',\n",
       " 'cohort',\n",
       " 'program_id',\n",
       " 'ip',\n",
       " 'start_date',\n",
       " 'end_date',\n",
       " 'program']"
      ]
     },
     "execution_count": 6,
     "metadata": {},
     "output_type": "execute_result"
    }
   ],
   "source": [
    "logs_df.columns.tolist()\n"
   ]
  },
  {
   "cell_type": "code",
   "execution_count": 7,
   "id": "21d6ba92-b6a2-47e4-a5b4-f045117a818e",
   "metadata": {},
   "outputs": [
    {
     "data": {
      "text/plain": [
       "(847330, 8)"
      ]
     },
     "execution_count": 7,
     "metadata": {},
     "output_type": "execute_result"
    }
   ],
   "source": [
    "logs_df.shape"
   ]
  },
  {
   "cell_type": "code",
   "execution_count": 8,
   "id": "c6971b1e-0979-466d-9db8-cc665fdf5de7",
   "metadata": {},
   "outputs": [
    {
     "data": {
      "text/html": [
       "<div>\n",
       "<style scoped>\n",
       "    .dataframe tbody tr th:only-of-type {\n",
       "        vertical-align: middle;\n",
       "    }\n",
       "\n",
       "    .dataframe tbody tr th {\n",
       "        vertical-align: top;\n",
       "    }\n",
       "\n",
       "    .dataframe thead th {\n",
       "        text-align: right;\n",
       "    }\n",
       "</style>\n",
       "<table border=\"1\" class=\"dataframe\">\n",
       "  <thead>\n",
       "    <tr style=\"text-align: right;\">\n",
       "      <th></th>\n",
       "      <th>user_id</th>\n",
       "      <th>program_id</th>\n",
       "    </tr>\n",
       "  </thead>\n",
       "  <tbody>\n",
       "    <tr>\n",
       "      <th>count</th>\n",
       "      <td>847330.000000</td>\n",
       "      <td>847330.000000</td>\n",
       "    </tr>\n",
       "    <tr>\n",
       "      <th>mean</th>\n",
       "      <td>456.707344</td>\n",
       "      <td>2.086004</td>\n",
       "    </tr>\n",
       "    <tr>\n",
       "      <th>std</th>\n",
       "      <td>250.734201</td>\n",
       "      <td>0.388231</td>\n",
       "    </tr>\n",
       "    <tr>\n",
       "      <th>min</th>\n",
       "      <td>1.000000</td>\n",
       "      <td>1.000000</td>\n",
       "    </tr>\n",
       "    <tr>\n",
       "      <th>25%</th>\n",
       "      <td>263.000000</td>\n",
       "      <td>2.000000</td>\n",
       "    </tr>\n",
       "    <tr>\n",
       "      <th>50%</th>\n",
       "      <td>476.000000</td>\n",
       "      <td>2.000000</td>\n",
       "    </tr>\n",
       "    <tr>\n",
       "      <th>75%</th>\n",
       "      <td>648.000000</td>\n",
       "      <td>2.000000</td>\n",
       "    </tr>\n",
       "    <tr>\n",
       "      <th>max</th>\n",
       "      <td>981.000000</td>\n",
       "      <td>4.000000</td>\n",
       "    </tr>\n",
       "  </tbody>\n",
       "</table>\n",
       "</div>"
      ],
      "text/plain": [
       "             user_id     program_id\n",
       "count  847330.000000  847330.000000\n",
       "mean      456.707344       2.086004\n",
       "std       250.734201       0.388231\n",
       "min         1.000000       1.000000\n",
       "25%       263.000000       2.000000\n",
       "50%       476.000000       2.000000\n",
       "75%       648.000000       2.000000\n",
       "max       981.000000       4.000000"
      ]
     },
     "execution_count": 8,
     "metadata": {},
     "output_type": "execute_result"
    }
   ],
   "source": [
    "logs_df.describe()\n"
   ]
  },
  {
   "cell_type": "markdown",
   "id": "82676a7d-8b7d-43ea-85a0-d5e481863a7b",
   "metadata": {},
   "source": [
    "# PREPARE\n",
    "- Data Cleaning:\n",
    "- Drop unnecessary axis\n",
    "- Rename\n",
    "- Find nulls\n",
    "- Drop nulls\n",
    "- Check preperation\n",
    "- The data set has 8 columns and 847330 rows"
   ]
  },
  {
   "cell_type": "code",
   "execution_count": 9,
   "id": "43fe9686-f29b-4466-bbee-18fa378ba836",
   "metadata": {},
   "outputs": [
    {
     "data": {
      "text/plain": [
       "lesson        1\n",
       "user_id       0\n",
       "cohort        0\n",
       "program_id    0\n",
       "ip            0\n",
       "start_date    0\n",
       "end_date      0\n",
       "program       0\n",
       "dtype: int64"
      ]
     },
     "execution_count": 9,
     "metadata": {},
     "output_type": "execute_result"
    }
   ],
   "source": [
    "logs_df.isnull().sum()\n"
   ]
  },
  {
   "cell_type": "code",
   "execution_count": 10,
   "id": "5fc6fe01-9dd6-44e0-993c-7570a8c2ce7f",
   "metadata": {},
   "outputs": [
    {
     "data": {
      "text/plain": [
       "/                                                               45854\n",
       "javascript-i                                                    18203\n",
       "toc                                                             17591\n",
       "search/search_index.json                                        17534\n",
       "java-iii                                                        13166\n",
       "                                                                ...  \n",
       "content/examples/javascript/primitive-types.html                    1\n",
       "content/examples/javascript/conditionals.html                       1\n",
       "2-storytelling/1-overview/www.qlik.com                              1\n",
       "syntax-types-and-variables                                          1\n",
       "appendix/professional-development/post-interview-review-form        1\n",
       "Name: lesson, Length: 2224, dtype: int64"
      ]
     },
     "execution_count": 10,
     "metadata": {},
     "output_type": "execute_result"
    }
   ],
   "source": [
    "logs_df['lesson'].value_counts()"
   ]
  },
  {
   "cell_type": "code",
   "execution_count": 11,
   "id": "1db9bc05-c6f8-424f-b169-6e16b9b5ff65",
   "metadata": {},
   "outputs": [
    {
     "data": {
      "text/plain": [
       "Staff      84031\n",
       "Ceres      40730\n",
       "Zion       38096\n",
       "Jupiter    37109\n",
       "Fortuna    36902\n",
       "Name: cohort, dtype: int64"
      ]
     },
     "execution_count": 11,
     "metadata": {},
     "output_type": "execute_result"
    }
   ],
   "source": [
    "logs_df['cohort'].value_counts().head()\n"
   ]
  },
  {
   "cell_type": "code",
   "execution_count": 12,
   "id": "16cb0e40-b539-4b7b-9187-fbf7312e0e82",
   "metadata": {},
   "outputs": [
    {
     "data": {
      "text/plain": [
       "web dev         743913\n",
       "data science    103412\n",
       "frontend             5\n",
       "Name: program, dtype: int64"
      ]
     },
     "execution_count": 12,
     "metadata": {},
     "output_type": "execute_result"
    }
   ],
   "source": [
    "logs_df['program'].value_counts().head()\n"
   ]
  },
  {
   "cell_type": "markdown",
   "id": "547d9645-7d1e-4ce7-9484-bd314f7df976",
   "metadata": {},
   "source": [
    "# EXPLORE\n",
    "\n",
    "- Explored lesson access patterns across programs.\n",
    "- Detected least accessed lessons, including \"Introduction to GitHub.\"\n",
    "- Advised enhancing content with practical examples.\n",
    "- Proposed integrating real-world context for better engagement.\n",
    "- Recommended advanced lessons on branch pruning and merging.\n",
    "- Insights guide curriculum improvements for enhanced learning outcomes.\n"
   ]
  },
  {
   "cell_type": "markdown",
   "id": "8244af60-5786-49b7-b221-f74de5976194",
   "metadata": {
    "tags": []
   },
   "source": [
    "### <span style ='color:#D16002'>1. Which lesson appears to attract the most traffic consistently across cohorts (per program)?"
   ]
  },
  {
   "cell_type": "code",
   "execution_count": 13,
   "id": "8cfee8d8-3320-41de-9899-7d43e86dd65c",
   "metadata": {},
   "outputs": [
    {
     "name": "stdout",
     "output_type": "stream",
     "text": [
      "Top Lesson Across Cohorts for Program Web Development:\n",
      "html-css\n"
     ]
    }
   ],
   "source": [
    "# Call the function to get top lessons for web dev and cohorts\n",
    "top_lessons_program_wd, top_lesson_across_cohorts_wd = e.get_top_lessons_by_program(logs_df, program='web dev')\n",
    "\"Top Lessons for Program web development:\"\n",
    "top_lessons_program_wd\n",
    "\n",
    "print(\"Top Lesson Across Cohorts for Program Web Development:\")\n",
    "print(top_lesson_across_cohorts_wd)\n",
    " "
   ]
  },
  {
   "cell_type": "code",
   "execution_count": 14,
   "id": "7b012740-5be9-4bf2-b76d-a27dc3cd6c2c",
   "metadata": {},
   "outputs": [
    {
     "name": "stdout",
     "output_type": "stream",
     "text": [
      "Top Lesson Across Cohorts for Program Data  Science:\n",
      "1-fundamentals/1.1-intro-to-data-science\n"
     ]
    }
   ],
   "source": [
    "# Call the function to get top lessons for data science across cohorts\n",
    "top_lessons_program_ds, top_lesson_across_cohorts_ds = e.get_top_lessons_by_program(logs_df, program='data science')\n",
    "\"Top Lessons for Program data science:\"\n",
    "top_lessons_program_ds\n",
    "\n",
    "print(\"Top Lesson Across Cohorts for Program Data  Science:\")\n",
    "print(top_lesson_across_cohorts_ds)\n"
   ]
  },
  {
   "cell_type": "code",
   "execution_count": 15,
   "id": "12ceb715-f29a-42cb-b28e-4c06657a2562",
   "metadata": {},
   "outputs": [
    {
     "name": "stdout",
     "output_type": "stream",
     "text": [
      "Top Lesson Across Cohorts for Program Front-end\n",
      "content/html-css\n"
     ]
    }
   ],
   "source": [
    "# Call the function to get top lessons for data science across cohorts\n",
    "top_lessons_program_fe, top_lesson_across_cohorts_fe = e.get_top_lessons_by_program(logs_df, program='frontend')\n",
    "\"Top Lessons for Program Frontend:\"\n",
    "top_lessons_program_fe\n",
    "\n",
    "print(\"Top Lesson Across Cohorts for Program Front-end\")\n",
    "print(top_lesson_across_cohorts_fe)\n"
   ]
  },
  {
   "cell_type": "markdown",
   "id": "33cffc1f-d3f9-4e58-ba8c-d4d57435705c",
   "metadata": {},
   "source": [
    "\n",
    "###  <span style ='color:#D16002'> QUESTION 1 Findings\n",
    "\n",
    "#### <span style ='color:#D16002'> **Methodology and Insights:**<span style= 'color: #EC9706'> Outliers were removed to prevent data skewness and ensure more accurate insights.Data Grouping Grouped by program, lesson, and cohort to gauge lesson popularity within cohorts.Data Sorting Lessons were sorted based on student access frequency.Program Filtering focus was narrowed down to specific program-related lessons.Irrelevant Lesson Removal lessons not pertinent to the program or not favored by students were excluded.\n",
    "\n",
    "####  <span style ='color:#D16002'>**Findings: Top Lesson Across Cohorts for Different Programs**\n",
    "\n",
    "- <span style= 'color: #EC9706'> **Web Development Program:** Are all related to the fundamentals of web development, such as HTML, CSS, and JavaScript. This is because these are the skills that all web developers need to know.\n",
    "\n",
    "- <span style= 'color: #EC9706'> **Data Science Program:** Are more focused on advanced topics, such as statistics, machine learning, and natural language processing. This is because these are the skills that data scientists need to know in order to analyze data and solve real-world problems.\n",
    "\n",
    "- <span style= 'color: #EC9706'> **Frontend program:** Are a mix of fundamentals and advanced topics. This is because frontend developers need to know both the fundamentals of web development, such as HTML and CSS, as well as more advanced topics, such as React and Node.js.\n",
    "\n",
    "#### <span style ='color:#D16002'> **Takeaways:**\n",
    "#### <span style= 'color: #EC9706'>Overall, the top lessons across cohorts provide a good overview of the skills that students need to learn in order to be successful in each program. This information can be used to improve the curriculum and make it more relevant and engaging to students.\n",
    "\n",
    "#### <span style ='color:#D16002'> **Recommendation:**\n",
    "####  <span style= 'color: #EC9706'>Leverage the robust methodology and insights to fine-tune curriculum alignment. Customize lessons to program-specific needs, encompassing both fundamentals and advanced topics. Enhance engagement with real-world applications, projects, and interactive discussions. Additionally, consider investigating whether top lesson engagement is influenced by the level of difficulty or test-oriented engagement, as tests are open notes. This comprehensive approach will empower dynamic learning experiences, addressing skill relevance and potential engagement nuances.\n",
    " "
   ]
  },
  {
   "cell_type": "markdown",
   "id": "ca0ac98e-1832-480e-8e04-92bd5f93ee7b",
   "metadata": {},
   "source": [
    "### A function was created to identify the most trafficked lesson per Program accross Cohorts and these are the results "
   ]
  },
  {
   "cell_type": "markdown",
   "id": "687e0035-f2da-4269-a181-f3a8d2a42452",
   "metadata": {
    "tags": []
   },
   "source": [
    "### <span style ='color:#D16002'>7. Which lessons are least accessed?\n"
   ]
  },
  {
   "cell_type": "code",
   "execution_count": 30,
   "id": "0c36ddfe-5273-4652-9ccb-8e7f5ddcee10",
   "metadata": {},
   "outputs": [
    {
     "name": "stdout",
     "output_type": "stream",
     "text": [
      "Least Accessed Lessons Across Cohorts for Program Web Development:\n",
      "lesson\n",
      "'                                 1767\n",
      ".git                              1768\n",
      ".gitignore                        1769\n",
      ".well-known/assetlinks.json       1770\n",
      "00_                               1812\n",
      "                                 ...  \n",
      "web-design/ux/purpose            13560\n",
      "web-dev-day-two                  13561\n",
      "working-with-time-series-data    13562\n",
      "wp-admin                         13563\n",
      "wp-login                         13564\n",
      "Name: count, Length: 2048, dtype: int64\n"
     ]
    }
   ],
   "source": [
    "# Call the function to get top lessons for web dev and cohorts\n",
    "least_lessons_program_wd, least_lesson_across_cohorts_wd = e.get_least_accessed_lessons(logs_df, program='web dev')\n",
    "\"Least Accessed Lessons for Program web development:\"\n",
    "least_lessons_program_wd\n",
    "\n",
    "print(\"Least Accessed Lessons Across Cohorts for Program Web Development:\")\n",
    "print(least_lesson_across_cohorts_wd)"
   ]
  },
  {
   "cell_type": "code",
   "execution_count": 29,
   "id": "4edfb1de-9e26-4548-bcb5-a8fc8d4a9e0a",
   "metadata": {},
   "outputs": [
    {
     "name": "stdout",
     "output_type": "stream",
     "text": [
      "Least Accessed Lessons for Data Science Program:\n",
      "           program                           lesson    cohort  count\n",
      "0     data science  %20https://github.com/RaulCPena     Curie      1\n",
      "1728  data science      timeseries/modeling-lesson2  Florence      1\n",
      "1710  data science                        tidy-data     Bayes      1\n",
      "1705  data science          storytelling/understand     Curie      1\n",
      "1700  data science             storytelling/tableau     Curie      1\n",
      "1699  data science             storytelling/tableau     Bayes      1\n",
      "1693  data science              storytelling/refine     Curie      1\n",
      "1692  data science              storytelling/refine     Bayes      1\n",
      "1689  data science             storytelling/present     Curie      1\n",
      "1688  data science             storytelling/present     Bayes      1\n",
      "\n",
      "Overall Least Accessed Lesson for Data Science across all cohorts:\n",
      "lesson\n",
      "%20https://github.com/RaulCPena                0\n",
      ",%20https://github.com/RaulCPena               1\n",
      ".gitignore                                     2\n",
      "1-fundamentals                                 8\n",
      "1-fundamentals/1.1-intro-to-data-science      12\n",
      "                                            ... \n",
      "user-defined-functions.md                   1757\n",
      "viz.py                                      1758\n",
      "vocabulary                                  1759\n",
      "where                                       1761\n",
      "working-with-time-series-data               1762\n",
      "Name: count, Length: 676, dtype: int64\n"
     ]
    }
   ],
   "source": [
    "# Get the least accessed lessons for the 'data science' program\n",
    "ds_least_accessed, ds_least_overall = e.get_least_accessed_lessons(logs_df, program='data science')\n",
    "print(\"Least Accessed Lessons for Data Science Program:\")\n",
    "print(ds_least_accessed)\n",
    "print(\"\\nOverall Least Accessed Lesson for Data Science across all cohorts:\")\n",
    "print(ds_least_overall)\n",
    "\n"
   ]
  },
  {
   "cell_type": "code",
   "execution_count": 28,
   "id": "6e0877ba-5e3f-4077-be17-f7670ef21aeb",
   "metadata": {},
   "outputs": [
    {
     "name": "stdout",
     "output_type": "stream",
     "text": [
      "Least Accessed Lessons for Front-end Program:\n",
      "       program                                       lesson  cohort  count\n",
      "1766  frontend           content/html-css/introduction.html  Apollo      1\n",
      "1765  frontend  content/html-css/gitbook/images/favicon.ico  Apollo      1\n",
      "1764  frontend                             content/html-css  Apollo      2\n",
      "\n",
      "Overall Least Accessed Lesson for Front-end across all cohorts:\n",
      "lesson\n",
      "content/html-css                               1764\n",
      "content/html-css/gitbook/images/favicon.ico    1765\n",
      "content/html-css/introduction.html             1766\n",
      "Name: count, dtype: int64\n"
     ]
    }
   ],
   "source": [
    "# Get the least accessed lessons for the 'Front-end' program\n",
    "ds_least_accessed, ds_least_overall = e.get_least_accessed_lessons(logs_df, program='frontend')\n",
    "print(\"Least Accessed Lessons for Front-end Program:\")\n",
    "print(ds_least_accessed)\n",
    "print(\"\\nOverall Least Accessed Lesson for Front-end across all cohorts:\")\n",
    "print(ds_least_overall)\n",
    "\n"
   ]
  },
  {
   "cell_type": "markdown",
   "id": "71a4f0e3-f1b9-48b6-908d-7f906a8bd1b3",
   "metadata": {
    "jp-MarkdownHeadingCollapsed": true,
    "tags": []
   },
   "source": [
    "###  <span style ='color:#D16002'> QUESTION 7 Findings\n",
    "\n",
    "#### <span style ='color:#D16002'> **Methodology and Insights:**<span style= 'color: #EC9706'> Remove outliers this is done to ensure that the results are not skewed by a small number of extreme values.Group the data by program, lesson, and cohort. This allows us to see how many students have accessed each lesson in each cohort.Sort the data by the number of students who have accessed each lesson. This gives us a list of the least accessed lessons.Filter the data allows us to focus on the lessons that are relevant to the specific program.Remove any unwanted lessons. This can include lessons that are not relevant to the program or that are not well-received by students and data with special characters were removed.\n",
    "\n",
    "\n",
    "\n",
    "####  <span style ='color:#D16002'>**Findings:** Least Accessed Lesson\n",
    "#### <span style= 'color: #EC9706'>The date range of the data to see how the popularity of lessons changes over time.The level of engagement with the lessons to measure how students are interacting with the content. The lessons that attract the least attention across the cohorts per program are the ones that are least insight or relevance to engaging to students.\n",
    "\n",
    "#### <span style ='color:#D16002'>**Takeaways:** \n",
    "<span style= 'color: #EC9706'>As you can see, These findings reveal the least accessed lessons across various programs and the overall dataset. Notably, the lesson \"Introduction to GitHub\" emerged as the least accessed, reflecting minimal engagement across all programs and cohorts.\n",
    "    \n",
    "\n",
    "#### <span style ='color:#D16002'>**Recommendation:**\n",
    "####  <span style= 'color: #EC9706'>Considering the limited engagement with the \"Introduction to GitHub\" lesson across all programs and cohorts, a tailored approach is advised. Enhancing the lesson's content delivery, incorporating practical examples, and highlighting the benefits of version control could encourage greater student interaction. Moreover, to reinforce students' proficiency in GitHub usage, introducing additional lessons that delve into advanced topics, such as branch pruning and merging techniques, could be immensely valuable. By guiding students through these essential practices, the curriculum would empower them to effectively manage their repositories, collaborate seamlessly, and enhance their overall understanding of version control workflows.\n",
    "\n",
    "\n",
    " "
   ]
  }
 ],
 "metadata": {
  "kernelspec": {
   "display_name": "Python 3 (ipykernel)",
   "language": "python",
   "name": "python3"
  },
  "language_info": {
   "codemirror_mode": {
    "name": "ipython",
    "version": 3
   },
   "file_extension": ".py",
   "mimetype": "text/x-python",
   "name": "python",
   "nbconvert_exporter": "python",
   "pygments_lexer": "ipython3",
   "version": "3.10.9"
  },
  "varInspector": {
   "cols": {
    "lenName": 16,
    "lenType": 16,
    "lenVar": 40
   },
   "kernels_config": {
    "python": {
     "delete_cmd_postfix": "",
     "delete_cmd_prefix": "del ",
     "library": "var_list.py",
     "varRefreshCmd": "print(var_dic_list())"
    },
    "r": {
     "delete_cmd_postfix": ") ",
     "delete_cmd_prefix": "rm(",
     "library": "var_list.r",
     "varRefreshCmd": "cat(var_dic_list()) "
    }
   },
   "types_to_exclude": [
    "module",
    "function",
    "builtin_function_or_method",
    "instance",
    "_Feature"
   ],
   "window_display": false
  }
 },
 "nbformat": 4,
 "nbformat_minor": 5
}
