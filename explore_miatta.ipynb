{
 "cells": [
  {
   "cell_type": "markdown",
   "id": "ebe4526d-2def-40b7-b7f2-d4e851a1df50",
   "metadata": {},
   "source": [
    "# Exploratory notebook"
   ]
  },
  {
   "cell_type": "code",
   "execution_count": 1,
   "id": "341e41c0-2d5f-470e-b589-5fdd31adf1d4",
   "metadata": {},
   "outputs": [],
   "source": [
    "# Import Libraries\n",
    "import pandas as pd\n",
    "import numpy as np\n",
    "import os\n",
    "import urllib.parse\n",
    "import gzip\n",
    "from io import StringIO\n",
    "# import seaborn as sns\n",
    "# import matplotlib.pyplot as plt\n",
    "# import scipy.stats as stats\n",
    "# from scipy.stats import chi2_contingency\n",
    "\n",
    "\n",
    "from io import BytesIO\n",
    "\n",
    "# from sklearn.model_selection import train_test_split\n",
    "# from sklearn.linear_model import LogisticRegression\n",
    "# from sklearn.metrics import accuracy_score, precision_score, recall_score\n",
    "# from sklearn.tree import DecisionTreeClassifier, plot_tree\n",
    "# from sklearn.metrics import confusion_matrix, accuracy_score, classification_report\n",
    "# from IPython.display import display, display_html\n",
    "# from sklearn.dummy import DummyClassifier\n",
    "# from sklearn.preprocessing import StandardScaler\n",
    "# from sklearn.preprocessing import LabelEncoder\n",
    "# from sklearn.ensemble import RandomForestClassifier"
   ]
  },
  {
   "cell_type": "markdown",
   "id": "dff8669b-72fa-4ae5-8bcb-2d5ba63d64b4",
   "metadata": {},
   "source": [
    "# ACQUIRE"
   ]
  },
  {
   "cell_type": "code",
   "execution_count": 5,
   "id": "50c01738-f0eb-4b06-87a9-a36b86a1ee79",
   "metadata": {},
   "outputs": [],
   "source": [
    "\n",
    "# Replace this with the actual URL-style file path to your compressed text file\n",
    "file_path = \"file:///Users/miattas/Downloads/anonymized-curriculum-access.txt.gz\"\n",
    "\n",
    "# Convert URL-style file path to standard file path\n",
    "parsed_path = urllib.parse.urlparse(file_path)\n",
    "decoded_path = urllib.parse.unquote(parsed_path.path)\n",
    "standard_path = os.path.abspath(decoded_path)\n",
    "\n",
    "# Decompress the .gz file and read its content\n",
    "with gzip.open(standard_path, \"rb\") as gz_file:\n",
    "    data = gz_file.read().decode(\"utf-8\")\n",
    "\n",
    "# Preprocess lines with two consecutive spaces\n",
    "data = data.replace(\"  \", \" None \")\n",
    "\n",
    "# Create a DataFrame from the preprocessed data\n",
    "df = pd.read_csv(StringIO(data), sep=\" \", header=None,\n",
    "                 names=[\"date\", \"time\", \"lesson\", \"user_id\", \"cohort_id\", \"ip_address\"])\n",
    "\n",
    "# Convert 'date' and 'time' columns to a single datetime column\n",
    "df['date'] = pd.to_datetime(df['date'] + ' ' + df['time'])\n",
    "\n",
    "# Drop the 'time' column if it's no longer needed\n",
    "df = df.drop(['time'], axis=1)\n",
    "\n",
    "# SQL query to join 'logs' and 'cohorts' tables\n",
    "sql = \"\"\"\n",
    "SELECT l.date, l.time, l.path as lesson, l.user_id, c.name,\n",
    "       l.ip, c.start_date, c.end_date\n",
    "FROM logs l\n",
    "JOIN cohorts c ON c.id=l.cohort_id;\n",
    "\"\"\"\n",
    "\n"
   ]
  },
  {
   "cell_type": "code",
   "execution_count": 10,
   "id": "5b764582-e85c-4e6f-8348-448cc4b13074",
   "metadata": {},
   "outputs": [
    {
     "data": {
      "text/plain": [
       "Index(['date', 'lesson', 'user_id', 'cohort_id', 'ip_address'], dtype='object')"
      ]
     },
     "execution_count": 10,
     "metadata": {},
     "output_type": "execute_result"
    }
   ],
   "source": [
    "df.columns"
   ]
  },
  {
   "cell_type": "code",
   "execution_count": 8,
   "id": "1a2b3241-48f5-4742-9f3c-7426a8d8961c",
   "metadata": {},
   "outputs": [
    {
     "data": {
      "text/html": [
       "<div>\n",
       "<style scoped>\n",
       "    .dataframe tbody tr th:only-of-type {\n",
       "        vertical-align: middle;\n",
       "    }\n",
       "\n",
       "    .dataframe tbody tr th {\n",
       "        vertical-align: top;\n",
       "    }\n",
       "\n",
       "    .dataframe thead th {\n",
       "        text-align: right;\n",
       "    }\n",
       "</style>\n",
       "<table border=\"1\" class=\"dataframe\">\n",
       "  <thead>\n",
       "    <tr style=\"text-align: right;\">\n",
       "      <th></th>\n",
       "      <th>date</th>\n",
       "      <th>lesson</th>\n",
       "      <th>user_id</th>\n",
       "      <th>cohort_id</th>\n",
       "      <th>ip_address</th>\n",
       "    </tr>\n",
       "  </thead>\n",
       "  <tbody>\n",
       "    <tr>\n",
       "      <th>0</th>\n",
       "      <td>2018-01-26 09:55:03</td>\n",
       "      <td>/</td>\n",
       "      <td>1</td>\n",
       "      <td>8</td>\n",
       "      <td>97.105.19.61</td>\n",
       "    </tr>\n",
       "    <tr>\n",
       "      <th>1</th>\n",
       "      <td>2018-01-26 09:56:02</td>\n",
       "      <td>java-ii</td>\n",
       "      <td>1</td>\n",
       "      <td>8</td>\n",
       "      <td>97.105.19.61</td>\n",
       "    </tr>\n",
       "    <tr>\n",
       "      <th>2</th>\n",
       "      <td>2018-01-26 09:56:05</td>\n",
       "      <td>java-ii/object-oriented-programming</td>\n",
       "      <td>1</td>\n",
       "      <td>8</td>\n",
       "      <td>97.105.19.61</td>\n",
       "    </tr>\n",
       "    <tr>\n",
       "      <th>3</th>\n",
       "      <td>2018-01-26 09:56:06</td>\n",
       "      <td>slides/object_oriented_programming</td>\n",
       "      <td>1</td>\n",
       "      <td>8</td>\n",
       "      <td>97.105.19.61</td>\n",
       "    </tr>\n",
       "    <tr>\n",
       "      <th>4</th>\n",
       "      <td>2018-01-26 09:56:24</td>\n",
       "      <td>javascript-i/conditionals</td>\n",
       "      <td>2</td>\n",
       "      <td>22</td>\n",
       "      <td>97.105.19.61</td>\n",
       "    </tr>\n",
       "  </tbody>\n",
       "</table>\n",
       "</div>"
      ],
      "text/plain": [
       "                 date                               lesson  user_id cohort_id  \\\n",
       "0 2018-01-26 09:55:03                                    /        1         8   \n",
       "1 2018-01-26 09:56:02                              java-ii        1         8   \n",
       "2 2018-01-26 09:56:05  java-ii/object-oriented-programming        1         8   \n",
       "3 2018-01-26 09:56:06   slides/object_oriented_programming        1         8   \n",
       "4 2018-01-26 09:56:24            javascript-i/conditionals        2        22   \n",
       "\n",
       "     ip_address  \n",
       "0  97.105.19.61  \n",
       "1  97.105.19.61  \n",
       "2  97.105.19.61  \n",
       "3  97.105.19.61  \n",
       "4  97.105.19.61  "
      ]
     },
     "execution_count": 8,
     "metadata": {},
     "output_type": "execute_result"
    }
   ],
   "source": [
    "df.head()"
   ]
  },
  {
   "cell_type": "code",
   "execution_count": 9,
   "id": "197b20a0-48b1-4c63-82b1-687affc93f76",
   "metadata": {},
   "outputs": [
    {
     "name": "stdout",
     "output_type": "stream",
     "text": [
      "<class 'pandas.core.frame.DataFrame'>\n",
      "RangeIndex: 900223 entries, 0 to 900222\n",
      "Data columns (total 5 columns):\n",
      " #   Column      Non-Null Count   Dtype         \n",
      "---  ------      --------------   -----         \n",
      " 0   date        900223 non-null  datetime64[ns]\n",
      " 1   lesson      900223 non-null  object        \n",
      " 2   user_id     900223 non-null  int64         \n",
      " 3   cohort_id   899803 non-null  object        \n",
      " 4   ip_address  900223 non-null  object        \n",
      "dtypes: datetime64[ns](1), int64(1), object(3)\n",
      "memory usage: 34.3+ MB\n"
     ]
    }
   ],
   "source": [
    "df.info()"
   ]
  },
  {
   "cell_type": "code",
   "execution_count": 11,
   "id": "10786c7c-8464-497d-b271-a26ccdcbf5bf",
   "metadata": {},
   "outputs": [
    {
     "data": {
      "text/plain": [
       "/                                                               50313\n",
       "search/search_index.json                                        19519\n",
       "javascript-i                                                    18983\n",
       "toc                                                             18297\n",
       "java-iii                                                        13733\n",
       "                                                                ...  \n",
       "12-distributed-ml/6.1-prepare-part-1                                1\n",
       "12-distributed-ml/6.4-prepare-part-4                                1\n",
       "4-python                                                            1\n",
       "4-python/overview                                                   1\n",
       "appendix/professional-development/post-interview-review-form        1\n",
       "Name: lesson, Length: 2314, dtype: int64"
      ]
     },
     "execution_count": 11,
     "metadata": {},
     "output_type": "execute_result"
    }
   ],
   "source": [
    "df['lesson'].value_counts()\n"
   ]
  }
 ],
 "metadata": {
  "kernelspec": {
   "display_name": "Python 3 (ipykernel)",
   "language": "python",
   "name": "python3"
  },
  "language_info": {
   "codemirror_mode": {
    "name": "ipython",
    "version": 3
   },
   "file_extension": ".py",
   "mimetype": "text/x-python",
   "name": "python",
   "nbconvert_exporter": "python",
   "pygments_lexer": "ipython3",
   "version": "3.10.9"
  }
 },
 "nbformat": 4,
 "nbformat_minor": 5
}
