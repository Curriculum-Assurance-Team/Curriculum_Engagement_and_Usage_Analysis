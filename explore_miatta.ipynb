{
 "cells": [
  {
   "cell_type": "markdown",
   "id": "ebe4526d-2def-40b7-b7f2-d4e851a1df50",
   "metadata": {},
   "source": [
    "# Exploratory notebook"
   ]
  },
  {
   "cell_type": "code",
   "execution_count": 1,
   "id": "341e41c0-2d5f-470e-b589-5fdd31adf1d4",
   "metadata": {},
   "outputs": [],
   "source": [
    "# Import Libraries\n",
    "import pandas as pd\n",
    "import numpy as np\n",
    "import os\n",
    "import urllib.parse\n",
    "import gzip\n",
    "import seaborn as sns\n",
    "import matplotlib.pyplot as plt\n",
    "import scipy.stats as stats\n",
    "from scipy.stats import chi2_contingency\n",
    "import explore_ms as e\n",
    "\n",
    "from io import BytesIO\n",
    "from io import StringIO\n",
    "from sqlalchemy import create_engine\n",
    "\n",
    "from sklearn.model_selection import train_test_split\n",
    "from sklearn.linear_model import LogisticRegression\n",
    "from sklearn.metrics import accuracy_score, precision_score, recall_score\n",
    "from sklearn.tree import DecisionTreeClassifier, plot_tree\n",
    "from sklearn.metrics import confusion_matrix, accuracy_score, classification_report\n",
    "from IPython.display import display, display_html\n",
    "from sklearn.dummy import DummyClassifier\n",
    "from sklearn.preprocessing import StandardScaler\n",
    "from sklearn.preprocessing import LabelEncoder\n",
    "from sklearn.ensemble import RandomForestClassifier"
   ]
  },
  {
   "cell_type": "markdown",
   "id": "dff8669b-72fa-4ae5-8bcb-2d5ba63d64b4",
   "metadata": {},
   "source": [
    "# ACQUIRE"
   ]
  },
  {
   "cell_type": "code",
   "execution_count": 2,
   "id": "0e67b6a7-f859-4031-a00c-6ff865db33ad",
   "metadata": {},
   "outputs": [],
   "source": [
    "logs_df = e.get_sql_data()"
   ]
  },
  {
   "cell_type": "code",
   "execution_count": 3,
   "id": "be042348-965c-4852-8103-f3d40af1d2ab",
   "metadata": {},
   "outputs": [
    {
     "data": {
      "text/html": [
       "<div>\n",
       "<style scoped>\n",
       "    .dataframe tbody tr th:only-of-type {\n",
       "        vertical-align: middle;\n",
       "    }\n",
       "\n",
       "    .dataframe tbody tr th {\n",
       "        vertical-align: top;\n",
       "    }\n",
       "\n",
       "    .dataframe thead th {\n",
       "        text-align: right;\n",
       "    }\n",
       "</style>\n",
       "<table border=\"1\" class=\"dataframe\">\n",
       "  <thead>\n",
       "    <tr style=\"text-align: right;\">\n",
       "      <th></th>\n",
       "      <th>0</th>\n",
       "      <th>1</th>\n",
       "      <th>2</th>\n",
       "      <th>3</th>\n",
       "      <th>4</th>\n",
       "    </tr>\n",
       "  </thead>\n",
       "  <tbody>\n",
       "    <tr>\n",
       "      <th>lesson</th>\n",
       "      <td>/</td>\n",
       "      <td>java-ii</td>\n",
       "      <td>java-ii/object-oriented-programming</td>\n",
       "      <td>slides/object_oriented_programming</td>\n",
       "      <td>javascript-i/conditionals</td>\n",
       "    </tr>\n",
       "    <tr>\n",
       "      <th>user_id</th>\n",
       "      <td>1</td>\n",
       "      <td>1</td>\n",
       "      <td>1</td>\n",
       "      <td>1</td>\n",
       "      <td>2</td>\n",
       "    </tr>\n",
       "    <tr>\n",
       "      <th>name</th>\n",
       "      <td>Hampton</td>\n",
       "      <td>Hampton</td>\n",
       "      <td>Hampton</td>\n",
       "      <td>Hampton</td>\n",
       "      <td>Teddy</td>\n",
       "    </tr>\n",
       "    <tr>\n",
       "      <th>program_id</th>\n",
       "      <td>1</td>\n",
       "      <td>1</td>\n",
       "      <td>1</td>\n",
       "      <td>1</td>\n",
       "      <td>2</td>\n",
       "    </tr>\n",
       "    <tr>\n",
       "      <th>ip</th>\n",
       "      <td>97.105.19.61</td>\n",
       "      <td>97.105.19.61</td>\n",
       "      <td>97.105.19.61</td>\n",
       "      <td>97.105.19.61</td>\n",
       "      <td>97.105.19.61</td>\n",
       "    </tr>\n",
       "    <tr>\n",
       "      <th>start_date</th>\n",
       "      <td>2015-09-22</td>\n",
       "      <td>2015-09-22</td>\n",
       "      <td>2015-09-22</td>\n",
       "      <td>2015-09-22</td>\n",
       "      <td>2018-01-08</td>\n",
       "    </tr>\n",
       "    <tr>\n",
       "      <th>end_date</th>\n",
       "      <td>2016-02-06</td>\n",
       "      <td>2016-02-06</td>\n",
       "      <td>2016-02-06</td>\n",
       "      <td>2016-02-06</td>\n",
       "      <td>2018-05-17</td>\n",
       "    </tr>\n",
       "  </tbody>\n",
       "</table>\n",
       "</div>"
      ],
      "text/plain": [
       "                       0             1                                    2  \\\n",
       "lesson                 /       java-ii  java-ii/object-oriented-programming   \n",
       "user_id                1             1                                    1   \n",
       "name             Hampton       Hampton                              Hampton   \n",
       "program_id             1             1                                    1   \n",
       "ip          97.105.19.61  97.105.19.61                         97.105.19.61   \n",
       "start_date    2015-09-22    2015-09-22                           2015-09-22   \n",
       "end_date      2016-02-06    2016-02-06                           2016-02-06   \n",
       "\n",
       "                                             3                          4  \n",
       "lesson      slides/object_oriented_programming  javascript-i/conditionals  \n",
       "user_id                                      1                          2  \n",
       "name                                   Hampton                      Teddy  \n",
       "program_id                                   1                          2  \n",
       "ip                                97.105.19.61               97.105.19.61  \n",
       "start_date                          2015-09-22                 2018-01-08  \n",
       "end_date                            2016-02-06                 2018-05-17  "
      ]
     },
     "execution_count": 3,
     "metadata": {},
     "output_type": "execute_result"
    }
   ],
   "source": [
    "logs_df.head().T"
   ]
  },
  {
   "cell_type": "code",
   "execution_count": 4,
   "id": "c6971b1e-0979-466d-9db8-cc665fdf5de7",
   "metadata": {},
   "outputs": [
    {
     "data": {
      "text/html": [
       "<div>\n",
       "<style scoped>\n",
       "    .dataframe tbody tr th:only-of-type {\n",
       "        vertical-align: middle;\n",
       "    }\n",
       "\n",
       "    .dataframe tbody tr th {\n",
       "        vertical-align: top;\n",
       "    }\n",
       "\n",
       "    .dataframe thead th {\n",
       "        text-align: right;\n",
       "    }\n",
       "</style>\n",
       "<table border=\"1\" class=\"dataframe\">\n",
       "  <thead>\n",
       "    <tr style=\"text-align: right;\">\n",
       "      <th></th>\n",
       "      <th>user_id</th>\n",
       "      <th>program_id</th>\n",
       "    </tr>\n",
       "  </thead>\n",
       "  <tbody>\n",
       "    <tr>\n",
       "      <th>count</th>\n",
       "      <td>847330.000000</td>\n",
       "      <td>847330.000000</td>\n",
       "    </tr>\n",
       "    <tr>\n",
       "      <th>mean</th>\n",
       "      <td>456.707344</td>\n",
       "      <td>2.086004</td>\n",
       "    </tr>\n",
       "    <tr>\n",
       "      <th>std</th>\n",
       "      <td>250.734201</td>\n",
       "      <td>0.388231</td>\n",
       "    </tr>\n",
       "    <tr>\n",
       "      <th>min</th>\n",
       "      <td>1.000000</td>\n",
       "      <td>1.000000</td>\n",
       "    </tr>\n",
       "    <tr>\n",
       "      <th>25%</th>\n",
       "      <td>263.000000</td>\n",
       "      <td>2.000000</td>\n",
       "    </tr>\n",
       "    <tr>\n",
       "      <th>50%</th>\n",
       "      <td>476.000000</td>\n",
       "      <td>2.000000</td>\n",
       "    </tr>\n",
       "    <tr>\n",
       "      <th>75%</th>\n",
       "      <td>648.000000</td>\n",
       "      <td>2.000000</td>\n",
       "    </tr>\n",
       "    <tr>\n",
       "      <th>max</th>\n",
       "      <td>981.000000</td>\n",
       "      <td>4.000000</td>\n",
       "    </tr>\n",
       "  </tbody>\n",
       "</table>\n",
       "</div>"
      ],
      "text/plain": [
       "             user_id     program_id\n",
       "count  847330.000000  847330.000000\n",
       "mean      456.707344       2.086004\n",
       "std       250.734201       0.388231\n",
       "min         1.000000       1.000000\n",
       "25%       263.000000       2.000000\n",
       "50%       476.000000       2.000000\n",
       "75%       648.000000       2.000000\n",
       "max       981.000000       4.000000"
      ]
     },
     "execution_count": 4,
     "metadata": {},
     "output_type": "execute_result"
    }
   ],
   "source": [
    "logs_df.describe()\n"
   ]
  },
  {
   "cell_type": "code",
   "execution_count": 5,
   "id": "5b764582-e85c-4e6f-8348-448cc4b13074",
   "metadata": {},
   "outputs": [
    {
     "data": {
      "text/plain": [
       "['lesson', 'user_id', 'name', 'program_id', 'ip', 'start_date', 'end_date']"
      ]
     },
     "execution_count": 5,
     "metadata": {},
     "output_type": "execute_result"
    }
   ],
   "source": [
    "logs_df.columns.tolist()\n"
   ]
  },
  {
   "cell_type": "code",
   "execution_count": 6,
   "id": "43fe9686-f29b-4466-bbee-18fa378ba836",
   "metadata": {},
   "outputs": [
    {
     "data": {
      "text/plain": [
       "lesson        1\n",
       "user_id       0\n",
       "name          0\n",
       "program_id    0\n",
       "ip            0\n",
       "start_date    0\n",
       "end_date      0\n",
       "dtype: int64"
      ]
     },
     "execution_count": 6,
     "metadata": {},
     "output_type": "execute_result"
    }
   ],
   "source": [
    "logs_df.isnull().sum()\n"
   ]
  },
  {
   "cell_type": "markdown",
   "id": "0f439890-6453-4dd9-af6f-12eecb6d3699",
   "metadata": {},
   "source": [
    "# PREPARE"
   ]
  },
  {
   "cell_type": "code",
   "execution_count": 7,
   "id": "7360738b-1f23-46ca-a0a5-cb6d74a649e8",
   "metadata": {},
   "outputs": [],
   "source": [
    "def prep_logs(logs_df):\n",
    "    \"\"\"\n",
    "    Preprocesses the given DataFrame by dropping unnecessary columns, renaming columns,\n",
    "    mapping program IDs to program names, ensuring cohort_id is of integer type,\n",
    "    and extracting lesson and endpoint from path.\n",
    "    \"\"\"\n",
    "    logs_df = logs_df.copy()  # Create a copy to avoid modifying the input DataFrame directly\n",
    "    \n",
    "    # column_rename_mapping = {'name': 'cohort', 'created_at': 'created', 'updated_at': 'updated'}\n",
    "    # logs_df = logs_df.rename(columns=column_rename_mapping)\n",
    "    \n",
    "    program_mapping = {1: 'web dev', 2: 'web dev', 3: 'data science', 4: 'frontend'}\n",
    "    logs_df['program'] = logs_df['program_id'].map(program_mapping)\n",
    "    \n",
    "\n",
    "    logs_df['lesson'] = logs_df['path'].str.split('/').str[-2]\n",
    "    logs_df['endpoint'] = logs_df['path'].str.split('/').str[-1]\n",
    "    \n",
    "    return logs_df\n"
   ]
  },
  {
   "cell_type": "code",
   "execution_count": 8,
   "id": "940b675b-d447-49de-ba67-425cfaa6c395",
   "metadata": {},
   "outputs": [
    {
     "ename": "KeyError",
     "evalue": "'path'",
     "output_type": "error",
     "traceback": [
      "\u001b[0;31m---------------------------------------------------------------------------\u001b[0m",
      "\u001b[0;31mKeyError\u001b[0m                                  Traceback (most recent call last)",
      "File \u001b[0;32m/opt/homebrew/anaconda3/lib/python3.10/site-packages/pandas/core/indexes/base.py:3802\u001b[0m, in \u001b[0;36mIndex.get_loc\u001b[0;34m(self, key, method, tolerance)\u001b[0m\n\u001b[1;32m   3801\u001b[0m \u001b[38;5;28;01mtry\u001b[39;00m:\n\u001b[0;32m-> 3802\u001b[0m     \u001b[38;5;28;01mreturn\u001b[39;00m \u001b[38;5;28;43mself\u001b[39;49m\u001b[38;5;241;43m.\u001b[39;49m\u001b[43m_engine\u001b[49m\u001b[38;5;241;43m.\u001b[39;49m\u001b[43mget_loc\u001b[49m\u001b[43m(\u001b[49m\u001b[43mcasted_key\u001b[49m\u001b[43m)\u001b[49m\n\u001b[1;32m   3803\u001b[0m \u001b[38;5;28;01mexcept\u001b[39;00m \u001b[38;5;167;01mKeyError\u001b[39;00m \u001b[38;5;28;01mas\u001b[39;00m err:\n",
      "File \u001b[0;32m/opt/homebrew/anaconda3/lib/python3.10/site-packages/pandas/_libs/index.pyx:138\u001b[0m, in \u001b[0;36mpandas._libs.index.IndexEngine.get_loc\u001b[0;34m()\u001b[0m\n",
      "File \u001b[0;32m/opt/homebrew/anaconda3/lib/python3.10/site-packages/pandas/_libs/index.pyx:165\u001b[0m, in \u001b[0;36mpandas._libs.index.IndexEngine.get_loc\u001b[0;34m()\u001b[0m\n",
      "File \u001b[0;32mpandas/_libs/hashtable_class_helper.pxi:5745\u001b[0m, in \u001b[0;36mpandas._libs.hashtable.PyObjectHashTable.get_item\u001b[0;34m()\u001b[0m\n",
      "File \u001b[0;32mpandas/_libs/hashtable_class_helper.pxi:5753\u001b[0m, in \u001b[0;36mpandas._libs.hashtable.PyObjectHashTable.get_item\u001b[0;34m()\u001b[0m\n",
      "\u001b[0;31mKeyError\u001b[0m: 'path'",
      "\nThe above exception was the direct cause of the following exception:\n",
      "\u001b[0;31mKeyError\u001b[0m                                  Traceback (most recent call last)",
      "Cell \u001b[0;32mIn[8], line 1\u001b[0m\n\u001b[0;32m----> 1\u001b[0m logs_df \u001b[38;5;241m=\u001b[39m \u001b[43mprep_logs\u001b[49m\u001b[43m(\u001b[49m\u001b[43mlogs_df\u001b[49m\u001b[43m)\u001b[49m\n",
      "Cell \u001b[0;32mIn[7], line 16\u001b[0m, in \u001b[0;36mprep_logs\u001b[0;34m(logs_df)\u001b[0m\n\u001b[1;32m     12\u001b[0m program_mapping \u001b[38;5;241m=\u001b[39m {\u001b[38;5;241m1\u001b[39m: \u001b[38;5;124m'\u001b[39m\u001b[38;5;124mweb dev\u001b[39m\u001b[38;5;124m'\u001b[39m, \u001b[38;5;241m2\u001b[39m: \u001b[38;5;124m'\u001b[39m\u001b[38;5;124mweb dev\u001b[39m\u001b[38;5;124m'\u001b[39m, \u001b[38;5;241m3\u001b[39m: \u001b[38;5;124m'\u001b[39m\u001b[38;5;124mdata science\u001b[39m\u001b[38;5;124m'\u001b[39m, \u001b[38;5;241m4\u001b[39m: \u001b[38;5;124m'\u001b[39m\u001b[38;5;124mfrontend\u001b[39m\u001b[38;5;124m'\u001b[39m}\n\u001b[1;32m     13\u001b[0m logs_df[\u001b[38;5;124m'\u001b[39m\u001b[38;5;124mprogram\u001b[39m\u001b[38;5;124m'\u001b[39m] \u001b[38;5;241m=\u001b[39m logs_df[\u001b[38;5;124m'\u001b[39m\u001b[38;5;124mprogram_id\u001b[39m\u001b[38;5;124m'\u001b[39m]\u001b[38;5;241m.\u001b[39mmap(program_mapping)\n\u001b[0;32m---> 16\u001b[0m logs_df[\u001b[38;5;124m'\u001b[39m\u001b[38;5;124mlesson\u001b[39m\u001b[38;5;124m'\u001b[39m] \u001b[38;5;241m=\u001b[39m \u001b[43mlogs_df\u001b[49m\u001b[43m[\u001b[49m\u001b[38;5;124;43m'\u001b[39;49m\u001b[38;5;124;43mpath\u001b[39;49m\u001b[38;5;124;43m'\u001b[39;49m\u001b[43m]\u001b[49m\u001b[38;5;241m.\u001b[39mstr\u001b[38;5;241m.\u001b[39msplit(\u001b[38;5;124m'\u001b[39m\u001b[38;5;124m/\u001b[39m\u001b[38;5;124m'\u001b[39m)\u001b[38;5;241m.\u001b[39mstr[\u001b[38;5;241m-\u001b[39m\u001b[38;5;241m2\u001b[39m]\n\u001b[1;32m     17\u001b[0m logs_df[\u001b[38;5;124m'\u001b[39m\u001b[38;5;124mendpoint\u001b[39m\u001b[38;5;124m'\u001b[39m] \u001b[38;5;241m=\u001b[39m logs_df[\u001b[38;5;124m'\u001b[39m\u001b[38;5;124mpath\u001b[39m\u001b[38;5;124m'\u001b[39m]\u001b[38;5;241m.\u001b[39mstr\u001b[38;5;241m.\u001b[39msplit(\u001b[38;5;124m'\u001b[39m\u001b[38;5;124m/\u001b[39m\u001b[38;5;124m'\u001b[39m)\u001b[38;5;241m.\u001b[39mstr[\u001b[38;5;241m-\u001b[39m\u001b[38;5;241m1\u001b[39m]\n\u001b[1;32m     19\u001b[0m \u001b[38;5;28;01mreturn\u001b[39;00m logs_df\n",
      "File \u001b[0;32m/opt/homebrew/anaconda3/lib/python3.10/site-packages/pandas/core/frame.py:3807\u001b[0m, in \u001b[0;36mDataFrame.__getitem__\u001b[0;34m(self, key)\u001b[0m\n\u001b[1;32m   3805\u001b[0m \u001b[38;5;28;01mif\u001b[39;00m \u001b[38;5;28mself\u001b[39m\u001b[38;5;241m.\u001b[39mcolumns\u001b[38;5;241m.\u001b[39mnlevels \u001b[38;5;241m>\u001b[39m \u001b[38;5;241m1\u001b[39m:\n\u001b[1;32m   3806\u001b[0m     \u001b[38;5;28;01mreturn\u001b[39;00m \u001b[38;5;28mself\u001b[39m\u001b[38;5;241m.\u001b[39m_getitem_multilevel(key)\n\u001b[0;32m-> 3807\u001b[0m indexer \u001b[38;5;241m=\u001b[39m \u001b[38;5;28;43mself\u001b[39;49m\u001b[38;5;241;43m.\u001b[39;49m\u001b[43mcolumns\u001b[49m\u001b[38;5;241;43m.\u001b[39;49m\u001b[43mget_loc\u001b[49m\u001b[43m(\u001b[49m\u001b[43mkey\u001b[49m\u001b[43m)\u001b[49m\n\u001b[1;32m   3808\u001b[0m \u001b[38;5;28;01mif\u001b[39;00m is_integer(indexer):\n\u001b[1;32m   3809\u001b[0m     indexer \u001b[38;5;241m=\u001b[39m [indexer]\n",
      "File \u001b[0;32m/opt/homebrew/anaconda3/lib/python3.10/site-packages/pandas/core/indexes/base.py:3804\u001b[0m, in \u001b[0;36mIndex.get_loc\u001b[0;34m(self, key, method, tolerance)\u001b[0m\n\u001b[1;32m   3802\u001b[0m     \u001b[38;5;28;01mreturn\u001b[39;00m \u001b[38;5;28mself\u001b[39m\u001b[38;5;241m.\u001b[39m_engine\u001b[38;5;241m.\u001b[39mget_loc(casted_key)\n\u001b[1;32m   3803\u001b[0m \u001b[38;5;28;01mexcept\u001b[39;00m \u001b[38;5;167;01mKeyError\u001b[39;00m \u001b[38;5;28;01mas\u001b[39;00m err:\n\u001b[0;32m-> 3804\u001b[0m     \u001b[38;5;28;01mraise\u001b[39;00m \u001b[38;5;167;01mKeyError\u001b[39;00m(key) \u001b[38;5;28;01mfrom\u001b[39;00m \u001b[38;5;21;01merr\u001b[39;00m\n\u001b[1;32m   3805\u001b[0m \u001b[38;5;28;01mexcept\u001b[39;00m \u001b[38;5;167;01mTypeError\u001b[39;00m:\n\u001b[1;32m   3806\u001b[0m     \u001b[38;5;66;03m# If we have a listlike key, _check_indexing_error will raise\u001b[39;00m\n\u001b[1;32m   3807\u001b[0m     \u001b[38;5;66;03m#  InvalidIndexError. Otherwise we fall through and re-raise\u001b[39;00m\n\u001b[1;32m   3808\u001b[0m     \u001b[38;5;66;03m#  the TypeError.\u001b[39;00m\n\u001b[1;32m   3809\u001b[0m     \u001b[38;5;28mself\u001b[39m\u001b[38;5;241m.\u001b[39m_check_indexing_error(key)\n",
      "\u001b[0;31mKeyError\u001b[0m: 'path'"
     ]
    }
   ],
   "source": [
    "logs_df = prep_logs(logs_df)\n"
   ]
  },
  {
   "cell_type": "markdown",
   "id": "8244af60-5786-49b7-b221-f74de5976194",
   "metadata": {
    "tags": []
   },
   "source": [
    "# 1. Which lesson appears to attract the most traffic consistently across cohorts (per program)?"
   ]
  },
  {
   "cell_type": "code",
   "execution_count": null,
   "id": "5fc6fe01-9dd6-44e0-993c-7570a8c2ce7f",
   "metadata": {},
   "outputs": [],
   "source": [
    "logs_df['lesson'].value_counts().head()"
   ]
  },
  {
   "cell_type": "code",
   "execution_count": null,
   "id": "0abb5edb-0be5-4dab-9c97-00283c61c7f8",
   "metadata": {},
   "outputs": [],
   "source": [
    "logs_df.program.value_counts()\n"
   ]
  },
  {
   "cell_type": "code",
   "execution_count": null,
   "id": "1c8c4f4d-1272-4acd-b7f9-a480587dbb10",
   "metadata": {},
   "outputs": [],
   "source": [
    "data_series = logs_df[(logs_df['program'] == 'data science') & \n",
    "                      (logs_df['cohort'] != 'Staff') & \n",
    "                      (logs_df['lesson'] != '')].lesson.value_counts().head(7)[2:6]\n"
   ]
  },
  {
   "cell_type": "code",
   "execution_count": null,
   "id": "ce91f1bd-50cb-4316-b7b8-a55948e5575c",
   "metadata": {},
   "outputs": [],
   "source": [
    "web_dev_series = logs_df[(logs_df['program'] == 'web dev') & \n",
    "                         (logs_df['cohort'] != 'Staff') & \n",
    "                         (logs_df['lesson'] != '')].lesson.value_counts().head(5)\n"
   ]
  },
  {
   "cell_type": "code",
   "execution_count": null,
   "id": "f40ad880-b8ab-4223-b90c-e1cecd036ae1",
   "metadata": {},
   "outputs": [],
   "source": [
    "front_series = logs_df[(logs_df['program'] == 'frontend') & \n",
    "                       (logs_df['cohort'] != 'Staff') & \n",
    "                       (logs_df['lesson'] != '')].lesson.value_counts().head(7)[2:6]\n"
   ]
  },
  {
   "cell_type": "code",
   "execution_count": null,
   "id": "22960b11-0c0d-41e3-8ea7-9bffed16601d",
   "metadata": {},
   "outputs": [],
   "source": [
    "# per lesson, per program, per cohort\n",
    "data_fundies_cohort = logs_df[(logs_df['lesson'] == 'fundamentals') & \n",
    "                              (logs_df['program'] == 'data science') & \n",
    "                              (logs_df['cohort'] != 'Staff')].cohort.value_counts().head(5)\n",
    "data_fundies_cohort\n"
   ]
  },
  {
   "cell_type": "code",
   "execution_count": null,
   "id": "7219e5f9-8e26-44ad-a525-359cfaccf45c",
   "metadata": {},
   "outputs": [],
   "source": [
    "# per lesson, per program, per cohort\n",
    "web_java_cohort = logs_df[(logs_df['lesson'] == 'mysql') & \n",
    "                          (logs_df['program'] == 'web dev')  & \n",
    "                          (logs_df['cohort'] != 'Staff')].cohort.value_counts().head(10)\n",
    "web_java_cohort\n"
   ]
  },
  {
   "cell_type": "code",
   "execution_count": null,
   "id": "85818822-1ec2-4157-a6c2-8debc00c2939",
   "metadata": {},
   "outputs": [],
   "source": [
    "# per lesson, per program, per cohort\n",
    "front_images_cohort = logs_df[(logs_df['lesson'] == 'images') & \n",
    "                              (logs_df['program'] == 'frontend') & \n",
    "                              (logs_df['cohort'] != 'Staff')].cohort.value_counts()\n",
    "front_images_cohort\n"
   ]
  },
  {
   "cell_type": "markdown",
   "id": "6a9e6926-b7cb-4ae8-83a1-bd5242d45b49",
   "metadata": {},
   "source": [
    "# EXPLORE "
   ]
  }
 ],
 "metadata": {
  "kernelspec": {
   "display_name": "Python 3 (ipykernel)",
   "language": "python",
   "name": "python3"
  },
  "language_info": {
   "codemirror_mode": {
    "name": "ipython",
    "version": 3
   },
   "file_extension": ".py",
   "mimetype": "text/x-python",
   "name": "python",
   "nbconvert_exporter": "python",
   "pygments_lexer": "ipython3",
   "version": "3.10.9"
  }
 },
 "nbformat": 4,
 "nbformat_minor": 5
}
