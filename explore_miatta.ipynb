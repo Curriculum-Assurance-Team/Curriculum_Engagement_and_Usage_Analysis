{
 "cells": [
  {
   "cell_type": "markdown",
   "id": "ebe4526d-2def-40b7-b7f2-d4e851a1df50",
   "metadata": {},
   "source": [
    "# Exploratory notebook"
   ]
  },
  {
   "cell_type": "code",
   "execution_count": 1,
   "id": "341e41c0-2d5f-470e-b589-5fdd31adf1d4",
   "metadata": {},
   "outputs": [],
   "source": [
    "# Import Libraries\n",
    "import pandas as pd\n",
    "import numpy as np\n",
    "import os\n",
    "import urllib.parse\n",
    "import gzip\n",
    "import seaborn as sns\n",
    "import matplotlib.pyplot as plt\n",
    "import scipy.stats as stats\n",
    "from scipy.stats import chi2_contingency\n",
    "\n",
    "\n",
    "from io import BytesIO\n",
    "from io import StringIO\n",
    "\n",
    "\n",
    "from sklearn.model_selection import train_test_split\n",
    "from sklearn.linear_model import LogisticRegression\n",
    "from sklearn.metrics import accuracy_score, precision_score, recall_score\n",
    "from sklearn.tree import DecisionTreeClassifier, plot_tree\n",
    "from sklearn.metrics import confusion_matrix, accuracy_score, classification_report\n",
    "from IPython.display import display, display_html\n",
    "from sklearn.dummy import DummyClassifier\n",
    "from sklearn.preprocessing import StandardScaler\n",
    "from sklearn.preprocessing import LabelEncoder\n",
    "from sklearn.ensemble import RandomForestClassifier"
   ]
  },
  {
   "cell_type": "markdown",
   "id": "dff8669b-72fa-4ae5-8bcb-2d5ba63d64b4",
   "metadata": {},
   "source": [
    "# ACQUIRE"
   ]
  },
  {
   "cell_type": "code",
   "execution_count": 14,
   "id": "50c01738-f0eb-4b06-87a9-a36b86a1ee79",
   "metadata": {},
   "outputs": [
    {
     "name": "stdout",
     "output_type": "stream",
     "text": [
      "(900223, 5)\n",
      "<bound method DataFrame.info of                       date                                            lesson  \\\n",
      "0      2018-01-26 09:55:03                                                 /   \n",
      "1      2018-01-26 09:56:02                                           java-ii   \n",
      "2      2018-01-26 09:56:05               java-ii/object-oriented-programming   \n",
      "3      2018-01-26 09:56:06                slides/object_oriented_programming   \n",
      "4      2018-01-26 09:56:24                         javascript-i/conditionals   \n",
      "...                    ...                                               ...   \n",
      "900218 2021-04-21 16:41:51                              jquery/personal-site   \n",
      "900219 2021-04-21 16:42:02                                 jquery/mapbox-api   \n",
      "900220 2021-04-21 16:42:09                           jquery/ajax/weather-map   \n",
      "900221 2021-04-21 16:44:37  anomaly-detection/discrete-probabilistic-methods   \n",
      "900222 2021-04-21 16:44:39                                 jquery/mapbox-api   \n",
      "\n",
      "        user_id cohort_id     ip_address  \n",
      "0             1         8   97.105.19.61  \n",
      "1             1         8   97.105.19.61  \n",
      "2             1         8   97.105.19.61  \n",
      "3             1         8   97.105.19.61  \n",
      "4             2        22   97.105.19.61  \n",
      "...         ...       ...            ...  \n",
      "900218       64        28  71.150.217.33  \n",
      "900219       64        28  71.150.217.33  \n",
      "900220       64        28  71.150.217.33  \n",
      "900221      744        28  24.160.137.86  \n",
      "900222       64        28  71.150.217.33  \n",
      "\n",
      "[900223 rows x 5 columns]>\n",
      "                              0                    1  \\\n",
      "date        2018-01-26 09:55:03  2018-01-26 09:56:02   \n",
      "lesson                        /              java-ii   \n",
      "user_id                       1                    1   \n",
      "cohort_id                     8                    8   \n",
      "ip_address         97.105.19.61         97.105.19.61   \n",
      "\n",
      "                                              2  \\\n",
      "date                        2018-01-26 09:56:05   \n",
      "lesson      java-ii/object-oriented-programming   \n",
      "user_id                                       1   \n",
      "cohort_id                                     8   \n",
      "ip_address                         97.105.19.61   \n",
      "\n",
      "                                             3                          4  \n",
      "date                       2018-01-26 09:56:06        2018-01-26 09:56:24  \n",
      "lesson      slides/object_oriented_programming  javascript-i/conditionals  \n",
      "user_id                                      1                          2  \n",
      "cohort_id                                    8                         22  \n",
      "ip_address                        97.105.19.61               97.105.19.61  \n"
     ]
    }
   ],
   "source": [
    "# Replace this with the actual URL-style file path to your compressed text file\n",
    "file_path = \"file:///Users/miattas/Downloads/anonymized-curriculum-access.txt.gz\"\n",
    "\n",
    "# Convert URL-style file path to standard file path\n",
    "parsed_path = urllib.parse.urlparse(file_path)\n",
    "decoded_path = urllib.parse.unquote(parsed_path.path)\n",
    "standard_path = os.path.abspath(decoded_path)\n",
    "\n",
    "# Decompress the .gz file and read its content\n",
    "with gzip.open(standard_path, \"rb\") as gz_file:\n",
    "    data = gz_file.read().decode(\"utf-8\")\n",
    "\n",
    "# Preprocess lines with two consecutive spaces\n",
    "data = data.replace(\"  \", \" None \")\n",
    "\n",
    "# Create a DataFrame from the preprocessed data\n",
    "df = pd.read_csv(StringIO(data), sep=\" \", header=None,\n",
    "                 names=[\"date\", \"time\", \"lesson\", \"user_id\", \"cohort_id\", \"ip_address\"])\n",
    "\n",
    "# Convert 'date' and 'time' columns to a single datetime column\n",
    "df['date'] = pd.to_datetime(df['date'] + ' ' + df['time'])\n",
    "\n",
    "# Drop the 'time' column if it's no longer needed\n",
    "df = df.drop(['time'], axis=1)\n",
    "\n",
    "# SQL query to join 'logs' and 'cohorts' tables\n",
    "sql = \"\"\"\n",
    "SELECT l.date, l.time, l.path as lesson, l.user_id, c.name,\n",
    "       l.ip, c.start_date, c.end_date\n",
    "FROM logs l\n",
    "JOIN cohorts c ON c.id=l.cohort_id;\n",
    "\"\"\"\n",
    "# Now you can perform exploratory data analysis on the 'df' DataFrame\n",
    "# For example, let's display the shape and the first few rows\n",
    "print(df.shape)\n",
    "print(df.info)\n",
    "print(df.head().T)"
   ]
  },
  {
   "cell_type": "code",
   "execution_count": 8,
   "id": "5b764582-e85c-4e6f-8348-448cc4b13074",
   "metadata": {},
   "outputs": [
    {
     "data": {
      "text/plain": [
       "Index(['date', 'lesson', 'user_id', 'cohort_id', 'ip_address'], dtype='object')"
      ]
     },
     "execution_count": 8,
     "metadata": {},
     "output_type": "execute_result"
    }
   ],
   "source": [
    "df.columns"
   ]
  },
  {
   "cell_type": "code",
   "execution_count": 9,
   "id": "10786c7c-8464-497d-b271-a26ccdcbf5bf",
   "metadata": {},
   "outputs": [
    {
     "data": {
      "text/plain": [
       "/                                                               50313\n",
       "search/search_index.json                                        19519\n",
       "javascript-i                                                    18983\n",
       "toc                                                             18297\n",
       "java-iii                                                        13733\n",
       "                                                                ...  \n",
       "12-distributed-ml/6.1-prepare-part-1                                1\n",
       "12-distributed-ml/6.4-prepare-part-4                                1\n",
       "4-python                                                            1\n",
       "4-python/overview                                                   1\n",
       "appendix/professional-development/post-interview-review-form        1\n",
       "Name: lesson, Length: 2314, dtype: int64"
      ]
     },
     "execution_count": 9,
     "metadata": {},
     "output_type": "execute_result"
    }
   ],
   "source": [
    "df['lesson'].value_counts()\n"
   ]
  }
 ],
 "metadata": {
  "kernelspec": {
   "display_name": "Python 3 (ipykernel)",
   "language": "python",
   "name": "python3"
  },
  "language_info": {
   "codemirror_mode": {
    "name": "ipython",
    "version": 3
   },
   "file_extension": ".py",
   "mimetype": "text/x-python",
   "name": "python",
   "nbconvert_exporter": "python",
   "pygments_lexer": "ipython3",
   "version": "3.10.9"
  }
 },
 "nbformat": 4,
 "nbformat_minor": 5
}
