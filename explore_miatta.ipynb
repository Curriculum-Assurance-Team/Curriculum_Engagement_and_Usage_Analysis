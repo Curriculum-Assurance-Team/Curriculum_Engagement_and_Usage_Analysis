{
 "cells": [
  {
   "cell_type": "markdown",
   "id": "ebe4526d-2def-40b7-b7f2-d4e851a1df50",
   "metadata": {},
   "source": [
    "# Exploratory notebook"
   ]
  },
  {
   "cell_type": "code",
   "execution_count": 1,
   "id": "341e41c0-2d5f-470e-b589-5fdd31adf1d4",
   "metadata": {},
   "outputs": [],
   "source": [
    "# Import Libraries\n",
    "import pandas as pd\n",
    "import numpy as np\n",
    "import os\n",
    "import urllib.parse\n",
    "import gzip\n",
    "import seaborn as sns\n",
    "import matplotlib.pyplot as plt\n",
    "import scipy.stats as stats\n",
    "from scipy.stats import chi2_contingency\n",
    "import explore_ms as e\n",
    "\n",
    "from io import BytesIO\n",
    "from io import StringIO\n",
    "from sqlalchemy import create_engine\n",
    "\n",
    "from sklearn.model_selection import train_test_split\n",
    "from sklearn.linear_model import LogisticRegression\n",
    "from sklearn.metrics import accuracy_score, precision_score, recall_score\n",
    "from sklearn.tree import DecisionTreeClassifier, plot_tree\n",
    "from sklearn.metrics import confusion_matrix, accuracy_score, classification_report\n",
    "from IPython.display import display, display_html\n",
    "from sklearn.dummy import DummyClassifier\n",
    "from sklearn.preprocessing import StandardScaler\n",
    "from sklearn.preprocessing import LabelEncoder\n",
    "from sklearn.ensemble import RandomForestClassifier"
   ]
  },
  {
   "cell_type": "markdown",
   "id": "dff8669b-72fa-4ae5-8bcb-2d5ba63d64b4",
   "metadata": {},
   "source": [
    "# ACQUIRE"
   ]
  },
  {
   "cell_type": "code",
   "execution_count": 2,
   "id": "0e67b6a7-f859-4031-a00c-6ff865db33ad",
   "metadata": {},
   "outputs": [],
   "source": [
    "logs_df = e.get_sql_data()"
   ]
  },
  {
   "cell_type": "code",
   "execution_count": 3,
   "id": "be042348-965c-4852-8103-f3d40af1d2ab",
   "metadata": {},
   "outputs": [
    {
     "data": {
      "text/html": [
       "<div>\n",
       "<style scoped>\n",
       "    .dataframe tbody tr th:only-of-type {\n",
       "        vertical-align: middle;\n",
       "    }\n",
       "\n",
       "    .dataframe tbody tr th {\n",
       "        vertical-align: top;\n",
       "    }\n",
       "\n",
       "    .dataframe thead th {\n",
       "        text-align: right;\n",
       "    }\n",
       "</style>\n",
       "<table border=\"1\" class=\"dataframe\">\n",
       "  <thead>\n",
       "    <tr style=\"text-align: right;\">\n",
       "      <th></th>\n",
       "      <th>0</th>\n",
       "      <th>1</th>\n",
       "      <th>2</th>\n",
       "      <th>3</th>\n",
       "      <th>4</th>\n",
       "    </tr>\n",
       "  </thead>\n",
       "  <tbody>\n",
       "    <tr>\n",
       "      <th>lesson</th>\n",
       "      <td>/</td>\n",
       "      <td>java-ii</td>\n",
       "      <td>java-ii/object-oriented-programming</td>\n",
       "      <td>slides/object_oriented_programming</td>\n",
       "      <td>javascript-i/conditionals</td>\n",
       "    </tr>\n",
       "    <tr>\n",
       "      <th>user_id</th>\n",
       "      <td>1</td>\n",
       "      <td>1</td>\n",
       "      <td>1</td>\n",
       "      <td>1</td>\n",
       "      <td>2</td>\n",
       "    </tr>\n",
       "    <tr>\n",
       "      <th>cohort</th>\n",
       "      <td>Hampton</td>\n",
       "      <td>Hampton</td>\n",
       "      <td>Hampton</td>\n",
       "      <td>Hampton</td>\n",
       "      <td>Teddy</td>\n",
       "    </tr>\n",
       "    <tr>\n",
       "      <th>program_id</th>\n",
       "      <td>1</td>\n",
       "      <td>1</td>\n",
       "      <td>1</td>\n",
       "      <td>1</td>\n",
       "      <td>2</td>\n",
       "    </tr>\n",
       "    <tr>\n",
       "      <th>ip</th>\n",
       "      <td>97.105.19.61</td>\n",
       "      <td>97.105.19.61</td>\n",
       "      <td>97.105.19.61</td>\n",
       "      <td>97.105.19.61</td>\n",
       "      <td>97.105.19.61</td>\n",
       "    </tr>\n",
       "    <tr>\n",
       "      <th>start_date</th>\n",
       "      <td>2015-09-22</td>\n",
       "      <td>2015-09-22</td>\n",
       "      <td>2015-09-22</td>\n",
       "      <td>2015-09-22</td>\n",
       "      <td>2018-01-08</td>\n",
       "    </tr>\n",
       "    <tr>\n",
       "      <th>end_date</th>\n",
       "      <td>2016-02-06</td>\n",
       "      <td>2016-02-06</td>\n",
       "      <td>2016-02-06</td>\n",
       "      <td>2016-02-06</td>\n",
       "      <td>2018-05-17</td>\n",
       "    </tr>\n",
       "  </tbody>\n",
       "</table>\n",
       "</div>"
      ],
      "text/plain": [
       "                       0             1                                    2  \\\n",
       "lesson                 /       java-ii  java-ii/object-oriented-programming   \n",
       "user_id                1             1                                    1   \n",
       "cohort           Hampton       Hampton                              Hampton   \n",
       "program_id             1             1                                    1   \n",
       "ip          97.105.19.61  97.105.19.61                         97.105.19.61   \n",
       "start_date    2015-09-22    2015-09-22                           2015-09-22   \n",
       "end_date      2016-02-06    2016-02-06                           2016-02-06   \n",
       "\n",
       "                                             3                          4  \n",
       "lesson      slides/object_oriented_programming  javascript-i/conditionals  \n",
       "user_id                                      1                          2  \n",
       "cohort                                 Hampton                      Teddy  \n",
       "program_id                                   1                          2  \n",
       "ip                                97.105.19.61               97.105.19.61  \n",
       "start_date                          2015-09-22                 2018-01-08  \n",
       "end_date                            2016-02-06                 2018-05-17  "
      ]
     },
     "execution_count": 3,
     "metadata": {},
     "output_type": "execute_result"
    }
   ],
   "source": [
    "logs_df.head().T"
   ]
  },
  {
   "cell_type": "code",
   "execution_count": 4,
   "id": "6dd9ce40-0a71-4367-93cb-e1d9097118e7",
   "metadata": {},
   "outputs": [
    {
     "name": "stdout",
     "output_type": "stream",
     "text": [
      "<class 'pandas.core.frame.DataFrame'>\n",
      "RangeIndex: 847330 entries, 0 to 847329\n",
      "Data columns (total 7 columns):\n",
      " #   Column      Non-Null Count   Dtype \n",
      "---  ------      --------------   ----- \n",
      " 0   lesson      847329 non-null  object\n",
      " 1   user_id     847330 non-null  int64 \n",
      " 2   cohort      847330 non-null  object\n",
      " 3   program_id  847330 non-null  int64 \n",
      " 4   ip          847330 non-null  object\n",
      " 5   start_date  847330 non-null  object\n",
      " 6   end_date    847330 non-null  object\n",
      "dtypes: int64(2), object(5)\n",
      "memory usage: 45.3+ MB\n"
     ]
    }
   ],
   "source": [
    "logs_df.info()\n"
   ]
  },
  {
   "cell_type": "code",
   "execution_count": 5,
   "id": "5b764582-e85c-4e6f-8348-448cc4b13074",
   "metadata": {},
   "outputs": [
    {
     "data": {
      "text/plain": [
       "['lesson', 'user_id', 'cohort', 'program_id', 'ip', 'start_date', 'end_date']"
      ]
     },
     "execution_count": 5,
     "metadata": {},
     "output_type": "execute_result"
    }
   ],
   "source": [
    "logs_df.columns.tolist()\n"
   ]
  },
  {
   "cell_type": "code",
   "execution_count": 6,
   "id": "21d6ba92-b6a2-47e4-a5b4-f045117a818e",
   "metadata": {},
   "outputs": [
    {
     "data": {
      "text/plain": [
       "(847330, 7)"
      ]
     },
     "execution_count": 6,
     "metadata": {},
     "output_type": "execute_result"
    }
   ],
   "source": [
    "logs_df.shape"
   ]
  },
  {
   "cell_type": "code",
   "execution_count": 7,
   "id": "c6971b1e-0979-466d-9db8-cc665fdf5de7",
   "metadata": {},
   "outputs": [
    {
     "data": {
      "text/html": [
       "<div>\n",
       "<style scoped>\n",
       "    .dataframe tbody tr th:only-of-type {\n",
       "        vertical-align: middle;\n",
       "    }\n",
       "\n",
       "    .dataframe tbody tr th {\n",
       "        vertical-align: top;\n",
       "    }\n",
       "\n",
       "    .dataframe thead th {\n",
       "        text-align: right;\n",
       "    }\n",
       "</style>\n",
       "<table border=\"1\" class=\"dataframe\">\n",
       "  <thead>\n",
       "    <tr style=\"text-align: right;\">\n",
       "      <th></th>\n",
       "      <th>user_id</th>\n",
       "      <th>program_id</th>\n",
       "    </tr>\n",
       "  </thead>\n",
       "  <tbody>\n",
       "    <tr>\n",
       "      <th>count</th>\n",
       "      <td>847330.000000</td>\n",
       "      <td>847330.000000</td>\n",
       "    </tr>\n",
       "    <tr>\n",
       "      <th>mean</th>\n",
       "      <td>456.707344</td>\n",
       "      <td>2.086004</td>\n",
       "    </tr>\n",
       "    <tr>\n",
       "      <th>std</th>\n",
       "      <td>250.734201</td>\n",
       "      <td>0.388231</td>\n",
       "    </tr>\n",
       "    <tr>\n",
       "      <th>min</th>\n",
       "      <td>1.000000</td>\n",
       "      <td>1.000000</td>\n",
       "    </tr>\n",
       "    <tr>\n",
       "      <th>25%</th>\n",
       "      <td>263.000000</td>\n",
       "      <td>2.000000</td>\n",
       "    </tr>\n",
       "    <tr>\n",
       "      <th>50%</th>\n",
       "      <td>476.000000</td>\n",
       "      <td>2.000000</td>\n",
       "    </tr>\n",
       "    <tr>\n",
       "      <th>75%</th>\n",
       "      <td>648.000000</td>\n",
       "      <td>2.000000</td>\n",
       "    </tr>\n",
       "    <tr>\n",
       "      <th>max</th>\n",
       "      <td>981.000000</td>\n",
       "      <td>4.000000</td>\n",
       "    </tr>\n",
       "  </tbody>\n",
       "</table>\n",
       "</div>"
      ],
      "text/plain": [
       "             user_id     program_id\n",
       "count  847330.000000  847330.000000\n",
       "mean      456.707344       2.086004\n",
       "std       250.734201       0.388231\n",
       "min         1.000000       1.000000\n",
       "25%       263.000000       2.000000\n",
       "50%       476.000000       2.000000\n",
       "75%       648.000000       2.000000\n",
       "max       981.000000       4.000000"
      ]
     },
     "execution_count": 7,
     "metadata": {},
     "output_type": "execute_result"
    }
   ],
   "source": [
    "logs_df.describe()\n"
   ]
  },
  {
   "cell_type": "code",
   "execution_count": 8,
   "id": "43fe9686-f29b-4466-bbee-18fa378ba836",
   "metadata": {},
   "outputs": [
    {
     "data": {
      "text/plain": [
       "lesson        1\n",
       "user_id       0\n",
       "cohort        0\n",
       "program_id    0\n",
       "ip            0\n",
       "start_date    0\n",
       "end_date      0\n",
       "dtype: int64"
      ]
     },
     "execution_count": 8,
     "metadata": {},
     "output_type": "execute_result"
    }
   ],
   "source": [
    "logs_df.isnull().sum()\n"
   ]
  },
  {
   "cell_type": "markdown",
   "id": "8244af60-5786-49b7-b221-f74de5976194",
   "metadata": {
    "tags": []
   },
   "source": [
    "# 1. Which lesson appears to attract the most traffic consistently across cohorts (per program)?"
   ]
  },
  {
   "cell_type": "code",
   "execution_count": 9,
   "id": "5fc6fe01-9dd6-44e0-993c-7570a8c2ce7f",
   "metadata": {},
   "outputs": [
    {
     "data": {
      "text/plain": [
       "/                           45854\n",
       "javascript-i                18203\n",
       "toc                         17591\n",
       "search/search_index.json    17534\n",
       "java-iii                    13166\n",
       "Name: lesson, dtype: int64"
      ]
     },
     "execution_count": 9,
     "metadata": {},
     "output_type": "execute_result"
    }
   ],
   "source": [
    "logs_df['lesson'].value_counts().head()"
   ]
  },
  {
   "cell_type": "code",
   "execution_count": 10,
   "id": "1db9bc05-c6f8-424f-b169-6e16b9b5ff65",
   "metadata": {},
   "outputs": [
    {
     "data": {
      "text/plain": [
       "Staff      84031\n",
       "Ceres      40730\n",
       "Zion       38096\n",
       "Jupiter    37109\n",
       "Fortuna    36902\n",
       "Name: cohort, dtype: int64"
      ]
     },
     "execution_count": 10,
     "metadata": {},
     "output_type": "execute_result"
    }
   ],
   "source": [
    "logs_df['cohort'].value_counts().head()\n"
   ]
  },
  {
   "cell_type": "code",
   "execution_count": 11,
   "id": "a9498485-6e07-4e84-a059-9b49de1dde26",
   "metadata": {},
   "outputs": [
    {
     "data": {
      "text/plain": [
       "2    713365\n",
       "3    103412\n",
       "1     30548\n",
       "4         5\n",
       "Name: program_id, dtype: int64"
      ]
     },
     "execution_count": 11,
     "metadata": {},
     "output_type": "execute_result"
    }
   ],
   "source": [
    "logs_df['program_id'].value_counts().head()\n"
   ]
  },
  {
   "cell_type": "code",
   "execution_count": 24,
   "id": "c8cf6cbd-ab38-494d-a965-b4d124fefd1b",
   "metadata": {},
   "outputs": [],
   "source": [
    "# Group the DataFrame by program_id, lesson, and cohort\n",
    "grouped_traffic = logs_df.groupby(['program_id', 'lesson', 'cohort'])\n",
    "\n",
    "# Count the number of times each lesson was viewed in each cohort\n",
    "traffic_df = grouped_traffic.size().reset_index(name='count')\n",
    "\n",
    "# Sort the DataFrame by program_id, lesson, and count\n",
    "traffic_df = traffic_df.sort_values(by=['program_id', 'lesson', 'count'], ascending=False)\n"
   ]
  },
  {
   "cell_type": "code",
   "execution_count": 31,
   "id": "e1a9ad27-c2bf-4c56-a2f1-dc420d48de3a",
   "metadata": {},
   "outputs": [
    {
     "data": {
      "text/html": [
       "<div>\n",
       "<style scoped>\n",
       "    .dataframe tbody tr th:only-of-type {\n",
       "        vertical-align: middle;\n",
       "    }\n",
       "\n",
       "    .dataframe tbody tr th {\n",
       "        vertical-align: top;\n",
       "    }\n",
       "\n",
       "    .dataframe thead th {\n",
       "        text-align: right;\n",
       "    }\n",
       "</style>\n",
       "<table border=\"1\" class=\"dataframe\">\n",
       "  <thead>\n",
       "    <tr style=\"text-align: right;\">\n",
       "      <th></th>\n",
       "      <th>program_id</th>\n",
       "      <th>lesson</th>\n",
       "      <th>cohort</th>\n",
       "      <th>count</th>\n",
       "    </tr>\n",
       "  </thead>\n",
       "  <tbody>\n",
       "    <tr>\n",
       "      <th>13564</th>\n",
       "      <td>4</td>\n",
       "      <td>content/html-css/introduction.html</td>\n",
       "      <td>Apollo</td>\n",
       "      <td>1</td>\n",
       "    </tr>\n",
       "    <tr>\n",
       "      <th>13563</th>\n",
       "      <td>4</td>\n",
       "      <td>content/html-css/gitbook/images/favicon.ico</td>\n",
       "      <td>Apollo</td>\n",
       "      <td>1</td>\n",
       "    </tr>\n",
       "    <tr>\n",
       "      <th>13562</th>\n",
       "      <td>4</td>\n",
       "      <td>content/html-css</td>\n",
       "      <td>Apollo</td>\n",
       "      <td>2</td>\n",
       "    </tr>\n",
       "    <tr>\n",
       "      <th>13561</th>\n",
       "      <td>4</td>\n",
       "      <td>/</td>\n",
       "      <td>Apollo</td>\n",
       "      <td>1</td>\n",
       "    </tr>\n",
       "    <tr>\n",
       "      <th>13560</th>\n",
       "      <td>3</td>\n",
       "      <td>working-with-time-series-data</td>\n",
       "      <td>Darden</td>\n",
       "      <td>14</td>\n",
       "    </tr>\n",
       "  </tbody>\n",
       "</table>\n",
       "</div>"
      ],
      "text/plain": [
       "       program_id                                       lesson  cohort  count\n",
       "13564           4           content/html-css/introduction.html  Apollo      1\n",
       "13563           4  content/html-css/gitbook/images/favicon.ico  Apollo      1\n",
       "13562           4                             content/html-css  Apollo      2\n",
       "13561           4                                            /  Apollo      1\n",
       "13560           3                working-with-time-series-data  Darden     14"
      ]
     },
     "execution_count": 31,
     "metadata": {},
     "output_type": "execute_result"
    }
   ],
   "source": [
    "# Print the top 5 rows of the DataFrame\n",
    "traffic_df.head()"
   ]
  },
  {
   "cell_type": "markdown",
   "id": "6a9e6926-b7cb-4ae8-83a1-bd5242d45b49",
   "metadata": {},
   "source": [
    "# EXPLORE "
   ]
  },
  {
   "cell_type": "code",
   "execution_count": null,
   "id": "7b750321-7170-4624-bb0c-d4a75aedfcdc",
   "metadata": {},
   "outputs": [],
   "source": [
    "\n",
    "# Group the DataFrame by program_id, lesson, and cohort\n",
    "grouped_traffic = logs_df.groupby(['program_id', 'lesson', 'cohort'])\n",
    "\n",
    "# Count the number of times each lesson was viewed in each cohort\n",
    "traffic_df = grouped_traffic.size().reset_index(name='count')\n",
    "\n",
    "# Sort the DataFrame by program_id, lesson, and count\n",
    "traffic_df = traffic_df.sort_values(by=['program_id', 'lesson', 'count'], ascending=False)\n",
    "\n",
    "# Get unique lessons and programs\n",
    "unique_lessons = traffic_df['lesson'].unique()\n",
    "unique_programs = traffic_df['program_id'].unique()\n",
    "\n",
    "# Create histograms for each lesson's traffic count\n",
    "for lesson in unique_lessons:\n",
    "    plt.figure(figsize=(8, 4))\n",
    "    for program in unique_programs:\n",
    "        lesson_traffic = traffic_df[(traffic_df['lesson'] == lesson) & (traffic_df['program_id'] == program)]\n",
    "        plt.hist(lesson_traffic['count'], bins=10, alpha=0.5, label=f'Program {program}')\n",
    "    \n",
    "    plt.xlabel('Traffic Count')\n",
    "    plt.ylabel('Frequency')\n",
    "    plt.title(f'Histogram of Traffic Count for Lesson: {lesson}')\n",
    "    plt.legend()\n",
    "    plt.show()\n",
    "    \n",
    "# Print the top 5 rows of the DataFrame\n",
    "traffic_df.head()"
   ]
  },
  {
   "cell_type": "code",
   "execution_count": null,
   "id": "f2af7be2-8d9b-4139-9869-ca4e6c866aab",
   "metadata": {},
   "outputs": [],
   "source": []
  }
 ],
 "metadata": {
  "kernelspec": {
   "display_name": "Python 3 (ipykernel)",
   "language": "python",
   "name": "python3"
  },
  "language_info": {
   "codemirror_mode": {
    "name": "ipython",
    "version": 3
   },
   "file_extension": ".py",
   "mimetype": "text/x-python",
   "name": "python",
   "nbconvert_exporter": "python",
   "pygments_lexer": "ipython3",
   "version": "3.10.9"
  }
 },
 "nbformat": 4,
 "nbformat_minor": 5
}
