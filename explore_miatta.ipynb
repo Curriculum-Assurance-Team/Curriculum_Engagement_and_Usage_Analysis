{
 "cells": [
  {
   "cell_type": "markdown",
   "id": "ebe4526d-2def-40b7-b7f2-d4e851a1df50",
   "metadata": {},
   "source": [
    "# Exploratory notebook"
   ]
  },
  {
   "cell_type": "code",
   "execution_count": 1,
   "id": "341e41c0-2d5f-470e-b589-5fdd31adf1d4",
   "metadata": {},
   "outputs": [],
   "source": [
    "# Import Libraries\n",
    "import pandas as pd\n",
    "import numpy as np\n",
    "import os\n",
    "import urllib.parse\n",
    "import gzip\n",
    "import seaborn as sns\n",
    "import matplotlib.pyplot as plt\n",
    "import scipy.stats as stats\n",
    "from scipy.stats import chi2_contingency\n",
    "import explore_ms as e\n",
    "import env\n",
    "\n",
    "from io import BytesIO\n",
    "from io import StringIO\n",
    "from sqlalchemy import create_engine\n",
    "\n",
    "from sklearn.model_selection import train_test_split\n",
    "from sklearn.linear_model import LogisticRegression\n",
    "from sklearn.metrics import accuracy_score, precision_score, recall_score\n",
    "from sklearn.tree import DecisionTreeClassifier, plot_tree\n",
    "from sklearn.metrics import confusion_matrix, accuracy_score, classification_report\n",
    "from IPython.display import display, display_html\n",
    "from sklearn.dummy import DummyClassifier\n",
    "from sklearn.preprocessing import StandardScaler\n",
    "from sklearn.preprocessing import LabelEncoder\n",
    "from sklearn.ensemble import RandomForestClassifier"
   ]
  },
  {
   "cell_type": "markdown",
   "id": "dff8669b-72fa-4ae5-8bcb-2d5ba63d64b4",
   "metadata": {},
   "source": [
    "# ACQUIRE\n",
    "- "
   ]
  },
  {
   "cell_type": "code",
   "execution_count": 2,
   "id": "0e67b6a7-f859-4031-a00c-6ff865db33ad",
   "metadata": {},
   "outputs": [],
   "source": [
    "logs_df = e.get_sql_data()"
   ]
  },
  {
   "cell_type": "code",
   "execution_count": 3,
   "id": "be042348-965c-4852-8103-f3d40af1d2ab",
   "metadata": {},
   "outputs": [
    {
     "data": {
      "text/html": [
       "<div>\n",
       "<style scoped>\n",
       "    .dataframe tbody tr th:only-of-type {\n",
       "        vertical-align: middle;\n",
       "    }\n",
       "\n",
       "    .dataframe tbody tr th {\n",
       "        vertical-align: top;\n",
       "    }\n",
       "\n",
       "    .dataframe thead th {\n",
       "        text-align: right;\n",
       "    }\n",
       "</style>\n",
       "<table border=\"1\" class=\"dataframe\">\n",
       "  <thead>\n",
       "    <tr style=\"text-align: right;\">\n",
       "      <th></th>\n",
       "      <th>0</th>\n",
       "      <th>1</th>\n",
       "      <th>2</th>\n",
       "      <th>3</th>\n",
       "      <th>4</th>\n",
       "    </tr>\n",
       "  </thead>\n",
       "  <tbody>\n",
       "    <tr>\n",
       "      <th>lesson</th>\n",
       "      <td>/</td>\n",
       "      <td>java-ii</td>\n",
       "      <td>java-ii/object-oriented-programming</td>\n",
       "      <td>slides/object_oriented_programming</td>\n",
       "      <td>javascript-i/conditionals</td>\n",
       "    </tr>\n",
       "    <tr>\n",
       "      <th>user_id</th>\n",
       "      <td>1</td>\n",
       "      <td>1</td>\n",
       "      <td>1</td>\n",
       "      <td>1</td>\n",
       "      <td>2</td>\n",
       "    </tr>\n",
       "    <tr>\n",
       "      <th>cohort</th>\n",
       "      <td>Hampton</td>\n",
       "      <td>Hampton</td>\n",
       "      <td>Hampton</td>\n",
       "      <td>Hampton</td>\n",
       "      <td>Teddy</td>\n",
       "    </tr>\n",
       "    <tr>\n",
       "      <th>program_id</th>\n",
       "      <td>1</td>\n",
       "      <td>1</td>\n",
       "      <td>1</td>\n",
       "      <td>1</td>\n",
       "      <td>2</td>\n",
       "    </tr>\n",
       "    <tr>\n",
       "      <th>ip</th>\n",
       "      <td>97.105.19.61</td>\n",
       "      <td>97.105.19.61</td>\n",
       "      <td>97.105.19.61</td>\n",
       "      <td>97.105.19.61</td>\n",
       "      <td>97.105.19.61</td>\n",
       "    </tr>\n",
       "    <tr>\n",
       "      <th>start_date</th>\n",
       "      <td>2015-09-22</td>\n",
       "      <td>2015-09-22</td>\n",
       "      <td>2015-09-22</td>\n",
       "      <td>2015-09-22</td>\n",
       "      <td>2018-01-08</td>\n",
       "    </tr>\n",
       "    <tr>\n",
       "      <th>end_date</th>\n",
       "      <td>2016-02-06</td>\n",
       "      <td>2016-02-06</td>\n",
       "      <td>2016-02-06</td>\n",
       "      <td>2016-02-06</td>\n",
       "      <td>2018-05-17</td>\n",
       "    </tr>\n",
       "    <tr>\n",
       "      <th>program</th>\n",
       "      <td>web dev</td>\n",
       "      <td>web dev</td>\n",
       "      <td>web dev</td>\n",
       "      <td>web dev</td>\n",
       "      <td>web dev</td>\n",
       "    </tr>\n",
       "  </tbody>\n",
       "</table>\n",
       "</div>"
      ],
      "text/plain": [
       "                       0             1                                    2  \\\n",
       "lesson                 /       java-ii  java-ii/object-oriented-programming   \n",
       "user_id                1             1                                    1   \n",
       "cohort           Hampton       Hampton                              Hampton   \n",
       "program_id             1             1                                    1   \n",
       "ip          97.105.19.61  97.105.19.61                         97.105.19.61   \n",
       "start_date    2015-09-22    2015-09-22                           2015-09-22   \n",
       "end_date      2016-02-06    2016-02-06                           2016-02-06   \n",
       "program          web dev       web dev                              web dev   \n",
       "\n",
       "                                             3                          4  \n",
       "lesson      slides/object_oriented_programming  javascript-i/conditionals  \n",
       "user_id                                      1                          2  \n",
       "cohort                                 Hampton                      Teddy  \n",
       "program_id                                   1                          2  \n",
       "ip                                97.105.19.61               97.105.19.61  \n",
       "start_date                          2015-09-22                 2018-01-08  \n",
       "end_date                            2016-02-06                 2018-05-17  \n",
       "program                                web dev                    web dev  "
      ]
     },
     "execution_count": 3,
     "metadata": {},
     "output_type": "execute_result"
    }
   ],
   "source": [
    "logs_df.head().T"
   ]
  },
  {
   "cell_type": "code",
   "execution_count": 4,
   "id": "0873e1ec-1202-4889-8a14-ade388c7206a",
   "metadata": {},
   "outputs": [
    {
     "data": {
      "text/html": [
       "<div>\n",
       "<style scoped>\n",
       "    .dataframe tbody tr th:only-of-type {\n",
       "        vertical-align: middle;\n",
       "    }\n",
       "\n",
       "    .dataframe tbody tr th {\n",
       "        vertical-align: top;\n",
       "    }\n",
       "\n",
       "    .dataframe thead th {\n",
       "        text-align: right;\n",
       "    }\n",
       "</style>\n",
       "<table border=\"1\" class=\"dataframe\">\n",
       "  <thead>\n",
       "    <tr style=\"text-align: right;\">\n",
       "      <th></th>\n",
       "      <th>847325</th>\n",
       "      <th>847326</th>\n",
       "      <th>847327</th>\n",
       "      <th>847328</th>\n",
       "      <th>847329</th>\n",
       "    </tr>\n",
       "  </thead>\n",
       "  <tbody>\n",
       "    <tr>\n",
       "      <th>lesson</th>\n",
       "      <td>jquery/personal-site</td>\n",
       "      <td>jquery/mapbox-api</td>\n",
       "      <td>jquery/ajax/weather-map</td>\n",
       "      <td>anomaly-detection/discrete-probabilistic-methods</td>\n",
       "      <td>jquery/mapbox-api</td>\n",
       "    </tr>\n",
       "    <tr>\n",
       "      <th>user_id</th>\n",
       "      <td>64</td>\n",
       "      <td>64</td>\n",
       "      <td>64</td>\n",
       "      <td>744</td>\n",
       "      <td>64</td>\n",
       "    </tr>\n",
       "    <tr>\n",
       "      <th>cohort</th>\n",
       "      <td>Staff</td>\n",
       "      <td>Staff</td>\n",
       "      <td>Staff</td>\n",
       "      <td>Staff</td>\n",
       "      <td>Staff</td>\n",
       "    </tr>\n",
       "    <tr>\n",
       "      <th>program_id</th>\n",
       "      <td>2</td>\n",
       "      <td>2</td>\n",
       "      <td>2</td>\n",
       "      <td>2</td>\n",
       "      <td>2</td>\n",
       "    </tr>\n",
       "    <tr>\n",
       "      <th>ip</th>\n",
       "      <td>71.150.217.33</td>\n",
       "      <td>71.150.217.33</td>\n",
       "      <td>71.150.217.33</td>\n",
       "      <td>24.160.137.86</td>\n",
       "      <td>71.150.217.33</td>\n",
       "    </tr>\n",
       "    <tr>\n",
       "      <th>start_date</th>\n",
       "      <td>2014-02-04</td>\n",
       "      <td>2014-02-04</td>\n",
       "      <td>2014-02-04</td>\n",
       "      <td>2014-02-04</td>\n",
       "      <td>2014-02-04</td>\n",
       "    </tr>\n",
       "    <tr>\n",
       "      <th>end_date</th>\n",
       "      <td>2014-02-04</td>\n",
       "      <td>2014-02-04</td>\n",
       "      <td>2014-02-04</td>\n",
       "      <td>2014-02-04</td>\n",
       "      <td>2014-02-04</td>\n",
       "    </tr>\n",
       "    <tr>\n",
       "      <th>program</th>\n",
       "      <td>web dev</td>\n",
       "      <td>web dev</td>\n",
       "      <td>web dev</td>\n",
       "      <td>web dev</td>\n",
       "      <td>web dev</td>\n",
       "    </tr>\n",
       "  </tbody>\n",
       "</table>\n",
       "</div>"
      ],
      "text/plain": [
       "                          847325             847326                   847327  \\\n",
       "lesson      jquery/personal-site  jquery/mapbox-api  jquery/ajax/weather-map   \n",
       "user_id                       64                 64                       64   \n",
       "cohort                     Staff              Staff                    Staff   \n",
       "program_id                     2                  2                        2   \n",
       "ip                 71.150.217.33      71.150.217.33            71.150.217.33   \n",
       "start_date            2014-02-04         2014-02-04               2014-02-04   \n",
       "end_date              2014-02-04         2014-02-04               2014-02-04   \n",
       "program                  web dev            web dev                  web dev   \n",
       "\n",
       "                                                      847328  \\\n",
       "lesson      anomaly-detection/discrete-probabilistic-methods   \n",
       "user_id                                                  744   \n",
       "cohort                                                 Staff   \n",
       "program_id                                                 2   \n",
       "ip                                             24.160.137.86   \n",
       "start_date                                        2014-02-04   \n",
       "end_date                                          2014-02-04   \n",
       "program                                              web dev   \n",
       "\n",
       "                       847329  \n",
       "lesson      jquery/mapbox-api  \n",
       "user_id                    64  \n",
       "cohort                  Staff  \n",
       "program_id                  2  \n",
       "ip              71.150.217.33  \n",
       "start_date         2014-02-04  \n",
       "end_date           2014-02-04  \n",
       "program               web dev  "
      ]
     },
     "execution_count": 4,
     "metadata": {},
     "output_type": "execute_result"
    }
   ],
   "source": [
    "logs_df.tail().T"
   ]
  },
  {
   "cell_type": "code",
   "execution_count": 5,
   "id": "6dd9ce40-0a71-4367-93cb-e1d9097118e7",
   "metadata": {},
   "outputs": [
    {
     "name": "stdout",
     "output_type": "stream",
     "text": [
      "<class 'pandas.core.frame.DataFrame'>\n",
      "RangeIndex: 847330 entries, 0 to 847329\n",
      "Data columns (total 8 columns):\n",
      " #   Column      Non-Null Count   Dtype \n",
      "---  ------      --------------   ----- \n",
      " 0   lesson      847329 non-null  object\n",
      " 1   user_id     847330 non-null  int64 \n",
      " 2   cohort      847330 non-null  object\n",
      " 3   program_id  847330 non-null  int64 \n",
      " 4   ip          847330 non-null  object\n",
      " 5   start_date  847330 non-null  object\n",
      " 6   end_date    847330 non-null  object\n",
      " 7   program     847330 non-null  object\n",
      "dtypes: int64(2), object(6)\n",
      "memory usage: 51.7+ MB\n"
     ]
    }
   ],
   "source": [
    "logs_df.info()\n"
   ]
  },
  {
   "cell_type": "code",
   "execution_count": 6,
   "id": "5b764582-e85c-4e6f-8348-448cc4b13074",
   "metadata": {},
   "outputs": [
    {
     "data": {
      "text/plain": [
       "['lesson',\n",
       " 'user_id',\n",
       " 'cohort',\n",
       " 'program_id',\n",
       " 'ip',\n",
       " 'start_date',\n",
       " 'end_date',\n",
       " 'program']"
      ]
     },
     "execution_count": 6,
     "metadata": {},
     "output_type": "execute_result"
    }
   ],
   "source": [
    "logs_df.columns.tolist()\n"
   ]
  },
  {
   "cell_type": "code",
   "execution_count": 7,
   "id": "21d6ba92-b6a2-47e4-a5b4-f045117a818e",
   "metadata": {},
   "outputs": [
    {
     "data": {
      "text/plain": [
       "(847330, 8)"
      ]
     },
     "execution_count": 7,
     "metadata": {},
     "output_type": "execute_result"
    }
   ],
   "source": [
    "logs_df.shape"
   ]
  },
  {
   "cell_type": "code",
   "execution_count": 8,
   "id": "c6971b1e-0979-466d-9db8-cc665fdf5de7",
   "metadata": {},
   "outputs": [
    {
     "data": {
      "text/html": [
       "<div>\n",
       "<style scoped>\n",
       "    .dataframe tbody tr th:only-of-type {\n",
       "        vertical-align: middle;\n",
       "    }\n",
       "\n",
       "    .dataframe tbody tr th {\n",
       "        vertical-align: top;\n",
       "    }\n",
       "\n",
       "    .dataframe thead th {\n",
       "        text-align: right;\n",
       "    }\n",
       "</style>\n",
       "<table border=\"1\" class=\"dataframe\">\n",
       "  <thead>\n",
       "    <tr style=\"text-align: right;\">\n",
       "      <th></th>\n",
       "      <th>user_id</th>\n",
       "      <th>program_id</th>\n",
       "    </tr>\n",
       "  </thead>\n",
       "  <tbody>\n",
       "    <tr>\n",
       "      <th>count</th>\n",
       "      <td>847330.000000</td>\n",
       "      <td>847330.000000</td>\n",
       "    </tr>\n",
       "    <tr>\n",
       "      <th>mean</th>\n",
       "      <td>456.707344</td>\n",
       "      <td>2.086004</td>\n",
       "    </tr>\n",
       "    <tr>\n",
       "      <th>std</th>\n",
       "      <td>250.734201</td>\n",
       "      <td>0.388231</td>\n",
       "    </tr>\n",
       "    <tr>\n",
       "      <th>min</th>\n",
       "      <td>1.000000</td>\n",
       "      <td>1.000000</td>\n",
       "    </tr>\n",
       "    <tr>\n",
       "      <th>25%</th>\n",
       "      <td>263.000000</td>\n",
       "      <td>2.000000</td>\n",
       "    </tr>\n",
       "    <tr>\n",
       "      <th>50%</th>\n",
       "      <td>476.000000</td>\n",
       "      <td>2.000000</td>\n",
       "    </tr>\n",
       "    <tr>\n",
       "      <th>75%</th>\n",
       "      <td>648.000000</td>\n",
       "      <td>2.000000</td>\n",
       "    </tr>\n",
       "    <tr>\n",
       "      <th>max</th>\n",
       "      <td>981.000000</td>\n",
       "      <td>4.000000</td>\n",
       "    </tr>\n",
       "  </tbody>\n",
       "</table>\n",
       "</div>"
      ],
      "text/plain": [
       "             user_id     program_id\n",
       "count  847330.000000  847330.000000\n",
       "mean      456.707344       2.086004\n",
       "std       250.734201       0.388231\n",
       "min         1.000000       1.000000\n",
       "25%       263.000000       2.000000\n",
       "50%       476.000000       2.000000\n",
       "75%       648.000000       2.000000\n",
       "max       981.000000       4.000000"
      ]
     },
     "execution_count": 8,
     "metadata": {},
     "output_type": "execute_result"
    }
   ],
   "source": [
    "logs_df.describe()\n"
   ]
  },
  {
   "cell_type": "markdown",
   "id": "5ce0bfe1-216d-4411-ae20-aaf600ec3fba",
   "metadata": {},
   "source": [
    "# PREPARE\n",
    "- Coloumns were dropped in the acquire SQL query\n"
   ]
  },
  {
   "cell_type": "code",
   "execution_count": 9,
   "id": "43fe9686-f29b-4466-bbee-18fa378ba836",
   "metadata": {},
   "outputs": [
    {
     "data": {
      "text/plain": [
       "lesson        1\n",
       "user_id       0\n",
       "cohort        0\n",
       "program_id    0\n",
       "ip            0\n",
       "start_date    0\n",
       "end_date      0\n",
       "program       0\n",
       "dtype: int64"
      ]
     },
     "execution_count": 9,
     "metadata": {},
     "output_type": "execute_result"
    }
   ],
   "source": [
    "logs_df.isnull().sum()\n"
   ]
  },
  {
   "cell_type": "markdown",
   "id": "8244af60-5786-49b7-b221-f74de5976194",
   "metadata": {
    "tags": []
   },
   "source": [
    "# 1. Which lesson appears to attract the most traffic consistently across cohorts (per program)?"
   ]
  },
  {
   "cell_type": "code",
   "execution_count": 10,
   "id": "5fc6fe01-9dd6-44e0-993c-7570a8c2ce7f",
   "metadata": {},
   "outputs": [
    {
     "data": {
      "text/plain": [
       "/                                                               45854\n",
       "javascript-i                                                    18203\n",
       "toc                                                             17591\n",
       "search/search_index.json                                        17534\n",
       "java-iii                                                        13166\n",
       "                                                                ...  \n",
       "content/examples/javascript/primitive-types.html                    1\n",
       "content/examples/javascript/conditionals.html                       1\n",
       "2-storytelling/1-overview/www.qlik.com                              1\n",
       "syntax-types-and-variables                                          1\n",
       "appendix/professional-development/post-interview-review-form        1\n",
       "Name: lesson, Length: 2224, dtype: int64"
      ]
     },
     "execution_count": 10,
     "metadata": {},
     "output_type": "execute_result"
    }
   ],
   "source": [
    "logs_df['lesson'].value_counts()"
   ]
  },
  {
   "cell_type": "code",
   "execution_count": 11,
   "id": "1db9bc05-c6f8-424f-b169-6e16b9b5ff65",
   "metadata": {},
   "outputs": [
    {
     "data": {
      "text/plain": [
       "Staff      84031\n",
       "Ceres      40730\n",
       "Zion       38096\n",
       "Jupiter    37109\n",
       "Fortuna    36902\n",
       "Name: cohort, dtype: int64"
      ]
     },
     "execution_count": 11,
     "metadata": {},
     "output_type": "execute_result"
    }
   ],
   "source": [
    "logs_df['cohort'].value_counts().head()\n"
   ]
  },
  {
   "cell_type": "code",
   "execution_count": 12,
   "id": "16cb0e40-b539-4b7b-9187-fbf7312e0e82",
   "metadata": {},
   "outputs": [
    {
     "data": {
      "text/plain": [
       "web dev         743913\n",
       "data science    103412\n",
       "frontend             5\n",
       "Name: program, dtype: int64"
      ]
     },
     "execution_count": 12,
     "metadata": {},
     "output_type": "execute_result"
    }
   ],
   "source": [
    "logs_df['program'].value_counts().head()\n"
   ]
  },
  {
   "cell_type": "code",
   "execution_count": 13,
   "id": "c582a594-98fb-49eb-b72a-537a9f91a18a",
   "metadata": {},
   "outputs": [],
   "source": [
    "# Group the DataFrame by program_id, lesson, and name, and count the occurrences\n",
    "grouped_traffic = logs_df.groupby(['program', 'lesson', 'cohort']) \\\n",
    "                    .size().reset_index(name='count')\n",
    "\n",
    "# Sort the grouped DataFrame by count in descending order\n",
    "top_lessons = grouped_traffic.sort_values('count', ascending=False)\n",
    "\n",
    "# Filter the top lessons for program_id 1, excluding lessons like '/', 'appendix', 'index.html'\n",
    "top_lessons_program_1 = top_lessons[\n",
    "    (top_lessons['program'] == 1) &\n",
    "    (~top_lessons['lesson'].isin(['/', 'appendix', 'index.html']))\n",
    "].head(10)"
   ]
  },
  {
   "cell_type": "code",
   "execution_count": 14,
   "id": "50a7203a-5c4b-4f2e-b1fe-10424f5ea073",
   "metadata": {},
   "outputs": [
    {
     "data": {
      "text/html": [
       "<div>\n",
       "<style scoped>\n",
       "    .dataframe tbody tr th:only-of-type {\n",
       "        vertical-align: middle;\n",
       "    }\n",
       "\n",
       "    .dataframe tbody tr th {\n",
       "        vertical-align: top;\n",
       "    }\n",
       "\n",
       "    .dataframe thead th {\n",
       "        text-align: right;\n",
       "    }\n",
       "</style>\n",
       "<table border=\"1\" class=\"dataframe\">\n",
       "  <thead>\n",
       "    <tr style=\"text-align: right;\">\n",
       "      <th></th>\n",
       "      <th>lesson</th>\n",
       "      <th>user_id</th>\n",
       "      <th>cohort</th>\n",
       "      <th>program_id</th>\n",
       "      <th>ip</th>\n",
       "      <th>start_date</th>\n",
       "      <th>end_date</th>\n",
       "      <th>program</th>\n",
       "    </tr>\n",
       "  </thead>\n",
       "  <tbody>\n",
       "    <tr>\n",
       "      <th>0</th>\n",
       "      <td>/</td>\n",
       "      <td>1</td>\n",
       "      <td>Hampton</td>\n",
       "      <td>1</td>\n",
       "      <td>97.105.19.61</td>\n",
       "      <td>2015-09-22</td>\n",
       "      <td>2016-02-06</td>\n",
       "      <td>web dev</td>\n",
       "    </tr>\n",
       "    <tr>\n",
       "      <th>1</th>\n",
       "      <td>java-ii</td>\n",
       "      <td>1</td>\n",
       "      <td>Hampton</td>\n",
       "      <td>1</td>\n",
       "      <td>97.105.19.61</td>\n",
       "      <td>2015-09-22</td>\n",
       "      <td>2016-02-06</td>\n",
       "      <td>web dev</td>\n",
       "    </tr>\n",
       "    <tr>\n",
       "      <th>2</th>\n",
       "      <td>java-ii/object-oriented-programming</td>\n",
       "      <td>1</td>\n",
       "      <td>Hampton</td>\n",
       "      <td>1</td>\n",
       "      <td>97.105.19.61</td>\n",
       "      <td>2015-09-22</td>\n",
       "      <td>2016-02-06</td>\n",
       "      <td>web dev</td>\n",
       "    </tr>\n",
       "    <tr>\n",
       "      <th>3</th>\n",
       "      <td>slides/object_oriented_programming</td>\n",
       "      <td>1</td>\n",
       "      <td>Hampton</td>\n",
       "      <td>1</td>\n",
       "      <td>97.105.19.61</td>\n",
       "      <td>2015-09-22</td>\n",
       "      <td>2016-02-06</td>\n",
       "      <td>web dev</td>\n",
       "    </tr>\n",
       "    <tr>\n",
       "      <th>4</th>\n",
       "      <td>javascript-i/conditionals</td>\n",
       "      <td>2</td>\n",
       "      <td>Teddy</td>\n",
       "      <td>2</td>\n",
       "      <td>97.105.19.61</td>\n",
       "      <td>2018-01-08</td>\n",
       "      <td>2018-05-17</td>\n",
       "      <td>web dev</td>\n",
       "    </tr>\n",
       "    <tr>\n",
       "      <th>...</th>\n",
       "      <td>...</td>\n",
       "      <td>...</td>\n",
       "      <td>...</td>\n",
       "      <td>...</td>\n",
       "      <td>...</td>\n",
       "      <td>...</td>\n",
       "      <td>...</td>\n",
       "      <td>...</td>\n",
       "    </tr>\n",
       "    <tr>\n",
       "      <th>847325</th>\n",
       "      <td>jquery/personal-site</td>\n",
       "      <td>64</td>\n",
       "      <td>Staff</td>\n",
       "      <td>2</td>\n",
       "      <td>71.150.217.33</td>\n",
       "      <td>2014-02-04</td>\n",
       "      <td>2014-02-04</td>\n",
       "      <td>web dev</td>\n",
       "    </tr>\n",
       "    <tr>\n",
       "      <th>847326</th>\n",
       "      <td>jquery/mapbox-api</td>\n",
       "      <td>64</td>\n",
       "      <td>Staff</td>\n",
       "      <td>2</td>\n",
       "      <td>71.150.217.33</td>\n",
       "      <td>2014-02-04</td>\n",
       "      <td>2014-02-04</td>\n",
       "      <td>web dev</td>\n",
       "    </tr>\n",
       "    <tr>\n",
       "      <th>847327</th>\n",
       "      <td>jquery/ajax/weather-map</td>\n",
       "      <td>64</td>\n",
       "      <td>Staff</td>\n",
       "      <td>2</td>\n",
       "      <td>71.150.217.33</td>\n",
       "      <td>2014-02-04</td>\n",
       "      <td>2014-02-04</td>\n",
       "      <td>web dev</td>\n",
       "    </tr>\n",
       "    <tr>\n",
       "      <th>847328</th>\n",
       "      <td>anomaly-detection/discrete-probabilistic-methods</td>\n",
       "      <td>744</td>\n",
       "      <td>Staff</td>\n",
       "      <td>2</td>\n",
       "      <td>24.160.137.86</td>\n",
       "      <td>2014-02-04</td>\n",
       "      <td>2014-02-04</td>\n",
       "      <td>web dev</td>\n",
       "    </tr>\n",
       "    <tr>\n",
       "      <th>847329</th>\n",
       "      <td>jquery/mapbox-api</td>\n",
       "      <td>64</td>\n",
       "      <td>Staff</td>\n",
       "      <td>2</td>\n",
       "      <td>71.150.217.33</td>\n",
       "      <td>2014-02-04</td>\n",
       "      <td>2014-02-04</td>\n",
       "      <td>web dev</td>\n",
       "    </tr>\n",
       "  </tbody>\n",
       "</table>\n",
       "<p>847330 rows × 8 columns</p>\n",
       "</div>"
      ],
      "text/plain": [
       "                                                  lesson  user_id   cohort  \\\n",
       "0                                                      /        1  Hampton   \n",
       "1                                                java-ii        1  Hampton   \n",
       "2                    java-ii/object-oriented-programming        1  Hampton   \n",
       "3                     slides/object_oriented_programming        1  Hampton   \n",
       "4                              javascript-i/conditionals        2    Teddy   \n",
       "...                                                  ...      ...      ...   \n",
       "847325                              jquery/personal-site       64    Staff   \n",
       "847326                                 jquery/mapbox-api       64    Staff   \n",
       "847327                           jquery/ajax/weather-map       64    Staff   \n",
       "847328  anomaly-detection/discrete-probabilistic-methods      744    Staff   \n",
       "847329                                 jquery/mapbox-api       64    Staff   \n",
       "\n",
       "        program_id             ip  start_date    end_date  program  \n",
       "0                1   97.105.19.61  2015-09-22  2016-02-06  web dev  \n",
       "1                1   97.105.19.61  2015-09-22  2016-02-06  web dev  \n",
       "2                1   97.105.19.61  2015-09-22  2016-02-06  web dev  \n",
       "3                1   97.105.19.61  2015-09-22  2016-02-06  web dev  \n",
       "4                2   97.105.19.61  2018-01-08  2018-05-17  web dev  \n",
       "...            ...            ...         ...         ...      ...  \n",
       "847325           2  71.150.217.33  2014-02-04  2014-02-04  web dev  \n",
       "847326           2  71.150.217.33  2014-02-04  2014-02-04  web dev  \n",
       "847327           2  71.150.217.33  2014-02-04  2014-02-04  web dev  \n",
       "847328           2  24.160.137.86  2014-02-04  2014-02-04  web dev  \n",
       "847329           2  71.150.217.33  2014-02-04  2014-02-04  web dev  \n",
       "\n",
       "[847330 rows x 8 columns]"
      ]
     },
     "execution_count": 14,
     "metadata": {},
     "output_type": "execute_result"
    }
   ],
   "source": [
    "logs_df"
   ]
  },
  {
   "cell_type": "markdown",
   "id": "ca0ac98e-1832-480e-8e04-92bd5f93ee7b",
   "metadata": {},
   "source": [
    "### A function was created to identify the most trafficked lesson per Program accross Cohorts and these are the results "
   ]
  },
  {
   "cell_type": "code",
   "execution_count": null,
   "id": "1fc8817d-ac6c-4bf7-9843-6befc95b5fa3",
   "metadata": {},
   "outputs": [],
   "source": [
    "# # Define a function to get top lessons by program across cohorts\n",
    "# def get_top_lessons_by_program(logs_df, program):\n",
    "#     grouped_traffic = logs_df.groupby(['program', 'lesson', 'cohort']) \\\n",
    "#                         .size().reset_index(name='count')\n",
    "#     top_lessons = grouped_traffic.sort_values('count', ascending=False)\n",
    "    \n",
    "#     # Filter for the specified program and remove unwanted lessons\n",
    "#     program_top_lessons = top_lessons[\n",
    "#         (top_lessons['program'] == program) &\n",
    "#         (~top_lessons['lesson'].isin(['/', 'appendix', 'index.html']))\n",
    "#     ]\n",
    "    \n",
    "#     # Get the top lesson across cohorts for the program\n",
    "#     top_lesson_across_cohorts = program_top_lessons.groupby('lesson')['count'].size().idxmax()\n",
    "    \n",
    "#     return program_top_lessons.head(10), top_lesson_across_cohorts"
   ]
  },
  {
   "cell_type": "code",
   "execution_count": 15,
   "id": "accea8a5-9690-434d-9db3-ec342f14b541",
   "metadata": {},
   "outputs": [
    {
     "name": "stdout",
     "output_type": "stream",
     "text": [
      "Top Lesson Across Cohorts for Program Web Development:\n",
      "html-css\n"
     ]
    }
   ],
   "source": [
    "# Call the function to get top lessons for web dev and cohorts\n",
    "top_lessons_program_wd, top_lesson_across_cohorts_wd = e.get_top_lessons_by_program(logs_df, program='web dev')\n",
    "\"Top Lessons for Program web development:\"\n",
    "top_lessons_program_wd\n",
    "\n",
    "print(\"Top Lesson Across Cohorts for Program Web Development:\")\n",
    "print(top_lesson_across_cohorts_wd)"
   ]
  },
  {
   "cell_type": "code",
   "execution_count": 16,
   "id": "e5a6c07b-2852-48f7-ae4d-54911ca7b30c",
   "metadata": {},
   "outputs": [
    {
     "name": "stdout",
     "output_type": "stream",
     "text": [
      "Top Lesson Across Cohorts for Program Data  Science:\n",
      "1-fundamentals/1.1-intro-to-data-science\n"
     ]
    }
   ],
   "source": [
    "# Call the function to get top lessons for data science across cohorts\n",
    "top_lessons_program_ds, top_lesson_across_cohorts_ds =e. get_top_lessons_by_program(logs_df, program='data science')\n",
    "\"Top Lessons for Program data science:\"\n",
    "top_lessons_program_ds\n",
    "\n",
    "print(\"Top Lesson Across Cohorts for Program Data  Science:\")\n",
    "print(top_lesson_across_cohorts_ds)"
   ]
  },
  {
   "cell_type": "code",
   "execution_count": 17,
   "id": "d7ced423-c355-4671-9fde-9f0fb1ec3e88",
   "metadata": {},
   "outputs": [
    {
     "name": "stdout",
     "output_type": "stream",
     "text": [
      "Top Lesson Across Cohorts for Program Front-end\n",
      "content/html-css\n"
     ]
    }
   ],
   "source": [
    "# Call the function to get top lessons for data science across cohorts\n",
    "top_lessons_program_fe, top_lesson_across_cohorts_fe = e.get_top_lessons_by_program(logs_df, program='frontend')\n",
    "\"Top Lessons for Program Frontend:\"\n",
    "top_lessons_program_fe\n",
    "\n",
    "print(\"Top Lesson Across Cohorts for Program Front-end\")\n",
    "print(top_lesson_across_cohorts_fe)"
   ]
  },
  {
   "cell_type": "code",
   "execution_count": 18,
   "id": "f5ae0e0a-98d0-4a9c-a476-9de05fa9ad40",
   "metadata": {},
   "outputs": [
    {
     "data": {
      "text/plain": [
       "'1-fundamentals/1.1-intro-to-data-science'"
      ]
     },
     "execution_count": 18,
     "metadata": {},
     "output_type": "execute_result"
    }
   ],
   "source": [
    "top_lesson_across_cohorts_ds"
   ]
  },
  {
   "cell_type": "markdown",
   "id": "687e0035-f2da-4269-a181-f3a8d2a42452",
   "metadata": {
    "tags": []
   },
   "source": [
    "# 7. Which lessons are least accessed?\n"
   ]
  },
  {
   "cell_type": "code",
   "execution_count": null,
   "id": "0c36ddfe-5273-4652-9ccb-8e7f5ddcee10",
   "metadata": {},
   "outputs": [],
   "source": [
    "# Call the function to get top lessons for web dev and cohorts\n",
    "least_lessons_program_wd, least_lesson_across_cohorts_wd = get_least_accessed_lessons(logs_df, program='web dev')\n",
    "\"Least Accessed Lessons for Program web development:\"\n",
    "least_lessons_program_wd\n",
    "\n",
    "print(\"Least Accessed Lessons Across Cohorts for Program Web Development:\")\n",
    "print(least_lesson_across_cohorts_wd)"
   ]
  },
  {
   "cell_type": "code",
   "execution_count": null,
   "id": "83b0b7eb-b0ed-46cd-ab35-92251ec661c5",
   "metadata": {},
   "outputs": [],
   "source": [
    " #Call the function to get top lessons for web dev and cohorts\n",
    "least_lessons_program_ds, top_lesson_across_cohorts_ds = get_least_accessed_lessons(logs_df, program='data science')\n",
    "\"Least Accessed Lessons for Program Web Development:\"\n",
    "least_lessons_program_wd\n",
    "\n",
    "print(\"Least Accessed Across Cohorts for Program Data Science:\")\n",
    "print(least_lesson_across_cohorts_ds)"
   ]
  },
  {
   "cell_type": "code",
   "execution_count": null,
   "id": "92ec34ab-b45d-4422-aeec-cfc873d4dbe6",
   "metadata": {},
   "outputs": [],
   "source": [
    "#Call the function to get top lessons for web dev and cohorts\n",
    "top_lessons_program_wd, top_lesson_across_cohorts_wd = get_least_accessed_lessons(logs_df, program='web dev')\n",
    "\"Least Accessed Lessons for Program web development:\"\n",
    "least_lessons_program_wd\n",
    "\n",
    "print(\"Least Accessed Lessons Across Cohorts for Program Web Development:\")\n",
    "print(least_lesson_across_cohorts_wd)"
   ]
  },
  {
   "cell_type": "code",
   "execution_count": 21,
   "id": "ed568e99-b663-490a-ac32-b237b3710edf",
   "metadata": {},
   "outputs": [],
   "source": [
    "# Define a function to get least frequented lessons \n",
    "\n",
    "def get_least_accessed_lessons(logs_df, program):\n",
    "    grouped_traffic = logs_df.groupby(['program', 'lesson', 'cohort']) \\\n",
    "                        .size().reset_index(name='count')\n",
    "    least_accessed_lessons = grouped_traffic.sort_values('count', ascending=True)\n",
    "    \n",
    "    # Filter for the specified program and remove unwanted lessons\n",
    "    program_least_accessed_lessons = least_accessed_lessons[\n",
    "        (least_accessed_lessons['program'] == program) &\n",
    "        (~least_accessed_lessons['lesson'].isin(['/', 'appendix', 'index.html']))\n",
    "    ]\n",
    "    \n",
    "    # Get the least accessed lesson across cohorts for the program\n",
    "    least_accessed_lesson_across_cohorts = program_least_accessed_lessons.groupby('lesson')['count'].size().idmax()\n",
    "    \n",
    "    return program_least_accessed_lessons.head(10), least_accessed_lesson_across_cohorts"
   ]
  },
  {
   "cell_type": "code",
   "execution_count": 22,
   "id": "c085d6b0-2a41-4db7-b301-316b04c0ffab",
   "metadata": {},
   "outputs": [
    {
     "ename": "NameError",
     "evalue": "name 'least_accessed_lesson_across_cohorts_ds' is not defined",
     "output_type": "error",
     "traceback": [
      "\u001b[0;31m---------------------------------------------------------------------------\u001b[0m",
      "\u001b[0;31mNameError\u001b[0m                                 Traceback (most recent call last)",
      "Cell \u001b[0;32mIn[22], line 1\u001b[0m\n\u001b[0;32m----> 1\u001b[0m \u001b[43mleast_accessed_lesson_across_cohorts_ds\u001b[49m\n",
      "\u001b[0;31mNameError\u001b[0m: name 'least_accessed_lesson_across_cohorts_ds' is not defined"
     ]
    }
   ],
   "source": [
    "least_accessed_lesson_across_cohorts_ds"
   ]
  },
  {
   "cell_type": "code",
   "execution_count": 23,
   "id": "275eeb94-c227-4fee-ad4f-ea20f34587dc",
   "metadata": {},
   "outputs": [
    {
     "ename": "AttributeError",
     "evalue": "'Series' object has no attribute 'idmin'",
     "output_type": "error",
     "traceback": [
      "\u001b[0;31m---------------------------------------------------------------------------\u001b[0m",
      "\u001b[0;31mAttributeError\u001b[0m                            Traceback (most recent call last)",
      "Cell \u001b[0;32mIn[23], line 2\u001b[0m\n\u001b[1;32m      1\u001b[0m \u001b[38;5;66;03m# Call the function to get least accessed lessons for Data Science and Frontend programs\u001b[39;00m\n\u001b[0;32m----> 2\u001b[0m least_accessed_lessons_ds, least_accessed_lesson_across_cohorts_ds \u001b[38;5;241m=\u001b[39m \u001b[43mget_least_accessed_lessons\u001b[49m\u001b[43m(\u001b[49m\u001b[43mlogs_df\u001b[49m\u001b[43m,\u001b[49m\u001b[43m \u001b[49m\u001b[43mprogram\u001b[49m\u001b[38;5;241;43m=\u001b[39;49m\u001b[38;5;124;43m'\u001b[39;49m\u001b[38;5;124;43mdata science\u001b[39;49m\u001b[38;5;124;43m'\u001b[39;49m\u001b[43m)\u001b[49m\n\u001b[1;32m      3\u001b[0m least_accessed_lessons_fe, least_accessed_lesson_across_cohorts_fe \u001b[38;5;241m=\u001b[39m get_least_accessed_lessons(logs_df, program\u001b[38;5;241m=\u001b[39m\u001b[38;5;124m'\u001b[39m\u001b[38;5;124mfrontend\u001b[39m\u001b[38;5;124m'\u001b[39m)\n",
      "Cell \u001b[0;32mIn[21], line 15\u001b[0m, in \u001b[0;36mget_least_accessed_lessons\u001b[0;34m(logs_df, program)\u001b[0m\n\u001b[1;32m      9\u001b[0m program_least_accessed_lessons \u001b[38;5;241m=\u001b[39m least_accessed_lessons[\n\u001b[1;32m     10\u001b[0m     (least_accessed_lessons[\u001b[38;5;124m'\u001b[39m\u001b[38;5;124mprogram\u001b[39m\u001b[38;5;124m'\u001b[39m] \u001b[38;5;241m==\u001b[39m program) \u001b[38;5;241m&\u001b[39m\n\u001b[1;32m     11\u001b[0m     (\u001b[38;5;241m~\u001b[39mleast_accessed_lessons[\u001b[38;5;124m'\u001b[39m\u001b[38;5;124mlesson\u001b[39m\u001b[38;5;124m'\u001b[39m]\u001b[38;5;241m.\u001b[39misin([\u001b[38;5;124m'\u001b[39m\u001b[38;5;124m/\u001b[39m\u001b[38;5;124m'\u001b[39m, \u001b[38;5;124m'\u001b[39m\u001b[38;5;124mappendix\u001b[39m\u001b[38;5;124m'\u001b[39m, \u001b[38;5;124m'\u001b[39m\u001b[38;5;124mindex.html\u001b[39m\u001b[38;5;124m'\u001b[39m]))\n\u001b[1;32m     12\u001b[0m ]\n\u001b[1;32m     14\u001b[0m \u001b[38;5;66;03m# Get the least accessed lesson across cohorts for the program\u001b[39;00m\n\u001b[0;32m---> 15\u001b[0m least_accessed_lesson_across_cohorts \u001b[38;5;241m=\u001b[39m \u001b[43mprogram_least_accessed_lessons\u001b[49m\u001b[38;5;241;43m.\u001b[39;49m\u001b[43mgroupby\u001b[49m\u001b[43m(\u001b[49m\u001b[38;5;124;43m'\u001b[39;49m\u001b[38;5;124;43mlesson\u001b[39;49m\u001b[38;5;124;43m'\u001b[39;49m\u001b[43m)\u001b[49m\u001b[43m[\u001b[49m\u001b[38;5;124;43m'\u001b[39;49m\u001b[38;5;124;43mcount\u001b[39;49m\u001b[38;5;124;43m'\u001b[39;49m\u001b[43m]\u001b[49m\u001b[38;5;241;43m.\u001b[39;49m\u001b[43msize\u001b[49m\u001b[43m(\u001b[49m\u001b[43m)\u001b[49m\u001b[38;5;241;43m.\u001b[39;49m\u001b[43midmin\u001b[49m()\n\u001b[1;32m     17\u001b[0m \u001b[38;5;28;01mreturn\u001b[39;00m program_least_accessed_lessons\u001b[38;5;241m.\u001b[39mhead(\u001b[38;5;241m10\u001b[39m), least_accessed_lesson_across_cohorts\n",
      "File \u001b[0;32m/opt/homebrew/anaconda3/lib/python3.10/site-packages/pandas/core/generic.py:5902\u001b[0m, in \u001b[0;36mNDFrame.__getattr__\u001b[0;34m(self, name)\u001b[0m\n\u001b[1;32m   5895\u001b[0m \u001b[38;5;28;01mif\u001b[39;00m (\n\u001b[1;32m   5896\u001b[0m     name \u001b[38;5;129;01mnot\u001b[39;00m \u001b[38;5;129;01min\u001b[39;00m \u001b[38;5;28mself\u001b[39m\u001b[38;5;241m.\u001b[39m_internal_names_set\n\u001b[1;32m   5897\u001b[0m     \u001b[38;5;129;01mand\u001b[39;00m name \u001b[38;5;129;01mnot\u001b[39;00m \u001b[38;5;129;01min\u001b[39;00m \u001b[38;5;28mself\u001b[39m\u001b[38;5;241m.\u001b[39m_metadata\n\u001b[1;32m   5898\u001b[0m     \u001b[38;5;129;01mand\u001b[39;00m name \u001b[38;5;129;01mnot\u001b[39;00m \u001b[38;5;129;01min\u001b[39;00m \u001b[38;5;28mself\u001b[39m\u001b[38;5;241m.\u001b[39m_accessors\n\u001b[1;32m   5899\u001b[0m     \u001b[38;5;129;01mand\u001b[39;00m \u001b[38;5;28mself\u001b[39m\u001b[38;5;241m.\u001b[39m_info_axis\u001b[38;5;241m.\u001b[39m_can_hold_identifiers_and_holds_name(name)\n\u001b[1;32m   5900\u001b[0m ):\n\u001b[1;32m   5901\u001b[0m     \u001b[38;5;28;01mreturn\u001b[39;00m \u001b[38;5;28mself\u001b[39m[name]\n\u001b[0;32m-> 5902\u001b[0m \u001b[38;5;28;01mreturn\u001b[39;00m \u001b[38;5;28;43mobject\u001b[39;49m\u001b[38;5;241;43m.\u001b[39;49m\u001b[38;5;21;43m__getattribute__\u001b[39;49m\u001b[43m(\u001b[49m\u001b[38;5;28;43mself\u001b[39;49m\u001b[43m,\u001b[49m\u001b[43m \u001b[49m\u001b[43mname\u001b[49m\u001b[43m)\u001b[49m\n",
      "\u001b[0;31mAttributeError\u001b[0m: 'Series' object has no attribute 'idmin'"
     ]
    }
   ],
   "source": [
    "# Call the function to get least accessed lessons for Data Science and Frontend programs\n",
    "least_accessed_lessons_ds, least_accessed_lesson_across_cohorts_ds = get_least_accessed_lessons(logs_df, program='data science')\n",
    "least_accessed_lessons_fe, least_accessed_lesson_across_cohorts_fe = get_least_accessed_lessons(logs_df, program='frontend')"
   ]
  },
  {
   "cell_type": "markdown",
   "id": "6a9e6926-b7cb-4ae8-83a1-bd5242d45b49",
   "metadata": {},
   "source": [
    "# EXPLORE "
   ]
  },
  {
   "cell_type": "code",
   "execution_count": 25,
   "id": "f9b3467f-7222-4999-86cb-d427f3e420b9",
   "metadata": {},
   "outputs": [
    {
     "ename": "AttributeError",
     "evalue": "'str' object has no attribute 'values'",
     "output_type": "error",
     "traceback": [
      "\u001b[0;31m---------------------------------------------------------------------------\u001b[0m",
      "\u001b[0;31mAttributeError\u001b[0m                            Traceback (most recent call last)",
      "Cell \u001b[0;32mIn[25], line 18\u001b[0m\n\u001b[1;32m     15\u001b[0m axes[\u001b[38;5;241m0\u001b[39m, \u001b[38;5;241m0\u001b[39m]\u001b[38;5;241m.\u001b[39mset_ylabel(\u001b[38;5;124m'\u001b[39m\u001b[38;5;124mCount\u001b[39m\u001b[38;5;124m'\u001b[39m)\n\u001b[1;32m     16\u001b[0m axes[\u001b[38;5;241m0\u001b[39m, \u001b[38;5;241m0\u001b[39m]\u001b[38;5;241m.\u001b[39mtick_params(axis\u001b[38;5;241m=\u001b[39m\u001b[38;5;124m'\u001b[39m\u001b[38;5;124mx\u001b[39m\u001b[38;5;124m'\u001b[39m, rotation\u001b[38;5;241m=\u001b[39m\u001b[38;5;241m45\u001b[39m)\n\u001b[0;32m---> 18\u001b[0m axes[\u001b[38;5;241m0\u001b[39m, \u001b[38;5;241m1\u001b[39m]\u001b[38;5;241m.\u001b[39mbar(top_lesson_across_cohorts_ds\u001b[38;5;241m.\u001b[39mindex, \u001b[43mtop_lesson_across_cohorts_ds\u001b[49m\u001b[38;5;241;43m.\u001b[39;49m\u001b[43mvalues\u001b[49m, color\u001b[38;5;241m=\u001b[39mcolor_palette[\u001b[38;5;241m1\u001b[39m])\n\u001b[1;32m     19\u001b[0m axes[\u001b[38;5;241m0\u001b[39m, \u001b[38;5;241m1\u001b[39m]\u001b[38;5;241m.\u001b[39mset_title(\u001b[38;5;124m'\u001b[39m\u001b[38;5;124mDistribution of Top Lesson Across Cohorts for Data Science Program\u001b[39m\u001b[38;5;124m'\u001b[39m)\n\u001b[1;32m     20\u001b[0m axes[\u001b[38;5;241m0\u001b[39m, \u001b[38;5;241m1\u001b[39m]\u001b[38;5;241m.\u001b[39mset_xlabel(\u001b[38;5;124m'\u001b[39m\u001b[38;5;124mLesson\u001b[39m\u001b[38;5;124m'\u001b[39m)\n",
      "\u001b[0;31mAttributeError\u001b[0m: 'str' object has no attribute 'values'"
     ]
    },
    {
     "data": {
      "image/png": "[encoded data removed]",
      "text/plain": [
       "<Figure size 1000x800 with 4 Axes>"
      ]
     },
     "metadata": {},
     "output_type": "display_data"
    }
   ],
   "source": [
    "# Define the color palette\n",
    "color_palette = ['#D16002', '#EC9706', '#7A3803']\n",
    "\n",
    "# Call the function to get top lessons for Data Science and Frontend programs\n",
    "top_lessons_program_ds, top_lesson_across_cohorts_ds = e.get_top_lessons_by_program(logs_df, program='data science')\n",
    "top_lessons_program_fe, top_lesson_across_cohorts_fe = e.get_top_lessons_by_program(logs_df, program='frontend')\n",
    "\n",
    "# Create subplots for the histograms\n",
    "fig, axes = plt.subplots(2, 2, figsize=(10, 8))\n",
    "\n",
    "# Plot histograms for Data Science program\n",
    "axes[0, 0].bar(top_lessons_program_ds['lesson'], top_lessons_program_ds['count'], color=color_palette[0])\n",
    "axes[0, 0].set_title('Top Lessons for Data Science Program')\n",
    "axes[0, 0].set_xlabel('Lesson')\n",
    "axes[0, 0].set_ylabel('Count')\n",
    "axes[0, 0].tick_params(axis='x', rotation=45)\n",
    "\n",
    "axes[0, 1].bar(top_lesson_across_cohorts_ds.index, top_lesson_across_cohorts_ds.values, color=color_palette[1])\n",
    "axes[0, 1].set_title('Distribution of Top Lesson Across Cohorts for Data Science Program')\n",
    "axes[0, 1].set_xlabel('Lesson')\n",
    "axes[0, 1].set_ylabel('Count')\n",
    "axes[0, 1].tick_params(axis='x', rotation=45)\n",
    "\n",
    "# Plot histograms for Frontend program\n",
    "axes[1, 0].bar(top_lessons_program_fe['lesson'], top_lessons_program_fe['count'], color=color_palette[2])\n",
    "axes[1, 0].set_title('Top Lessons for Frontend Program')\n",
    "axes[1, 0].set_xlabel('Lesson')\n",
    "axes[1, 0].set_ylabel('Count')\n",
    "axes[1, 0].tick_params(axis='x', rotation=45)\n",
    "\n",
    "axes[1, 1].bar(top_lesson_across_cohorts_fe.index, top_lesson_across_cohorts_fe.values, color=color_palette[0])\n",
    "axes[1, 1].set_title('Distribution of Top Lesson Across Cohorts for Frontend Program')\n",
    "axes[1, 1].set_xlabel('Lesson')\n",
    "axes[1, 1].set_ylabel('Count')\n",
    "axes[1, 1].tick_params(axis='x', rotation=45)\n",
    "\n",
    "plt.tight_layout()\n",
    "plt.show()\n"
   ]
  }
 ],
 "metadata": {
  "kernelspec": {
   "display_name": "Python 3 (ipykernel)",
   "language": "python",
   "name": "python3"
  },
  "language_info": {
   "codemirror_mode": {
    "name": "ipython",
    "version": 3
   },
   "file_extension": ".py",
   "mimetype": "text/x-python",
   "name": "python",
   "nbconvert_exporter": "python",
   "pygments_lexer": "ipython3",
   "version": "3.10.9"
  }
 },
 "nbformat": 4,
 "nbformat_minor": 5
}
