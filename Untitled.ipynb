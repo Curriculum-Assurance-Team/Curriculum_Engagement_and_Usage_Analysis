{
 "cells": [
  {
   "cell_type": "code",
   "execution_count": 1,
   "id": "47fe2b69",
   "metadata": {},
   "outputs": [],
   "source": [
    "import pandas as pd"
   ]
  },
  {
   "cell_type": "code",
   "execution_count": 2,
   "id": "f6d9117e",
   "metadata": {},
   "outputs": [
    {
     "ename": "IndexError",
     "evalue": "list index out of range",
     "output_type": "error",
     "traceback": [
      "\u001b[0;31m---------------------------------------------------------------------------\u001b[0m",
      "\u001b[0;31mIndexError\u001b[0m                                Traceback (most recent call last)",
      "Cell \u001b[0;32mIn[2], line 10\u001b[0m\n\u001b[1;32m      8\u001b[0m         user_id \u001b[38;5;241m=\u001b[39m parts[\u001b[38;5;241m3\u001b[39m]\n\u001b[1;32m      9\u001b[0m         cohort_id \u001b[38;5;241m=\u001b[39m parts[\u001b[38;5;241m4\u001b[39m]\n\u001b[0;32m---> 10\u001b[0m         ip_address \u001b[38;5;241m=\u001b[39m \u001b[43mparts\u001b[49m\u001b[43m[\u001b[49m\u001b[38;5;241;43m5\u001b[39;49m\u001b[43m]\u001b[49m\n\u001b[1;32m     11\u001b[0m         data\u001b[38;5;241m.\u001b[39mappend((timestamp, lesson, user_id, cohort_id, ip_address))\n\u001b[1;32m     13\u001b[0m \u001b[38;5;66;03m# Create a DataFrame\u001b[39;00m\n",
      "\u001b[0;31mIndexError\u001b[0m: list index out of range"
     ]
    }
   ],
   "source": [
    "# Read the log file line by line and split each line\n",
    "data = []\n",
    "with open('anonymized-curriculum-access.txt', 'r') as file:\n",
    "    for line in enumerate(file):\n",
    "        print(i)\n",
    "        parts = line.strip().split()\n",
    "        timestamp = ' '.join(parts[:2])\n",
    "        lesson = parts[2]\n",
    "        user_id = parts[3]\n",
    "        cohort_id = parts[4]\n",
    "        ip_address = parts[5]\n",
    "        data.append((timestamp, lesson, user_id, cohort_id, ip_address))\n",
    "\n",
    "# Create a DataFrame\n",
    "columns = ['timestamp', 'lesson', 'user_id', 'cohort_id', 'ip_address']\n",
    "df = pd.DataFrame(data, columns=columns)\n",
    "\n",
    "# Display the DataFrame\n",
    "print(df)"
   ]
  },
  {
   "cell_type": "code",
   "execution_count": 9,
   "id": "6a243489",
   "metadata": {},
   "outputs": [
    {
     "name": "stdout",
     "output_type": "stream",
     "text": [
      "97.105.19.61\n",
      "97.105.19.61\n",
      "97.105.19.61\n",
      "97.105.19.61\n",
      "97.105.19.61\n"
     ]
    }
   ],
   "source": [
    "with open('anonymized-curriculum-access.txt', 'r') as file:\n",
    "    for i, line in enumerate(file):\n",
    "        parts = line.strip().split()\n",
    "        timestamp = ' '.join(parts[:2])\n",
    "        print(parts[5])\n",
    "        \n",
    "        if i > 3: \n",
    "            break"
   ]
  },
  {
   "cell_type": "code",
   "execution_count": null,
   "id": "afe3d0c8",
   "metadata": {},
   "outputs": [],
   "source": []
  }
 ],
 "metadata": {
  "kernelspec": {
   "display_name": "Python 3 (ipykernel)",
   "language": "python",
   "name": "python3"
  },
  "language_info": {
   "codemirror_mode": {
    "name": "ipython",
    "version": 3
   },
   "file_extension": ".py",
   "mimetype": "text/x-python",
   "name": "python",
   "nbconvert_exporter": "python",
   "pygments_lexer": "ipython3",
   "version": "3.10.9"
  },
  "varInspector": {
   "cols": {
    "lenName": 16,
    "lenType": 16,
    "lenVar": 40
   },
   "kernels_config": {
    "python": {
     "delete_cmd_postfix": "",
     "delete_cmd_prefix": "del ",
     "library": "var_list.py",
     "varRefreshCmd": "print(var_dic_list())"
    },
    "r": {
     "delete_cmd_postfix": ") ",
     "delete_cmd_prefix": "rm(",
     "library": "var_list.r",
     "varRefreshCmd": "cat(var_dic_list()) "
    }
   },
   "types_to_exclude": [
    "module",
    "function",
    "builtin_function_or_method",
    "instance",
    "_Feature"
   ],
   "window_display": false
  }
 },
 "nbformat": 4,
 "nbformat_minor": 5
}
